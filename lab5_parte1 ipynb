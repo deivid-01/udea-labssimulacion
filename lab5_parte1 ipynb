{
  "nbformat": 4,
  "nbformat_minor": 0,
  "metadata": {
    "kernelspec": {
      "display_name": "Python 3",
      "language": "python",
      "name": "python3"
    },
    "language_info": {
      "codemirror_mode": {
        "name": "ipython",
        "version": 3
      },
      "file_extension": ".py",
      "mimetype": "text/x-python",
      "name": "python",
      "nbconvert_exporter": "python",
      "pygments_lexer": "ipython3",
      "version": "3.6.9"
    },
    "colab": {
      "name": "lab5_parte1.ipynb",
      "provenance": [],
      "collapsed_sections": [],
      "toc_visible": true
    }
  },
  "cells": [
    {
      "cell_type": "markdown",
      "metadata": {
        "id": "XrfDiFHOUHIf"
      },
      "source": [
        "<a href=\"https://colab.research.google.com/github/jdariasl/ML_2020/blob/master/Labs/lab5/lab5_parte1.ipynb\">\n",
        "    <img src=\"https://colab.research.google.com/assets/colab-badge.svg\" alt=\"Open In Colab\"/></a>\n",
        "\n",
        "**Recuerda que una vez abierto, Da clic en \"Copiar en Drive\", de lo contrario no podras almacenar tu progreso**\n",
        "\n",
        "Nota: no olvide ir ejecutando las celdas de código de arriba hacia abajo para que no tenga errores de importación de librerías o por falta de definición de variables."
      ]
    },
    {
      "cell_type": "code",
      "metadata": {
        "id": "L6q8_ixzUHIg",
        "colab": {
          "base_uri": "https://localhost:8080/"
        },
        "outputId": "250e4fd3-fb87-4222-c092-42bee94b3d58"
      },
      "source": [
        "#configuración del laboratorio\n",
        "# Ejecuta esta celda!\n",
        "%load_ext autoreload\n",
        "%autoreload 2\n",
        "#for local \n",
        "#import sys ; sys.path.append('../commons/utils/')\n",
        "!wget https://raw.githubusercontent.com/jdariasl/ML_2020/master/Labs/commons/utils/general.py -O general.py --no-cache\n",
        "from general import configure_lab5_1\n",
        "configure_lab5_1()\n",
        "from lab5 import *\n",
        "GRADER, dataset = part_1()\n",
        "import neurolab as nl"
      ],
      "execution_count": 1,
      "outputs": [
        {
          "output_type": "stream",
          "text": [
            "--2020-11-20 03:15:47--  https://raw.githubusercontent.com/jdariasl/ML_2020/master/Labs/commons/utils/general.py\n",
            "Resolving raw.githubusercontent.com (raw.githubusercontent.com)... 151.101.0.133, 151.101.64.133, 151.101.128.133, ...\n",
            "Connecting to raw.githubusercontent.com (raw.githubusercontent.com)|151.101.0.133|:443... connected.\n",
            "HTTP request sent, awaiting response... 200 OK\n",
            "Length: 14117 (14K) [text/plain]\n",
            "Saving to: ‘general.py’\n",
            "\n",
            "\rgeneral.py            0%[                    ]       0  --.-KB/s               \rgeneral.py          100%[===================>]  13.79K  --.-KB/s    in 0s      \n",
            "\n",
            "2020-11-20 03:15:47 (32.6 MB/s) - ‘general.py’ saved [14117/14117]\n",
            "\n",
            "lab configuration started\n",
            "installing libraries\n",
            "downloading files\n",
            "lab configured\n"
          ],
          "name": "stdout"
        }
      ]
    },
    {
      "cell_type": "markdown",
      "metadata": {
        "id": "bpINIvigUHIj"
      },
      "source": [
        "# Laboratorio 5 - Parte 1: Redes recurrentes"
      ]
    },
    {
      "cell_type": "markdown",
      "metadata": {
        "id": "juJzpTmIUHIj"
      },
      "source": [
        "En este  laboratorio entrenaremos una Red Neuronal Recurrente para la predicción de una serie de tiempo. \n",
        "\n",
        "Este problema corresponde a una configuración many-to-one. \n",
        "\n",
        "En este caso usaremos una serie de tiempo que corresponde al número de pasajeros internacionales por mes, desde el año 1949 hasta el año 1960. \n",
        "\n",
        "En la siguiente celda visualizamos los datos."
      ]
    },
    {
      "cell_type": "code",
      "metadata": {
        "id": "3q8fueYYUHIk",
        "colab": {
          "base_uri": "https://localhost:8080/",
          "height": 331
        },
        "outputId": "65badc48-db90-43c7-9538-7c254b214c1f"
      },
      "source": [
        "# creamos una variable para\n",
        "# el tiempo\n",
        "Time = pd.date_range(np.datetime64('1949-01'), np.datetime64('1961-01'), freq='M')\n",
        "print(\"tenemos dispnible nuestra base de datos en el pandas DF 'dataset' \\n\")\n",
        "plt.plot(Time,dataset)\n",
        "plt.title('International airline passengers')\n",
        "plt.xlabel('Time (months)')\n",
        "plt.show()"
      ],
      "execution_count": 2,
      "outputs": [
        {
          "output_type": "stream",
          "text": [
            "tenemos dispnible nuestra base de datos en el pandas DF 'dataset' \n",
            "\n"
          ],
          "name": "stdout"
        },
        {
          "output_type": "display_data",
          "data": {
            "image/png": "[encoded data removed]",
            "text/plain": [
              "<Figure size 432x288 with 1 Axes>"
            ]
          },
          "metadata": {
            "tags": [],
            "needs_background": "light"
          }
        }
      ]
    },
    {
      "cell_type": "markdown",
      "metadata": {
        "id": "N0u19e8LUHIn"
      },
      "source": [
        "En nuestro primer ejercicio vamos a explorar, que relación existe entre una muestra con las muestras inmediantamente pasadas.La libreria statsmodel [tiene una función que nos sirve para analizar esta relación](https://www.statsmodels.org/stable/generated/statsmodels.graphics.tsaplots.plot_acf.html).\n",
        "\n",
        "\n",
        "## Ejercicio 1 - Exploración del problema\n",
        "\n",
        "Este plot realiza una operación cuyos detalles son explicados en mayor profundidad en [esta buena entrada de blog](https://machinelearningmastery.com/gentle-introduction-autocorrelation-partial-autocorrelation/). Pero nuestro laboratorio lo que no interesa es entender:\n",
        "\n",
        "1. El valor varia entre 1.0 y -1.0. \n",
        "2. Cuando el valor de la correlación es 1.0, corresponde el valor maximo indicando una relación positiva entre la variable y su correspondiente lag o retraso.\n",
        "3. Cuando el valor de la correlación es -1.0, corresponde el valor mínimo indicando una relación negativa entre la variable y su correspondiente lag o retraso..\n",
        "4. 0.0 indica que los valores no están relacionados.\n",
        "5. el lag indica, el número de retrasos. Si el valor de la correlación en el lag  5 es igual 0.75, indica una relación positiva alta entre el quinto retraso anterior en la mayoria de muestras de nuestra variable de respuesta.\n",
        "\n",
        "Ahora, grafiquemos la correlación para un maximo de 45 lags de nuestros datos"
      ]
    },
    {
      "cell_type": "code",
      "metadata": {
        "id": "zFanVFDdUHIn",
        "colab": {
          "base_uri": "https://localhost:8080/",
          "height": 444
        },
        "outputId": "201c5f70-6348-4987-9f55-a508d443a695"
      },
      "source": [
        "from statsmodels.graphics import tsaplots\n",
        "fig, ax = plt.subplots(figsize = (12,7))\n",
        "# Display the autocorrelation plot of your time series\n",
        "fig = tsaplots.plot_acf(dataset.passengers, lags=45, ax = ax)"
      ],
      "execution_count": 3,
      "outputs": [
        {
          "output_type": "display_data",
          "data": {
            "image/png": "[encoded data removed]",
            "text/plain": [
              "<Figure size 864x504 with 1 Axes>"
            ]
          },
          "metadata": {
            "tags": [],
            "needs_background": "light"
          }
        }
      ]
    },
    {
      "cell_type": "markdown",
      "metadata": {
        "id": "1CWoMbcjUHIp"
      },
      "source": [
        "reforzando el entendimiento de lo anterior,en la grafica podemos ver lo siguiente:\n",
        "1. cuando hay un lag = 5 (es decir evaluar que tan relacionadas estas las 5 muestras anteriores), tenemos una autocorrelación $\\approx$ 0.75 \n",
        "2. cuando hay un lag = 25 (es decir evaluar que tan relacionadas estas las 25 muestras anteriores), tenemos una autocorrelación $\\approx$ 0.5\n",
        "\n",
        "Ten en cuenta este analisis para responder la siguiente pregunta abierta"
      ]
    },
    {
      "cell_type": "code",
      "metadata": {
        "id": "qLp01IcGUHIq",
        "cellView": "form"
      },
      "source": [
        "#@title Pregunta Abierta\n",
        "#@markdown ¿Por qué es mas factible construir un modelo RNN con un retardo de 5 vs un retardo de 25? . Justifica con base a las anteriores explicaciones\n",
        "respuesta_1 = \"Dado que generalmente la correlacion entre cada retardo no es constante, sino que varia a lo largo del tiempo y esta variacion se de forma paulatina, asi que es mas factible escoger un retardo de 5, ya que va  haber mayor probabilidad de que el valor de correlacion no haya cambiado mucho comparado con uno de 25\" #@param {type:\"string\"}"
      ],
      "execution_count": 4,
      "outputs": []
    },
    {
      "cell_type": "markdown",
      "metadata": {
        "id": "N09BmOZOUHIr"
      },
      "source": [
        "Para aplicar la red recurrente, debemos transformar nuestros datos. La idea es alimentar los retrasos como caracteristicas a nuestro modelo. Para ello se propone esta función."
      ]
    },
    {
      "cell_type": "code",
      "metadata": {
        "id": "Zfk-zyGdUHIs"
      },
      "source": [
        "# convert an array of values into a dataset matrix\n",
        "def create_dataset(dataset, look_back=1):\n",
        "    \"\"\"funcion que crea dataset apto para RNN\n",
        "    \n",
        "    dataset: pandas dataframe con una sola columna\n",
        "    look_back: numero de retrasos con los cuales queremos construir\n",
        "        las caracteristicas\n",
        "    \"\"\"\n",
        "    dataX, dataY = [], []\n",
        "    for i in range(len(dataset)-look_back-1):\n",
        "        a = dataset[i:(i+look_back), 0]\n",
        "        dataX.append(a)\n",
        "        dataY.append(dataset[i + look_back, 0])\n",
        "    return np.array(dataX), np.array(dataY).reshape(len(dataY), 1)"
      ],
      "execution_count": 5,
      "outputs": []
    },
    {
      "cell_type": "markdown",
      "metadata": {
        "id": "B7mgNk-WUHIu"
      },
      "source": [
        "## Ejercicio 2 - Experimentar con RNN\n",
        "\n",
        "Vamos usar una libreria llamada neurolab. La documentación puede ser consultada en : https://pythonhosted.org/neurolab/. (podemos hacer uso como `nl...`)"
      ]
    },
    {
      "cell_type": "markdown",
      "metadata": {
        "id": "Pbk27o_vUHIu"
      },
      "source": [
        "En el siguiente ejercicio vamnos a completar el código para entrenar una red neuronal recurrente de Elman con las siguientes caracteristicas:\n",
        "1. las capas ocultas deben ser variables de acuerdo al parametro. Sin embargo solo siempre tenemos una sola capa de salida.\n",
        "2. función de activación tangente hiperbólica paras las capas ocultas y lineal para la capa de salida. \n",
        "3. número de épocas igual a 1000.\n",
        "4. Definir objetivo de error inferior a 0.001. \n",
        "5. Inicializar los pesos de las capas aleatoriamente entre [-0.1, 0.1].\n",
        "6. Vamos utilizar como medida de error el error absoluto medio.  [recordar usar la implementación del modulo de metricas de sklearn](https://scikit-learn.org/stable/modules/classes.html#module-sklearn.metrics)\n",
        "\n",
        "Notas Adicionales:\n",
        "1. tener en cuenta que hace el parametro feature_range de la función [MinMaxScaler](https://scikit-learn.org/stable/modules/generated/sklearn.preprocessing.MinMaxScaler.html)\n",
        "2. Entender como se sugiere usar la codigo que vamos encontrar dentro la función:\n",
        "```python\n",
        "layers = []\n",
        "    for i in range(look_back):\n",
        "        layers.append([0, 1])\n",
        "```"
      ]
    },
    {
      "cell_type": "code",
      "metadata": {
        "id": "qR2X2aHeUHIu"
      },
      "source": [
        "#ejercicio de código\n",
        "def experimentar_elman(data, look_backs, hidden_neurons):\n",
        "    \"\"\"funcion que realiza experimentos para evaluar una RNN de elman usando\n",
        "        el error absoluto medio como medida de error\n",
        "    \n",
        "    data: pd.Dataframe, dataset a usar\n",
        "    look_back: List[int], lista con los numero de retrasos a evaluar\n",
        "    hidden_neurons: List[int], list con el numero de neuronas en la capa oculta\n",
        "    retorna: pd.Dataframe con las siguientes columnas:\n",
        "        - lags\n",
        "        - neuronas por capas\n",
        "        - error de entrenamiento\n",
        "        - error de prueba\n",
        "    \"\"\"\n",
        "    # we need to normalize the dataset before\n",
        "    #\n",
        "    scaler = MinMaxScaler(feature_range=(0, 1))\n",
        "    dataset = scaler.fit_transform(data)\n",
        "    # split into train and test sets\n",
        "    train_size = int(len(dataset) * 0.7)\n",
        "    test_size = len(dataset) - train_size\n",
        "    train, test = dataset[0:train_size,:], dataset[train_size:len(dataset),:]\n",
        "    resultados = pd.DataFrame()\n",
        "    idx = 0\n",
        "    for num_hidden_neurons in hidden_neurons:\n",
        "        for look_back in look_backs:\n",
        "            # reshape into X=t-look_back+1:t and Y=t+1\n",
        "            trainX, trainY = create_dataset(train, look_back)\n",
        "            testX, testY = create_dataset(test, look_back)          \n",
        "            #Esta variable se requiere para definir la red de acuerdo con la librería neurolab. \n",
        "            #Define el número de entradas y el rango de valores que toma cada entrada\n",
        "            layers = []\n",
        "            for i in range(look_back):\n",
        "                layers.append([0, 1])\n",
        "            # Crear la red usa una instruccion como nl.{...}.{...}\n",
        "            net = nl.net.newelm( layers,[num_hidden_neurons,1], [nl.trans.TanSig(), nl.trans.PureLin()])\n",
        "            #definir funciones para inicializar los pesos e inicializar la red\n",
        "            # Set initialized functions and init\n",
        "            net.layers[0].initf = nl.init.InitRand([-0.1, 0.1], 'w')\n",
        "            net.layers[1].initf= nl.init.InitRand([-0.1, 0.1], 'w')\n",
        "            net.init()\n",
        "            # Entrenar la red con los datos de entrenamiento\n",
        "            # la instrucción del tiempo es para evaluar el tiempo\n",
        "            # de entrenamiento, llame explícitamente los parametros\n",
        "            # para las epocas y el objetivo\n",
        "            # show = 500 # (esta instruccion ayuda a que no se presenten muchos prints intermedios)\n",
        "            net.train(trainX,trainY,epochs=1000, show=500, goal=0.001)\n",
        "            # Evaluar la red con los datos de en entrenamiento y test\n",
        "            trainYPred = net.sim(trainX)\n",
        "            testYPred = net.sim(testX)\n",
        "            # Calculo de error\n",
        "            errorPrueba = mean_absolute_error(testY,testYPred)\n",
        "            errorEntrenamiento = mean_absolute_error(trainY, trainYPred)\n",
        "            resultados.loc[idx,'lags'] = look_back\n",
        "            resultados.loc[idx,'neuronas por capa'] = num_hidden_neurons\n",
        "            resultados.loc[idx,'error de entrenamiento'] = errorEntrenamiento\n",
        "            resultados.loc[idx,'error de prueba'] = errorPrueba\n",
        "            idx+=1\n",
        "    \n",
        "    return (resultados)"
      ],
      "execution_count": 6,
      "outputs": []
    },
    {
      "cell_type": "code",
      "metadata": {
        "id": "GNWlBCBhQWNi"
      },
      "source": [
        ""
      ],
      "execution_count": 6,
      "outputs": []
    },
    {
      "cell_type": "code",
      "metadata": {
        "id": "ffJwb8WXUHIw",
        "colab": {
          "base_uri": "https://localhost:8080/"
        },
        "outputId": "4efcd515-7560-45ef-cd52-9e68fe1344d6"
      },
      "source": [
        "#\n",
        "GRADER.run_test(\"ejercicio1\", experimentar_elman)"
      ],
      "execution_count": 7,
      "outputs": [
        {
          "output_type": "stream",
          "text": [
            "Epoch: 500; Error: 0.061405491482501164;\n",
            "Epoch: 1000; Error: 0.06285819323872047;\n",
            "The maximum number of train epochs is reached\n",
            "Epoch: 500; Error: 0.063246181145608;\n",
            "Epoch: 1000; Error: 0.06324623786660663;\n",
            "The maximum number of train epochs is reached\n",
            "Epoch: 500; Error: 0.06140457786629572;\n",
            "Epoch: 1000; Error: 0.0648334157276388;\n",
            "The maximum number of train epochs is reached\n",
            "Epoch: 500; Error: 0.06324620957596791;\n",
            "Epoch: 1000; Error: 0.06719199656084511;\n",
            "The maximum number of train epochs is reached\n",
            "TEST EXITOSO!\n"
          ],
          "name": "stdout"
        }
      ]
    },
    {
      "cell_type": "markdown",
      "metadata": {
        "id": "p72IA8WCUHIy"
      },
      "source": [
        "Ahora vamos a ver los resultados del experimentos, variando los lags y las neuronas por capa"
      ]
    },
    {
      "cell_type": "code",
      "metadata": {
        "id": "sOaV_Hn7UHIz",
        "colab": {
          "base_uri": "https://localhost:8080/"
        },
        "outputId": "a686a948-b798-4c30-e4d9-8cb09bf41f1b"
      },
      "source": [
        "resultadosElman = experimentar_elman(dataset, look_backs = [1,3,5,10,30,40], hidden_neurons=[10,20,30])"
      ],
      "execution_count": 8,
      "outputs": [
        {
          "output_type": "stream",
          "text": [
            "Epoch: 500; Error: 0.01966988953199409;\n",
            "Epoch: 1000; Error: 0.021251413967500573;\n",
            "The maximum number of train epochs is reached\n",
            "Epoch: 500; Error: 0.002622075246755581;\n",
            "Epoch: 1000; Error: 0.002079187774923365;\n",
            "The maximum number of train epochs is reached\n",
            "Epoch: 500; Error: 0.019068011956791787;\n",
            "Epoch: 1000; Error: 0.019145344697706995;\n",
            "The maximum number of train epochs is reached\n",
            "Epoch: 500; Error: 0.01852192706913856;\n",
            "Epoch: 1000; Error: 0.018523949219079197;\n",
            "The maximum number of train epochs is reached\n",
            "Epoch: 500; Error: 0.013831783180013291;\n",
            "Epoch: 1000; Error: 0.014123445813445656;\n",
            "The maximum number of train epochs is reached\n",
            "Epoch: 500; Error: 0.01212095346878179;\n",
            "Epoch: 1000; Error: 0.012132964049858547;\n",
            "The maximum number of train epochs is reached\n",
            "Epoch: 500; Error: 0.015193998323137557;\n",
            "Epoch: 1000; Error: 0.010697706937245845;\n",
            "The maximum number of train epochs is reached\n",
            "Epoch: 500; Error: 0.019388693404372482;\n",
            "Epoch: 1000; Error: 0.01939272552461736;\n",
            "The maximum number of train epochs is reached\n",
            "Epoch: 500; Error: 0.019067775180860398;\n",
            "Epoch: 1000; Error: 0.019070510672878623;\n",
            "The maximum number of train epochs is reached\n",
            "Epoch: 500; Error: 0.018521927037146335;\n",
            "Epoch: 1000; Error: 0.018537075868625196;\n",
            "The maximum number of train epochs is reached\n",
            "Epoch: 500; Error: 0.01434642500746568;\n",
            "Epoch: 1000; Error: 0.014198353804521146;\n",
            "The maximum number of train epochs is reached\n",
            "Epoch: 500; Error: 0.012104426238162814;\n",
            "Epoch: 1000; Error: 0.012166939779666671;\n",
            "The maximum number of train epochs is reached\n",
            "Epoch: 500; Error: 0.019669889350659518;\n",
            "Epoch: 1000; Error: 0.01966988972901371;\n",
            "The maximum number of train epochs is reached\n",
            "Epoch: 500; Error: 0.019390159579514007;\n",
            "Epoch: 1000; Error: 0.019531002386583726;\n",
            "The maximum number of train epochs is reached\n",
            "Epoch: 500; Error: 0.019257753264948368;\n",
            "Epoch: 1000; Error: 0.019232782976420577;\n",
            "The maximum number of train epochs is reached\n",
            "Epoch: 500; Error: 0.01852194307740315;\n",
            "Epoch: 1000; Error: 0.01854299421532951;\n",
            "The maximum number of train epochs is reached\n",
            "Epoch: 500; Error: 0.0033118808665655386;\n",
            "Epoch: 1000; Error: 0.0012824207604425555;\n",
            "The maximum number of train epochs is reached\n",
            "Epoch: 500; Error: 0.0058624586719128475;\n",
            "The goal of learning is reached\n"
          ],
          "name": "stdout"
        }
      ]
    },
    {
      "cell_type": "code",
      "metadata": {
        "id": "j1mtTSqmUHI0",
        "colab": {
          "base_uri": "https://localhost:8080/",
          "height": 416
        },
        "outputId": "cdbe86bc-cfed-4e40-fe56-4c465cbd2c0c"
      },
      "source": [
        "# para ver los resultados\n",
        "# en esta instruccion se va resaltar el mejor\n",
        "# error y tiempo de entrenamiento\n",
        "resultadosElman.style.highlight_min(color = 'lightgreen', axis = 0, subset = ['error de prueba'])"
      ],
      "execution_count": 9,
      "outputs": [
        {
          "output_type": "execute_result",
          "data": {
            "text/html": [
              "<style  type=\"text/css\" >\n",
              "#T_fc5bdf0e_2ade_11eb_8a7e_0242ac1c0002row17_col3{\n",
              "            background-color:  lightgreen;\n",
              "        }</style><table id=\"T_fc5bdf0e_2ade_11eb_8a7e_0242ac1c0002\" ><thead>    <tr>        <th class=\"blank level0\" ></th>        <th class=\"col_heading level0 col0\" >lags</th>        <th class=\"col_heading level0 col1\" >neuronas por capa</th>        <th class=\"col_heading level0 col2\" >error de entrenamiento</th>        <th class=\"col_heading level0 col3\" >error de prueba</th>    </tr></thead><tbody>\n",
              "                <tr>\n",
              "                        <th id=\"T_fc5bdf0e_2ade_11eb_8a7e_0242ac1c0002level0_row0\" class=\"row_heading level0 row0\" >0</th>\n",
              "                        <td id=\"T_fc5bdf0e_2ade_11eb_8a7e_0242ac1c0002row0_col0\" class=\"data row0 col0\" >1.000000</td>\n",
              "                        <td id=\"T_fc5bdf0e_2ade_11eb_8a7e_0242ac1c0002row0_col1\" class=\"data row0 col1\" >10.000000</td>\n",
              "                        <td id=\"T_fc5bdf0e_2ade_11eb_8a7e_0242ac1c0002row0_col2\" class=\"data row0 col2\" >0.122904</td>\n",
              "                        <td id=\"T_fc5bdf0e_2ade_11eb_8a7e_0242ac1c0002row0_col3\" class=\"data row0 col3\" >0.354553</td>\n",
              "            </tr>\n",
              "            <tr>\n",
              "                        <th id=\"T_fc5bdf0e_2ade_11eb_8a7e_0242ac1c0002level0_row1\" class=\"row_heading level0 row1\" >1</th>\n",
              "                        <td id=\"T_fc5bdf0e_2ade_11eb_8a7e_0242ac1c0002row1_col0\" class=\"data row1 col0\" >3.000000</td>\n",
              "                        <td id=\"T_fc5bdf0e_2ade_11eb_8a7e_0242ac1c0002row1_col1\" class=\"data row1 col1\" >10.000000</td>\n",
              "                        <td id=\"T_fc5bdf0e_2ade_11eb_8a7e_0242ac1c0002row1_col2\" class=\"data row1 col2\" >0.037092</td>\n",
              "                        <td id=\"T_fc5bdf0e_2ade_11eb_8a7e_0242ac1c0002row1_col3\" class=\"data row1 col3\" >0.078274</td>\n",
              "            </tr>\n",
              "            <tr>\n",
              "                        <th id=\"T_fc5bdf0e_2ade_11eb_8a7e_0242ac1c0002level0_row2\" class=\"row_heading level0 row2\" >2</th>\n",
              "                        <td id=\"T_fc5bdf0e_2ade_11eb_8a7e_0242ac1c0002row2_col0\" class=\"data row2 col0\" >5.000000</td>\n",
              "                        <td id=\"T_fc5bdf0e_2ade_11eb_8a7e_0242ac1c0002row2_col1\" class=\"data row2 col1\" >10.000000</td>\n",
              "                        <td id=\"T_fc5bdf0e_2ade_11eb_8a7e_0242ac1c0002row2_col2\" class=\"data row2 col2\" >0.114774</td>\n",
              "                        <td id=\"T_fc5bdf0e_2ade_11eb_8a7e_0242ac1c0002row2_col3\" class=\"data row2 col3\" >0.374397</td>\n",
              "            </tr>\n",
              "            <tr>\n",
              "                        <th id=\"T_fc5bdf0e_2ade_11eb_8a7e_0242ac1c0002level0_row3\" class=\"row_heading level0 row3\" >3</th>\n",
              "                        <td id=\"T_fc5bdf0e_2ade_11eb_8a7e_0242ac1c0002row3_col0\" class=\"data row3 col0\" >10.000000</td>\n",
              "                        <td id=\"T_fc5bdf0e_2ade_11eb_8a7e_0242ac1c0002row3_col1\" class=\"data row3 col1\" >10.000000</td>\n",
              "                        <td id=\"T_fc5bdf0e_2ade_11eb_8a7e_0242ac1c0002row3_col2\" class=\"data row3 col2\" >0.111526</td>\n",
              "                        <td id=\"T_fc5bdf0e_2ade_11eb_8a7e_0242ac1c0002row3_col3\" class=\"data row3 col3\" >0.399293</td>\n",
              "            </tr>\n",
              "            <tr>\n",
              "                        <th id=\"T_fc5bdf0e_2ade_11eb_8a7e_0242ac1c0002level0_row4\" class=\"row_heading level0 row4\" >4</th>\n",
              "                        <td id=\"T_fc5bdf0e_2ade_11eb_8a7e_0242ac1c0002row4_col0\" class=\"data row4 col0\" >30.000000</td>\n",
              "                        <td id=\"T_fc5bdf0e_2ade_11eb_8a7e_0242ac1c0002row4_col1\" class=\"data row4 col1\" >10.000000</td>\n",
              "                        <td id=\"T_fc5bdf0e_2ade_11eb_8a7e_0242ac1c0002row4_col2\" class=\"data row4 col2\" >0.095011</td>\n",
              "                        <td id=\"T_fc5bdf0e_2ade_11eb_8a7e_0242ac1c0002row4_col3\" class=\"data row4 col3\" >0.431163</td>\n",
              "            </tr>\n",
              "            <tr>\n",
              "                        <th id=\"T_fc5bdf0e_2ade_11eb_8a7e_0242ac1c0002level0_row5\" class=\"row_heading level0 row5\" >5</th>\n",
              "                        <td id=\"T_fc5bdf0e_2ade_11eb_8a7e_0242ac1c0002row5_col0\" class=\"data row5 col0\" >40.000000</td>\n",
              "                        <td id=\"T_fc5bdf0e_2ade_11eb_8a7e_0242ac1c0002row5_col1\" class=\"data row5 col1\" >10.000000</td>\n",
              "                        <td id=\"T_fc5bdf0e_2ade_11eb_8a7e_0242ac1c0002row5_col2\" class=\"data row5 col2\" >0.089634</td>\n",
              "                        <td id=\"T_fc5bdf0e_2ade_11eb_8a7e_0242ac1c0002row5_col3\" class=\"data row5 col3\" >0.371868</td>\n",
              "            </tr>\n",
              "            <tr>\n",
              "                        <th id=\"T_fc5bdf0e_2ade_11eb_8a7e_0242ac1c0002level0_row6\" class=\"row_heading level0 row6\" >6</th>\n",
              "                        <td id=\"T_fc5bdf0e_2ade_11eb_8a7e_0242ac1c0002row6_col0\" class=\"data row6 col0\" >1.000000</td>\n",
              "                        <td id=\"T_fc5bdf0e_2ade_11eb_8a7e_0242ac1c0002row6_col1\" class=\"data row6 col1\" >20.000000</td>\n",
              "                        <td id=\"T_fc5bdf0e_2ade_11eb_8a7e_0242ac1c0002row6_col2\" class=\"data row6 col2\" >0.077477</td>\n",
              "                        <td id=\"T_fc5bdf0e_2ade_11eb_8a7e_0242ac1c0002row6_col3\" class=\"data row6 col3\" >0.245548</td>\n",
              "            </tr>\n",
              "            <tr>\n",
              "                        <th id=\"T_fc5bdf0e_2ade_11eb_8a7e_0242ac1c0002level0_row7\" class=\"row_heading level0 row7\" >7</th>\n",
              "                        <td id=\"T_fc5bdf0e_2ade_11eb_8a7e_0242ac1c0002row7_col0\" class=\"data row7 col0\" >3.000000</td>\n",
              "                        <td id=\"T_fc5bdf0e_2ade_11eb_8a7e_0242ac1c0002row7_col1\" class=\"data row7 col1\" >20.000000</td>\n",
              "                        <td id=\"T_fc5bdf0e_2ade_11eb_8a7e_0242ac1c0002row7_col2\" class=\"data row7 col2\" >0.115805</td>\n",
              "                        <td id=\"T_fc5bdf0e_2ade_11eb_8a7e_0242ac1c0002row7_col3\" class=\"data row7 col3\" >0.386494</td>\n",
              "            </tr>\n",
              "            <tr>\n",
              "                        <th id=\"T_fc5bdf0e_2ade_11eb_8a7e_0242ac1c0002level0_row8\" class=\"row_heading level0 row8\" >8</th>\n",
              "                        <td id=\"T_fc5bdf0e_2ade_11eb_8a7e_0242ac1c0002row8_col0\" class=\"data row8 col0\" >5.000000</td>\n",
              "                        <td id=\"T_fc5bdf0e_2ade_11eb_8a7e_0242ac1c0002row8_col1\" class=\"data row8 col1\" >20.000000</td>\n",
              "                        <td id=\"T_fc5bdf0e_2ade_11eb_8a7e_0242ac1c0002row8_col2\" class=\"data row8 col2\" >0.114469</td>\n",
              "                        <td id=\"T_fc5bdf0e_2ade_11eb_8a7e_0242ac1c0002row8_col3\" class=\"data row8 col3\" >0.381537</td>\n",
              "            </tr>\n",
              "            <tr>\n",
              "                        <th id=\"T_fc5bdf0e_2ade_11eb_8a7e_0242ac1c0002level0_row9\" class=\"row_heading level0 row9\" >9</th>\n",
              "                        <td id=\"T_fc5bdf0e_2ade_11eb_8a7e_0242ac1c0002row9_col0\" class=\"data row9 col0\" >10.000000</td>\n",
              "                        <td id=\"T_fc5bdf0e_2ade_11eb_8a7e_0242ac1c0002row9_col1\" class=\"data row9 col1\" >20.000000</td>\n",
              "                        <td id=\"T_fc5bdf0e_2ade_11eb_8a7e_0242ac1c0002row9_col2\" class=\"data row9 col2\" >0.111554</td>\n",
              "                        <td id=\"T_fc5bdf0e_2ade_11eb_8a7e_0242ac1c0002row9_col3\" class=\"data row9 col3\" >0.396823</td>\n",
              "            </tr>\n",
              "            <tr>\n",
              "                        <th id=\"T_fc5bdf0e_2ade_11eb_8a7e_0242ac1c0002level0_row10\" class=\"row_heading level0 row10\" >10</th>\n",
              "                        <td id=\"T_fc5bdf0e_2ade_11eb_8a7e_0242ac1c0002row10_col0\" class=\"data row10 col0\" >30.000000</td>\n",
              "                        <td id=\"T_fc5bdf0e_2ade_11eb_8a7e_0242ac1c0002row10_col1\" class=\"data row10 col1\" >20.000000</td>\n",
              "                        <td id=\"T_fc5bdf0e_2ade_11eb_8a7e_0242ac1c0002row10_col2\" class=\"data row10 col2\" >0.099771</td>\n",
              "                        <td id=\"T_fc5bdf0e_2ade_11eb_8a7e_0242ac1c0002row10_col3\" class=\"data row10 col3\" >0.394939</td>\n",
              "            </tr>\n",
              "            <tr>\n",
              "                        <th id=\"T_fc5bdf0e_2ade_11eb_8a7e_0242ac1c0002level0_row11\" class=\"row_heading level0 row11\" >11</th>\n",
              "                        <td id=\"T_fc5bdf0e_2ade_11eb_8a7e_0242ac1c0002row11_col0\" class=\"data row11 col0\" >40.000000</td>\n",
              "                        <td id=\"T_fc5bdf0e_2ade_11eb_8a7e_0242ac1c0002row11_col1\" class=\"data row11 col1\" >20.000000</td>\n",
              "                        <td id=\"T_fc5bdf0e_2ade_11eb_8a7e_0242ac1c0002row11_col2\" class=\"data row11 col2\" >0.090296</td>\n",
              "                        <td id=\"T_fc5bdf0e_2ade_11eb_8a7e_0242ac1c0002row11_col3\" class=\"data row11 col3\" >0.358627</td>\n",
              "            </tr>\n",
              "            <tr>\n",
              "                        <th id=\"T_fc5bdf0e_2ade_11eb_8a7e_0242ac1c0002level0_row12\" class=\"row_heading level0 row12\" >12</th>\n",
              "                        <td id=\"T_fc5bdf0e_2ade_11eb_8a7e_0242ac1c0002row12_col0\" class=\"data row12 col0\" >1.000000</td>\n",
              "                        <td id=\"T_fc5bdf0e_2ade_11eb_8a7e_0242ac1c0002row12_col1\" class=\"data row12 col1\" >30.000000</td>\n",
              "                        <td id=\"T_fc5bdf0e_2ade_11eb_8a7e_0242ac1c0002row12_col2\" class=\"data row12 col2\" >0.116754</td>\n",
              "                        <td id=\"T_fc5bdf0e_2ade_11eb_8a7e_0242ac1c0002row12_col3\" class=\"data row12 col3\" >0.394341</td>\n",
              "            </tr>\n",
              "            <tr>\n",
              "                        <th id=\"T_fc5bdf0e_2ade_11eb_8a7e_0242ac1c0002level0_row13\" class=\"row_heading level0 row13\" >13</th>\n",
              "                        <td id=\"T_fc5bdf0e_2ade_11eb_8a7e_0242ac1c0002row13_col0\" class=\"data row13 col0\" >3.000000</td>\n",
              "                        <td id=\"T_fc5bdf0e_2ade_11eb_8a7e_0242ac1c0002row13_col1\" class=\"data row13 col1\" >30.000000</td>\n",
              "                        <td id=\"T_fc5bdf0e_2ade_11eb_8a7e_0242ac1c0002row13_col2\" class=\"data row13 col2\" >0.116423</td>\n",
              "                        <td id=\"T_fc5bdf0e_2ade_11eb_8a7e_0242ac1c0002row13_col3\" class=\"data row13 col3\" >0.376602</td>\n",
              "            </tr>\n",
              "            <tr>\n",
              "                        <th id=\"T_fc5bdf0e_2ade_11eb_8a7e_0242ac1c0002level0_row14\" class=\"row_heading level0 row14\" >14</th>\n",
              "                        <td id=\"T_fc5bdf0e_2ade_11eb_8a7e_0242ac1c0002row14_col0\" class=\"data row14 col0\" >5.000000</td>\n",
              "                        <td id=\"T_fc5bdf0e_2ade_11eb_8a7e_0242ac1c0002row14_col1\" class=\"data row14 col1\" >30.000000</td>\n",
              "                        <td id=\"T_fc5bdf0e_2ade_11eb_8a7e_0242ac1c0002row14_col2\" class=\"data row14 col2\" >0.115017</td>\n",
              "                        <td id=\"T_fc5bdf0e_2ade_11eb_8a7e_0242ac1c0002row14_col3\" class=\"data row14 col3\" >0.370355</td>\n",
              "            </tr>\n",
              "            <tr>\n",
              "                        <th id=\"T_fc5bdf0e_2ade_11eb_8a7e_0242ac1c0002level0_row15\" class=\"row_heading level0 row15\" >15</th>\n",
              "                        <td id=\"T_fc5bdf0e_2ade_11eb_8a7e_0242ac1c0002row15_col0\" class=\"data row15 col0\" >10.000000</td>\n",
              "                        <td id=\"T_fc5bdf0e_2ade_11eb_8a7e_0242ac1c0002row15_col1\" class=\"data row15 col1\" >30.000000</td>\n",
              "                        <td id=\"T_fc5bdf0e_2ade_11eb_8a7e_0242ac1c0002row15_col2\" class=\"data row15 col2\" >0.111568</td>\n",
              "                        <td id=\"T_fc5bdf0e_2ade_11eb_8a7e_0242ac1c0002row15_col3\" class=\"data row15 col3\" >0.405305</td>\n",
              "            </tr>\n",
              "            <tr>\n",
              "                        <th id=\"T_fc5bdf0e_2ade_11eb_8a7e_0242ac1c0002level0_row16\" class=\"row_heading level0 row16\" >16</th>\n",
              "                        <td id=\"T_fc5bdf0e_2ade_11eb_8a7e_0242ac1c0002row16_col0\" class=\"data row16 col0\" >30.000000</td>\n",
              "                        <td id=\"T_fc5bdf0e_2ade_11eb_8a7e_0242ac1c0002row16_col1\" class=\"data row16 col1\" >30.000000</td>\n",
              "                        <td id=\"T_fc5bdf0e_2ade_11eb_8a7e_0242ac1c0002row16_col2\" class=\"data row16 col2\" >0.029920</td>\n",
              "                        <td id=\"T_fc5bdf0e_2ade_11eb_8a7e_0242ac1c0002row16_col3\" class=\"data row16 col3\" >0.051804</td>\n",
              "            </tr>\n",
              "            <tr>\n",
              "                        <th id=\"T_fc5bdf0e_2ade_11eb_8a7e_0242ac1c0002level0_row17\" class=\"row_heading level0 row17\" >17</th>\n",
              "                        <td id=\"T_fc5bdf0e_2ade_11eb_8a7e_0242ac1c0002row17_col0\" class=\"data row17 col0\" >40.000000</td>\n",
              "                        <td id=\"T_fc5bdf0e_2ade_11eb_8a7e_0242ac1c0002row17_col1\" class=\"data row17 col1\" >30.000000</td>\n",
              "                        <td id=\"T_fc5bdf0e_2ade_11eb_8a7e_0242ac1c0002row17_col2\" class=\"data row17 col2\" >0.026041</td>\n",
              "                        <td id=\"T_fc5bdf0e_2ade_11eb_8a7e_0242ac1c0002row17_col3\" class=\"data row17 col3\" >0.029520</td>\n",
              "            </tr>\n",
              "    </tbody></table>"
            ],
            "text/plain": [
              "<pandas.io.formats.style.Styler at 0x7f45ac9574a8>"
            ]
          },
          "metadata": {
            "tags": []
          },
          "execution_count": 9
        }
      ]
    },
    {
      "cell_type": "code",
      "metadata": {
        "id": "uqHNlGOBUHI2",
        "colab": {
          "base_uri": "https://localhost:8080/",
          "height": 401
        },
        "outputId": "42a5142d-8c23-4be0-c67c-310d1b853162"
      },
      "source": [
        "# observa el comportamiento de los lags\n",
        "import seaborn as sns\n",
        "sns.relplot(data= resultadosElman, x= 'lags', y = 'error de prueba', kind = 'line')"
      ],
      "execution_count": 10,
      "outputs": [
        {
          "output_type": "execute_result",
          "data": {
            "text/plain": [
              "<seaborn.axisgrid.FacetGrid at 0x7f45a776c4e0>"
            ]
          },
          "metadata": {
            "tags": []
          },
          "execution_count": 10
        },
        {
          "output_type": "display_data",
          "data": {
            "image/png": "[encoded data removed]",
            "text/plain": [
              "<Figure size 360x360 with 1 Axes>"
            ]
          },
          "metadata": {
            "tags": [],
            "needs_background": "light"
          }
        }
      ]
    },
    {
      "cell_type": "code",
      "metadata": {
        "id": "tSw9j936UHI4",
        "cellView": "form"
      },
      "source": [
        "#@title Pregunta Abierta\n",
        "#@markdown ¿Por qué seguir aumentando los tiempos de retardo no implica siempre una mejora en la predicción del modelo?\n",
        "respuesta_2 = \"Porque la aplicacion consecutiva de multiples funciones de activacion, pueden terminar por desvanecer el resultado, por lo tanto el error de prueba volveria aumentar\" #@param {type:\"string\"}"
      ],
      "execution_count": 11,
      "outputs": []
    },
    {
      "cell_type": "markdown",
      "metadata": {
        "id": "RUqSiyWGUHI7"
      },
      "source": [
        "## Ejercicio 3 - Comparación con MLP\n",
        "\n",
        "En este ejercicio vamos a realizar el mismo ejercicio, pero con un MLP. Con esto vamos a comparar los resultados obtenidos con la RNN.\n",
        "\n",
        "Para ellos vamos a :\n",
        "1. variar los retrasos, que corresponden a las neuronas en la capa de entrada\n",
        "2. vamos a dejar solo una capa oculta y vamos a variar el número de neuronas en esta capa\n",
        "3. el número de epocas también va ser de 1000\n",
        "4. el valor por defecto sera usado para el resto de parámetros\n",
        "5. utilizar como medida de error el error absoluto medio.  [recordar usar la implementación del modulo de metricas de sklearn](https://scikit-learn.org/stable/modules/classes.html#module-sklearn.metrics)"
      ]
    },
    {
      "cell_type": "code",
      "metadata": {
        "id": "CY9g8N0AUHI8",
        "cellView": "form"
      },
      "source": [
        "#@title Pregunta Abierta\n",
        "#@markdown ¿explique la principal diferencia entre un MLP y una red recurrente de elman? justificar usando usando como contexto el problema que estamos resolviendo.\n",
        "respuesta_3 = \"La principal diferencia es que una red recurrente de elman la salida de las capas ocultas se van a a conectar a la entrada de la misma capa oculta pero un tiempo posterior. En el caso del problema, en un mes poterior. En cambio en un MLP, no le importa que los datos sean secuenciales, se asume que cada muestra es independiente\" #@param {type:\"string\"}"
      ],
      "execution_count": 12,
      "outputs": []
    },
    {
      "cell_type": "code",
      "metadata": {
        "id": "WR_c10DtUHI9"
      },
      "source": [
        "#ejercicio de código\n",
        "def experimentar_MLP(data, look_backs, hidden_neurons):\n",
        "    \"\"\"funcion que realiza experimentos para evaluar una MLPusando\n",
        "        MAPE como medida de error\n",
        "    \n",
        "    data: pd.Dataframe, dataset a usar\n",
        "    look_back: List[int], lista con los numero de retrasos a evaluar\n",
        "    hidden_neurons: List[int], list con el numero de neuronas en la capa oculta\n",
        "    retorna: pd.Dataframe con las siguientes columnas:\n",
        "        - lags\n",
        "        - neuronas por capas\n",
        "        - error de entrenamiento\n",
        "        - error de prueba\n",
        "    \"\"\"\n",
        "    # we need to normalize the dataset before\n",
        "    #\n",
        "    scaler = MinMaxScaler(feature_range=(0, 1))\n",
        "    dataset = scaler.fit_transform(data)\n",
        "    # split into train and test sets\n",
        "    train_size = int(len(dataset) * 0.7)\n",
        "    test_size = len(dataset) - train_size\n",
        "    train, test = dataset[0:train_size,:], dataset[train_size:len(dataset),:]\n",
        "    resultados = pd.DataFrame()\n",
        "    idx = 0\n",
        "    for num_hidden_neurons in hidden_neurons:\n",
        "        for look_back in look_backs:\n",
        "            # reshape into X=t-look_back+1:t and Y=t+1\n",
        "            trainX, trainY = create_dataset(train, look_back)\n",
        "            testX, testY = create_dataset(test, look_back)          \n",
        "            # define el MLP para Regresion pasando los parametros adecuados\n",
        "            # pasar random_state = 10 para lograr resultados reproducibles\n",
        "            net =  MLPRegressor(hidden_layer_sizes= (num_hidden_neurons,1), max_iter = 1000, random_state = 10)\n",
        "            # Entrenar la red con los datos de entrenamiento\n",
        "            net.fit(X=trainX, y=trainY)\n",
        "            # Evaluar la red con los datos de entrenamiento y test\n",
        "            trainYPred = net.predict(trainX)\n",
        "            testYPred = net.predict(testX)\n",
        "            # Calculo de error\n",
        "            errorPrueba = mean_absolute_error(testY, testYPred)\n",
        "            errorEntrenamiento =mean_absolute_error(trainY, trainYPred)\n",
        "            resultados.loc[idx,'lags'] = look_back\n",
        "            resultados.loc[idx,'neuronas por capa'] = num_hidden_neurons\n",
        "            resultados.loc[idx,'error de entrenamiento'] = errorEntrenamiento\n",
        "            resultados.loc[idx,'error de prueba'] = errorPrueba\n",
        "            idx+=1\n",
        "    \n",
        "    return (resultados)"
      ],
      "execution_count": 13,
      "outputs": []
    },
    {
      "cell_type": "code",
      "metadata": {
        "id": "i20ocJGJUHI_",
        "colab": {
          "base_uri": "https://localhost:8080/"
        },
        "outputId": "22d963c1-4109-492b-c1e1-c6957b1ab957"
      },
      "source": [
        "GRADER.run_test(\"ejercicio2\", experimentar_MLP)"
      ],
      "execution_count": 14,
      "outputs": [
        {
          "output_type": "stream",
          "text": [
            "TEST EXITOSO!\n"
          ],
          "name": "stdout"
        }
      ]
    },
    {
      "cell_type": "code",
      "metadata": {
        "id": "Utx-2XSEUHJB"
      },
      "source": [
        "resultadosMLP = experimentar_MLP(dataset, look_backs = [1,3,5,10,30,40], hidden_neurons=[10,20,30])"
      ],
      "execution_count": 15,
      "outputs": []
    },
    {
      "cell_type": "code",
      "metadata": {
        "id": "VIyuIhOMUHJC",
        "colab": {
          "base_uri": "https://localhost:8080/",
          "height": 416
        },
        "outputId": "3461d050-27f4-4565-edc3-45dccef8a787"
      },
      "source": [
        "# para ver los resultados\n",
        "# en esta instruccion se va resaltar el mejor\n",
        "# error y tiempo de entrenamiento\n",
        "resultadosMLP.style.highlight_min(color = 'lightgreen', axis = 0, subset = ['error de prueba'])"
      ],
      "execution_count": 16,
      "outputs": [
        {
          "output_type": "execute_result",
          "data": {
            "text/html": [
              "<style  type=\"text/css\" >\n",
              "#T_0083e676_2adf_11eb_8a7e_0242ac1c0002row0_col3{\n",
              "            background-color:  lightgreen;\n",
              "        }</style><table id=\"T_0083e676_2adf_11eb_8a7e_0242ac1c0002\" ><thead>    <tr>        <th class=\"blank level0\" ></th>        <th class=\"col_heading level0 col0\" >lags</th>        <th class=\"col_heading level0 col1\" >neuronas por capa</th>        <th class=\"col_heading level0 col2\" >error de entrenamiento</th>        <th class=\"col_heading level0 col3\" >error de prueba</th>    </tr></thead><tbody>\n",
              "                <tr>\n",
              "                        <th id=\"T_0083e676_2adf_11eb_8a7e_0242ac1c0002level0_row0\" class=\"row_heading level0 row0\" >0</th>\n",
              "                        <td id=\"T_0083e676_2adf_11eb_8a7e_0242ac1c0002row0_col0\" class=\"data row0 col0\" >1.000000</td>\n",
              "                        <td id=\"T_0083e676_2adf_11eb_8a7e_0242ac1c0002row0_col1\" class=\"data row0 col1\" >10.000000</td>\n",
              "                        <td id=\"T_0083e676_2adf_11eb_8a7e_0242ac1c0002row0_col2\" class=\"data row0 col2\" >0.407783</td>\n",
              "                        <td id=\"T_0083e676_2adf_11eb_8a7e_0242ac1c0002row0_col3\" class=\"data row0 col3\" >0.123787</td>\n",
              "            </tr>\n",
              "            <tr>\n",
              "                        <th id=\"T_0083e676_2adf_11eb_8a7e_0242ac1c0002level0_row1\" class=\"row_heading level0 row1\" >1</th>\n",
              "                        <td id=\"T_0083e676_2adf_11eb_8a7e_0242ac1c0002row1_col0\" class=\"data row1 col0\" >3.000000</td>\n",
              "                        <td id=\"T_0083e676_2adf_11eb_8a7e_0242ac1c0002row1_col1\" class=\"data row1 col1\" >10.000000</td>\n",
              "                        <td id=\"T_0083e676_2adf_11eb_8a7e_0242ac1c0002row1_col2\" class=\"data row1 col2\" >0.129331</td>\n",
              "                        <td id=\"T_0083e676_2adf_11eb_8a7e_0242ac1c0002row1_col3\" class=\"data row1 col3\" >0.513968</td>\n",
              "            </tr>\n",
              "            <tr>\n",
              "                        <th id=\"T_0083e676_2adf_11eb_8a7e_0242ac1c0002level0_row2\" class=\"row_heading level0 row2\" >2</th>\n",
              "                        <td id=\"T_0083e676_2adf_11eb_8a7e_0242ac1c0002row2_col0\" class=\"data row2 col0\" >5.000000</td>\n",
              "                        <td id=\"T_0083e676_2adf_11eb_8a7e_0242ac1c0002row2_col1\" class=\"data row2 col1\" >10.000000</td>\n",
              "                        <td id=\"T_0083e676_2adf_11eb_8a7e_0242ac1c0002row2_col2\" class=\"data row2 col2\" >0.214258</td>\n",
              "                        <td id=\"T_0083e676_2adf_11eb_8a7e_0242ac1c0002row2_col3\" class=\"data row2 col3\" >0.597153</td>\n",
              "            </tr>\n",
              "            <tr>\n",
              "                        <th id=\"T_0083e676_2adf_11eb_8a7e_0242ac1c0002level0_row3\" class=\"row_heading level0 row3\" >3</th>\n",
              "                        <td id=\"T_0083e676_2adf_11eb_8a7e_0242ac1c0002row3_col0\" class=\"data row3 col0\" >10.000000</td>\n",
              "                        <td id=\"T_0083e676_2adf_11eb_8a7e_0242ac1c0002row3_col1\" class=\"data row3 col1\" >10.000000</td>\n",
              "                        <td id=\"T_0083e676_2adf_11eb_8a7e_0242ac1c0002row3_col2\" class=\"data row3 col2\" >0.751661</td>\n",
              "                        <td id=\"T_0083e676_2adf_11eb_8a7e_0242ac1c0002row3_col3\" class=\"data row3 col3\" >1.152376</td>\n",
              "            </tr>\n",
              "            <tr>\n",
              "                        <th id=\"T_0083e676_2adf_11eb_8a7e_0242ac1c0002level0_row4\" class=\"row_heading level0 row4\" >4</th>\n",
              "                        <td id=\"T_0083e676_2adf_11eb_8a7e_0242ac1c0002row4_col0\" class=\"data row4 col0\" >30.000000</td>\n",
              "                        <td id=\"T_0083e676_2adf_11eb_8a7e_0242ac1c0002row4_col1\" class=\"data row4 col1\" >10.000000</td>\n",
              "                        <td id=\"T_0083e676_2adf_11eb_8a7e_0242ac1c0002row4_col2\" class=\"data row4 col2\" >0.698707</td>\n",
              "                        <td id=\"T_0083e676_2adf_11eb_8a7e_0242ac1c0002row4_col3\" class=\"data row4 col3\" >1.112792</td>\n",
              "            </tr>\n",
              "            <tr>\n",
              "                        <th id=\"T_0083e676_2adf_11eb_8a7e_0242ac1c0002level0_row5\" class=\"row_heading level0 row5\" >5</th>\n",
              "                        <td id=\"T_0083e676_2adf_11eb_8a7e_0242ac1c0002row5_col0\" class=\"data row5 col0\" >40.000000</td>\n",
              "                        <td id=\"T_0083e676_2adf_11eb_8a7e_0242ac1c0002row5_col1\" class=\"data row5 col1\" >10.000000</td>\n",
              "                        <td id=\"T_0083e676_2adf_11eb_8a7e_0242ac1c0002row5_col2\" class=\"data row5 col2\" >0.607945</td>\n",
              "                        <td id=\"T_0083e676_2adf_11eb_8a7e_0242ac1c0002row5_col3\" class=\"data row5 col3\" >0.974479</td>\n",
              "            </tr>\n",
              "            <tr>\n",
              "                        <th id=\"T_0083e676_2adf_11eb_8a7e_0242ac1c0002level0_row6\" class=\"row_heading level0 row6\" >6</th>\n",
              "                        <td id=\"T_0083e676_2adf_11eb_8a7e_0242ac1c0002row6_col0\" class=\"data row6 col0\" >1.000000</td>\n",
              "                        <td id=\"T_0083e676_2adf_11eb_8a7e_0242ac1c0002row6_col1\" class=\"data row6 col1\" >20.000000</td>\n",
              "                        <td id=\"T_0083e676_2adf_11eb_8a7e_0242ac1c0002row6_col2\" class=\"data row6 col2\" >0.074414</td>\n",
              "                        <td id=\"T_0083e676_2adf_11eb_8a7e_0242ac1c0002row6_col3\" class=\"data row6 col3\" >0.316314</td>\n",
              "            </tr>\n",
              "            <tr>\n",
              "                        <th id=\"T_0083e676_2adf_11eb_8a7e_0242ac1c0002level0_row7\" class=\"row_heading level0 row7\" >7</th>\n",
              "                        <td id=\"T_0083e676_2adf_11eb_8a7e_0242ac1c0002row7_col0\" class=\"data row7 col0\" >3.000000</td>\n",
              "                        <td id=\"T_0083e676_2adf_11eb_8a7e_0242ac1c0002row7_col1\" class=\"data row7 col1\" >20.000000</td>\n",
              "                        <td id=\"T_0083e676_2adf_11eb_8a7e_0242ac1c0002row7_col2\" class=\"data row7 col2\" >0.055649</td>\n",
              "                        <td id=\"T_0083e676_2adf_11eb_8a7e_0242ac1c0002row7_col3\" class=\"data row7 col3\" >0.138220</td>\n",
              "            </tr>\n",
              "            <tr>\n",
              "                        <th id=\"T_0083e676_2adf_11eb_8a7e_0242ac1c0002level0_row8\" class=\"row_heading level0 row8\" >8</th>\n",
              "                        <td id=\"T_0083e676_2adf_11eb_8a7e_0242ac1c0002row8_col0\" class=\"data row8 col0\" >5.000000</td>\n",
              "                        <td id=\"T_0083e676_2adf_11eb_8a7e_0242ac1c0002row8_col1\" class=\"data row8 col1\" >20.000000</td>\n",
              "                        <td id=\"T_0083e676_2adf_11eb_8a7e_0242ac1c0002row8_col2\" class=\"data row8 col2\" >0.114254</td>\n",
              "                        <td id=\"T_0083e676_2adf_11eb_8a7e_0242ac1c0002row8_col3\" class=\"data row8 col3\" >0.386620</td>\n",
              "            </tr>\n",
              "            <tr>\n",
              "                        <th id=\"T_0083e676_2adf_11eb_8a7e_0242ac1c0002level0_row9\" class=\"row_heading level0 row9\" >9</th>\n",
              "                        <td id=\"T_0083e676_2adf_11eb_8a7e_0242ac1c0002row9_col0\" class=\"data row9 col0\" >10.000000</td>\n",
              "                        <td id=\"T_0083e676_2adf_11eb_8a7e_0242ac1c0002row9_col1\" class=\"data row9 col1\" >20.000000</td>\n",
              "                        <td id=\"T_0083e676_2adf_11eb_8a7e_0242ac1c0002row9_col2\" class=\"data row9 col2\" >0.217318</td>\n",
              "                        <td id=\"T_0083e676_2adf_11eb_8a7e_0242ac1c0002row9_col3\" class=\"data row9 col3\" >0.198351</td>\n",
              "            </tr>\n",
              "            <tr>\n",
              "                        <th id=\"T_0083e676_2adf_11eb_8a7e_0242ac1c0002level0_row10\" class=\"row_heading level0 row10\" >10</th>\n",
              "                        <td id=\"T_0083e676_2adf_11eb_8a7e_0242ac1c0002row10_col0\" class=\"data row10 col0\" >30.000000</td>\n",
              "                        <td id=\"T_0083e676_2adf_11eb_8a7e_0242ac1c0002row10_col1\" class=\"data row10 col1\" >20.000000</td>\n",
              "                        <td id=\"T_0083e676_2adf_11eb_8a7e_0242ac1c0002row10_col2\" class=\"data row10 col2\" >0.055843</td>\n",
              "                        <td id=\"T_0083e676_2adf_11eb_8a7e_0242ac1c0002row10_col3\" class=\"data row10 col3\" >0.204245</td>\n",
              "            </tr>\n",
              "            <tr>\n",
              "                        <th id=\"T_0083e676_2adf_11eb_8a7e_0242ac1c0002level0_row11\" class=\"row_heading level0 row11\" >11</th>\n",
              "                        <td id=\"T_0083e676_2adf_11eb_8a7e_0242ac1c0002row11_col0\" class=\"data row11 col0\" >40.000000</td>\n",
              "                        <td id=\"T_0083e676_2adf_11eb_8a7e_0242ac1c0002row11_col1\" class=\"data row11 col1\" >20.000000</td>\n",
              "                        <td id=\"T_0083e676_2adf_11eb_8a7e_0242ac1c0002row11_col2\" class=\"data row11 col2\" >0.107831</td>\n",
              "                        <td id=\"T_0083e676_2adf_11eb_8a7e_0242ac1c0002row11_col3\" class=\"data row11 col3\" >0.454868</td>\n",
              "            </tr>\n",
              "            <tr>\n",
              "                        <th id=\"T_0083e676_2adf_11eb_8a7e_0242ac1c0002level0_row12\" class=\"row_heading level0 row12\" >12</th>\n",
              "                        <td id=\"T_0083e676_2adf_11eb_8a7e_0242ac1c0002row12_col0\" class=\"data row12 col0\" >1.000000</td>\n",
              "                        <td id=\"T_0083e676_2adf_11eb_8a7e_0242ac1c0002row12_col1\" class=\"data row12 col1\" >30.000000</td>\n",
              "                        <td id=\"T_0083e676_2adf_11eb_8a7e_0242ac1c0002row12_col2\" class=\"data row12 col2\" >0.869718</td>\n",
              "                        <td id=\"T_0083e676_2adf_11eb_8a7e_0242ac1c0002row12_col3\" class=\"data row12 col3\" >1.264040</td>\n",
              "            </tr>\n",
              "            <tr>\n",
              "                        <th id=\"T_0083e676_2adf_11eb_8a7e_0242ac1c0002level0_row13\" class=\"row_heading level0 row13\" >13</th>\n",
              "                        <td id=\"T_0083e676_2adf_11eb_8a7e_0242ac1c0002row13_col0\" class=\"data row13 col0\" >3.000000</td>\n",
              "                        <td id=\"T_0083e676_2adf_11eb_8a7e_0242ac1c0002row13_col1\" class=\"data row13 col1\" >30.000000</td>\n",
              "                        <td id=\"T_0083e676_2adf_11eb_8a7e_0242ac1c0002row13_col2\" class=\"data row13 col2\" >0.150109</td>\n",
              "                        <td id=\"T_0083e676_2adf_11eb_8a7e_0242ac1c0002row13_col3\" class=\"data row13 col3\" >0.523529</td>\n",
              "            </tr>\n",
              "            <tr>\n",
              "                        <th id=\"T_0083e676_2adf_11eb_8a7e_0242ac1c0002level0_row14\" class=\"row_heading level0 row14\" >14</th>\n",
              "                        <td id=\"T_0083e676_2adf_11eb_8a7e_0242ac1c0002row14_col0\" class=\"data row14 col0\" >5.000000</td>\n",
              "                        <td id=\"T_0083e676_2adf_11eb_8a7e_0242ac1c0002row14_col1\" class=\"data row14 col1\" >30.000000</td>\n",
              "                        <td id=\"T_0083e676_2adf_11eb_8a7e_0242ac1c0002row14_col2\" class=\"data row14 col2\" >0.565154</td>\n",
              "                        <td id=\"T_0083e676_2adf_11eb_8a7e_0242ac1c0002row14_col3\" class=\"data row14 col3\" >0.212019</td>\n",
              "            </tr>\n",
              "            <tr>\n",
              "                        <th id=\"T_0083e676_2adf_11eb_8a7e_0242ac1c0002level0_row15\" class=\"row_heading level0 row15\" >15</th>\n",
              "                        <td id=\"T_0083e676_2adf_11eb_8a7e_0242ac1c0002row15_col0\" class=\"data row15 col0\" >10.000000</td>\n",
              "                        <td id=\"T_0083e676_2adf_11eb_8a7e_0242ac1c0002row15_col1\" class=\"data row15 col1\" >30.000000</td>\n",
              "                        <td id=\"T_0083e676_2adf_11eb_8a7e_0242ac1c0002row15_col2\" class=\"data row15 col2\" >0.210724</td>\n",
              "                        <td id=\"T_0083e676_2adf_11eb_8a7e_0242ac1c0002row15_col3\" class=\"data row15 col3\" >0.205701</td>\n",
              "            </tr>\n",
              "            <tr>\n",
              "                        <th id=\"T_0083e676_2adf_11eb_8a7e_0242ac1c0002level0_row16\" class=\"row_heading level0 row16\" >16</th>\n",
              "                        <td id=\"T_0083e676_2adf_11eb_8a7e_0242ac1c0002row16_col0\" class=\"data row16 col0\" >30.000000</td>\n",
              "                        <td id=\"T_0083e676_2adf_11eb_8a7e_0242ac1c0002row16_col1\" class=\"data row16 col1\" >30.000000</td>\n",
              "                        <td id=\"T_0083e676_2adf_11eb_8a7e_0242ac1c0002row16_col2\" class=\"data row16 col2\" >0.189442</td>\n",
              "                        <td id=\"T_0083e676_2adf_11eb_8a7e_0242ac1c0002row16_col3\" class=\"data row16 col3\" >0.236676</td>\n",
              "            </tr>\n",
              "            <tr>\n",
              "                        <th id=\"T_0083e676_2adf_11eb_8a7e_0242ac1c0002level0_row17\" class=\"row_heading level0 row17\" >17</th>\n",
              "                        <td id=\"T_0083e676_2adf_11eb_8a7e_0242ac1c0002row17_col0\" class=\"data row17 col0\" >40.000000</td>\n",
              "                        <td id=\"T_0083e676_2adf_11eb_8a7e_0242ac1c0002row17_col1\" class=\"data row17 col1\" >30.000000</td>\n",
              "                        <td id=\"T_0083e676_2adf_11eb_8a7e_0242ac1c0002row17_col2\" class=\"data row17 col2\" >0.260887</td>\n",
              "                        <td id=\"T_0083e676_2adf_11eb_8a7e_0242ac1c0002row17_col3\" class=\"data row17 col3\" >1.698599</td>\n",
              "            </tr>\n",
              "    </tbody></table>"
            ],
            "text/plain": [
              "<pandas.io.formats.style.Styler at 0x7f45a6fd66d8>"
            ]
          },
          "metadata": {
            "tags": []
          },
          "execution_count": 16
        }
      ]
    },
    {
      "cell_type": "markdown",
      "metadata": {
        "id": "xUBn1aHoUHJE"
      },
      "source": [
        "## Ejercicio 4 - Comparación con LSTM\n",
        "\n",
        "En nuestro ultimo ejercicio, vamos a comparar los resultados obtenidos hasta ahora con una LSTM, Para ellos vamos a usar una libreria llamada [Tensorflow](https://www.tensorflow.org/?hl=es-419). Esta libreria es unos de las librerias estandares para entrenar redes neuronales (hay otras librerias cada vez más populares, [PyTorch](https://pytorch.org/)). En un entorno real es preferible usar algunas de estas librerias para trabajar con redes neuronales.\n",
        "\n",
        "Nota: en el alcance del curso no vamos a ver detalles de como crear modelos con estas librerias. Estos temas corresponden a temas más avanzados de Deep Learning. En el código se usan conceptos que nos vamos a profundizar, sin embargo se invita a alimentar la curiosidad."
      ]
    },
    {
      "cell_type": "code",
      "metadata": {
        "id": "kXqnWgG1UHJF",
        "cellView": "form"
      },
      "source": [
        "#@title Pregunta Abierta\n",
        "#@markdown ¿por qué una red LSTM puede ser mas adecuada para resolver este problema? justifique\n",
        "respuesta_4 = \"Dado que la secuencia es demasiado larga, tiene alrededor de 11 a\\xF1os y es por meses, LSTM va a ser mas adecuada ya que tiene la capacidad de aprender, de tiempo corto, largo y asi mismo de decir cuando olvidar. Asi que seria adecuado este modelo para el problema, ya que se necesita aprender dependencias de orden superior en los datos\" #@param {type:\"string\"}"
      ],
      "execution_count": 17,
      "outputs": []
    },
    {
      "cell_type": "markdown",
      "metadata": {
        "id": "0NeZ5PiEUHJG"
      },
      "source": [
        "Aca creamos el modelo LSTM usando tensorflow:"
      ]
    },
    {
      "cell_type": "code",
      "metadata": {
        "id": "Fns_PiMPUHJG"
      },
      "source": [
        "from tensorflow.keras.models import Sequential\n",
        "from tensorflow.keras.layers import Dense\n",
        "from tensorflow.keras.layers import LSTM\n",
        "def create_tf_model(look_back, num_hidden_neurons):\n",
        "    \"\"\"funcion que crear modelo LSTM con base al número de lags y numero de neuronas\"\"\"\n",
        "    model = Sequential()\n",
        "    model.add(LSTM(num_hidden_neurons, input_shape=(1, look_back)))\n",
        "    model.add(Dense(1))\n",
        "    model.compile(loss='mean_squared_error', optimizer='adam')\n",
        "    return(model)"
      ],
      "execution_count": 18,
      "outputs": []
    },
    {
      "cell_type": "markdown",
      "metadata": {
        "id": "Px5VQBhDUHJI"
      },
      "source": [
        "Vamos aseguranos de completar el código para lograr:\n",
        "1. Epocas = 100\n",
        "2. Pasar los parametros el la función `create_tf_model`\n",
        "3. utilizar como medida de error el error absoluto medio.  [recordar usar la implementación del modulo de metricas de sklearn](https://scikit-learn.org/stable/modules/classes.html#module-sklearn.metrics)"
      ]
    },
    {
      "cell_type": "code",
      "metadata": {
        "id": "n-zgWDvfUHJI"
      },
      "source": [
        "#ejercicio de código\n",
        "import tensorflow as tf\n",
        "def experimentar_LSTM(data, look_backs, hidden_neurons):\n",
        "    \"\"\"funcion que realiza experimentos para evaluar una LSTM usando\n",
        "        MAE Error Absoluto medio\n",
        "    \n",
        "    data: pd.Dataframe, dataset a usar\n",
        "    look_back: List[int], lista con los numero de retrasos a evaluar\n",
        "    hidden_neurons: List[int], list con el numero de neuronas en la capa oculta\n",
        "    retorna: pd.Dataframe con las siguientes columnas:\n",
        "        - lags\n",
        "        - neuronas por capas\n",
        "        - error de entrenamiento\n",
        "        - error de prueba\n",
        "    \"\"\"\n",
        "    # we need to normalize the dataset before\n",
        "    #\n",
        "    scaler = MinMaxScaler(feature_range=(0, 1))\n",
        "    dataset = scaler.fit_transform(data)\n",
        "    # split into train and test sets\n",
        "    train_size = int(len(dataset) * 0.7)\n",
        "    test_size = len(dataset) - train_size\n",
        "    train, test = dataset[0:train_size,:], dataset[train_size:len(dataset),:]\n",
        "    resultados = pd.DataFrame()\n",
        "    idx = 0\n",
        "    for num_hidden_neurons in hidden_neurons:\n",
        "        for look_back in look_backs:\n",
        "            # reshape into X=t-look_back+1:t and Y=t+1\n",
        "            trainX, trainY = create_dataset(train, look_back)\n",
        "            testX, testY = create_dataset(test, look_back)\n",
        "            # adaptar para compatibilidad con tensorflow\n",
        "            trainX = np.reshape(trainX, (trainX.shape[0], 1, trainX.shape[1]))\n",
        "            testX = np.reshape(testX, (testX.shape[0], 1, testX.shape[1]))\n",
        "            tf.compat.v1.disable_eager_execution() # para evitar algunos warnings\n",
        "            # llama la función definida anteriormente\n",
        "            model = create_tf_model(look_back, num_hidden_neurons)\n",
        "            # pasa el las epocas requeridas\n",
        "            model.fit(trainX, trainY, epochs=100, batch_size=1, verbose=None)\n",
        "            # Evaluar la red con los datos de test y entrenamiento \n",
        "            trainYPred = model.predict(trainX)\n",
        "            testYPred = model.predict(testX)\n",
        "            # Calculo de error\n",
        "            errorTrain = mean_absolute_error(trainY, trainYPred)\n",
        "            errorTest = mean_absolute_error(testY, testYPred)\n",
        "            resultados.loc[idx,'lags'] = look_back\n",
        "            resultados.loc[idx,'neuronas por capa'] = num_hidden_neurons \n",
        "            resultados.loc[idx,'error de entrenamiento'] = errorTrain\n",
        "            resultados.loc[idx,'error de prueba'] = errorTest\n",
        "            idx+=1\n",
        "            print(\"termina un experimento con\", errorTrain, errorTest)\n",
        "    \n",
        "    return (resultados)"
      ],
      "execution_count": 19,
      "outputs": []
    },
    {
      "cell_type": "code",
      "metadata": {
        "id": "3KOxj5zIUHJK",
        "colab": {
          "base_uri": "https://localhost:8080/"
        },
        "outputId": "a44b1127-38b3-4b82-cfac-aeb81d5d7eae"
      },
      "source": [
        "# ignorar los prints!\n",
        "GRADER.run_test(\"ejercicio3\", experimentar_LSTM)"
      ],
      "execution_count": 20,
      "outputs": [
        {
          "output_type": "stream",
          "text": [
            "WARNING:tensorflow:From /usr/local/lib/python3.6/dist-packages/tensorflow/python/keras/engine/training_v1.py:2070: Model.state_updates (from tensorflow.python.keras.engine.training) is deprecated and will be removed in a future version.\n",
            "Instructions for updating:\n",
            "This property should not be used in TensorFlow 2.0, as updates are applied automatically.\n",
            "termina un experimento con 0.1639784905136295 0.3305947303662056\n",
            "termina un experimento con 0.1454812713498109 0.3727200704287421\n",
            "TEST EXITOSO!\n"
          ],
          "name": "stdout"
        }
      ]
    },
    {
      "cell_type": "code",
      "metadata": {
        "id": "1mt8kaTCUHJL",
        "colab": {
          "base_uri": "https://localhost:8080/"
        },
        "outputId": "72de719e-46f2-4633-cf5f-610f029b8a08"
      },
      "source": [
        "# demora algunos minutos!\n",
        "resultadosLSTM = experimentar_LSTM(dataset, look_backs = [1,3,5,20,30,40], hidden_neurons=[5,10,15])"
      ],
      "execution_count": 21,
      "outputs": [
        {
          "output_type": "stream",
          "text": [
            "termina un experimento con 0.03575034006874116 0.08185619664314939\n",
            "termina un experimento con 0.036971094701795354 0.08544109873905145\n",
            "termina un experimento con 0.03975264122269716 0.06746004636913652\n",
            "termina un experimento con 0.016094035759985508 0.047565192304362736\n",
            "termina un experimento con 0.013326875794168015 0.028481004391787187\n",
            "termina un experimento con 0.020531120798630068 0.029996948582785454\n",
            "termina un experimento con 0.03547494369909401 0.08305426277555862\n",
            "termina un experimento con 0.03829853348977843 0.07520371860749013\n",
            "termina un experimento con 0.03507917745554985 0.07686432172275369\n",
            "termina un experimento con 0.015139648381577494 0.030114622850115503\n",
            "termina un experimento con 0.012492663091057248 0.03904688813263632\n",
            "termina un experimento con 0.012566936225933542 0.060280721850376806\n",
            "termina un experimento con 0.03566846456325861 0.08347782473459822\n",
            "termina un experimento con 0.03407630469962456 0.09014758071268847\n",
            "termina un experimento con 0.03677895194809931 0.07265879662873613\n",
            "termina un experimento con 0.01478204736374562 0.022763263484826098\n",
            "termina un experimento con 0.011813498435603594 0.041385270577706315\n",
            "termina un experimento con 0.01648185700109888 0.17149774379251548\n"
          ],
          "name": "stdout"
        }
      ]
    },
    {
      "cell_type": "code",
      "metadata": {
        "id": "g_md7Qc_UHJN",
        "colab": {
          "base_uri": "https://localhost:8080/",
          "height": 416
        },
        "outputId": "0f7e5785-b2bf-4110-c669-46c659f59ae8"
      },
      "source": [
        "# para ver los resultados\n",
        "# en esta instruccion se va resaltar el mejor\n",
        "# error y tiempo de entrenamiento\n",
        "resultadosLSTM.style.highlight_min(color = 'lightgreen', axis = 0, subset = ['error de prueba'])"
      ],
      "execution_count": 22,
      "outputs": [
        {
          "output_type": "execute_result",
          "data": {
            "text/html": [
              "<style  type=\"text/css\" >\n",
              "#T_8b668b9a_2adf_11eb_8a7e_0242ac1c0002row15_col3{\n",
              "            background-color:  lightgreen;\n",
              "        }</style><table id=\"T_8b668b9a_2adf_11eb_8a7e_0242ac1c0002\" ><thead>    <tr>        <th class=\"blank level0\" ></th>        <th class=\"col_heading level0 col0\" >lags</th>        <th class=\"col_heading level0 col1\" >neuronas por capa</th>        <th class=\"col_heading level0 col2\" >error de entrenamiento</th>        <th class=\"col_heading level0 col3\" >error de prueba</th>    </tr></thead><tbody>\n",
              "                <tr>\n",
              "                        <th id=\"T_8b668b9a_2adf_11eb_8a7e_0242ac1c0002level0_row0\" class=\"row_heading level0 row0\" >0</th>\n",
              "                        <td id=\"T_8b668b9a_2adf_11eb_8a7e_0242ac1c0002row0_col0\" class=\"data row0 col0\" >1.000000</td>\n",
              "                        <td id=\"T_8b668b9a_2adf_11eb_8a7e_0242ac1c0002row0_col1\" class=\"data row0 col1\" >5.000000</td>\n",
              "                        <td id=\"T_8b668b9a_2adf_11eb_8a7e_0242ac1c0002row0_col2\" class=\"data row0 col2\" >0.035750</td>\n",
              "                        <td id=\"T_8b668b9a_2adf_11eb_8a7e_0242ac1c0002row0_col3\" class=\"data row0 col3\" >0.081856</td>\n",
              "            </tr>\n",
              "            <tr>\n",
              "                        <th id=\"T_8b668b9a_2adf_11eb_8a7e_0242ac1c0002level0_row1\" class=\"row_heading level0 row1\" >1</th>\n",
              "                        <td id=\"T_8b668b9a_2adf_11eb_8a7e_0242ac1c0002row1_col0\" class=\"data row1 col0\" >3.000000</td>\n",
              "                        <td id=\"T_8b668b9a_2adf_11eb_8a7e_0242ac1c0002row1_col1\" class=\"data row1 col1\" >5.000000</td>\n",
              "                        <td id=\"T_8b668b9a_2adf_11eb_8a7e_0242ac1c0002row1_col2\" class=\"data row1 col2\" >0.036971</td>\n",
              "                        <td id=\"T_8b668b9a_2adf_11eb_8a7e_0242ac1c0002row1_col3\" class=\"data row1 col3\" >0.085441</td>\n",
              "            </tr>\n",
              "            <tr>\n",
              "                        <th id=\"T_8b668b9a_2adf_11eb_8a7e_0242ac1c0002level0_row2\" class=\"row_heading level0 row2\" >2</th>\n",
              "                        <td id=\"T_8b668b9a_2adf_11eb_8a7e_0242ac1c0002row2_col0\" class=\"data row2 col0\" >5.000000</td>\n",
              "                        <td id=\"T_8b668b9a_2adf_11eb_8a7e_0242ac1c0002row2_col1\" class=\"data row2 col1\" >5.000000</td>\n",
              "                        <td id=\"T_8b668b9a_2adf_11eb_8a7e_0242ac1c0002row2_col2\" class=\"data row2 col2\" >0.039753</td>\n",
              "                        <td id=\"T_8b668b9a_2adf_11eb_8a7e_0242ac1c0002row2_col3\" class=\"data row2 col3\" >0.067460</td>\n",
              "            </tr>\n",
              "            <tr>\n",
              "                        <th id=\"T_8b668b9a_2adf_11eb_8a7e_0242ac1c0002level0_row3\" class=\"row_heading level0 row3\" >3</th>\n",
              "                        <td id=\"T_8b668b9a_2adf_11eb_8a7e_0242ac1c0002row3_col0\" class=\"data row3 col0\" >20.000000</td>\n",
              "                        <td id=\"T_8b668b9a_2adf_11eb_8a7e_0242ac1c0002row3_col1\" class=\"data row3 col1\" >5.000000</td>\n",
              "                        <td id=\"T_8b668b9a_2adf_11eb_8a7e_0242ac1c0002row3_col2\" class=\"data row3 col2\" >0.016094</td>\n",
              "                        <td id=\"T_8b668b9a_2adf_11eb_8a7e_0242ac1c0002row3_col3\" class=\"data row3 col3\" >0.047565</td>\n",
              "            </tr>\n",
              "            <tr>\n",
              "                        <th id=\"T_8b668b9a_2adf_11eb_8a7e_0242ac1c0002level0_row4\" class=\"row_heading level0 row4\" >4</th>\n",
              "                        <td id=\"T_8b668b9a_2adf_11eb_8a7e_0242ac1c0002row4_col0\" class=\"data row4 col0\" >30.000000</td>\n",
              "                        <td id=\"T_8b668b9a_2adf_11eb_8a7e_0242ac1c0002row4_col1\" class=\"data row4 col1\" >5.000000</td>\n",
              "                        <td id=\"T_8b668b9a_2adf_11eb_8a7e_0242ac1c0002row4_col2\" class=\"data row4 col2\" >0.013327</td>\n",
              "                        <td id=\"T_8b668b9a_2adf_11eb_8a7e_0242ac1c0002row4_col3\" class=\"data row4 col3\" >0.028481</td>\n",
              "            </tr>\n",
              "            <tr>\n",
              "                        <th id=\"T_8b668b9a_2adf_11eb_8a7e_0242ac1c0002level0_row5\" class=\"row_heading level0 row5\" >5</th>\n",
              "                        <td id=\"T_8b668b9a_2adf_11eb_8a7e_0242ac1c0002row5_col0\" class=\"data row5 col0\" >40.000000</td>\n",
              "                        <td id=\"T_8b668b9a_2adf_11eb_8a7e_0242ac1c0002row5_col1\" class=\"data row5 col1\" >5.000000</td>\n",
              "                        <td id=\"T_8b668b9a_2adf_11eb_8a7e_0242ac1c0002row5_col2\" class=\"data row5 col2\" >0.020531</td>\n",
              "                        <td id=\"T_8b668b9a_2adf_11eb_8a7e_0242ac1c0002row5_col3\" class=\"data row5 col3\" >0.029997</td>\n",
              "            </tr>\n",
              "            <tr>\n",
              "                        <th id=\"T_8b668b9a_2adf_11eb_8a7e_0242ac1c0002level0_row6\" class=\"row_heading level0 row6\" >6</th>\n",
              "                        <td id=\"T_8b668b9a_2adf_11eb_8a7e_0242ac1c0002row6_col0\" class=\"data row6 col0\" >1.000000</td>\n",
              "                        <td id=\"T_8b668b9a_2adf_11eb_8a7e_0242ac1c0002row6_col1\" class=\"data row6 col1\" >10.000000</td>\n",
              "                        <td id=\"T_8b668b9a_2adf_11eb_8a7e_0242ac1c0002row6_col2\" class=\"data row6 col2\" >0.035475</td>\n",
              "                        <td id=\"T_8b668b9a_2adf_11eb_8a7e_0242ac1c0002row6_col3\" class=\"data row6 col3\" >0.083054</td>\n",
              "            </tr>\n",
              "            <tr>\n",
              "                        <th id=\"T_8b668b9a_2adf_11eb_8a7e_0242ac1c0002level0_row7\" class=\"row_heading level0 row7\" >7</th>\n",
              "                        <td id=\"T_8b668b9a_2adf_11eb_8a7e_0242ac1c0002row7_col0\" class=\"data row7 col0\" >3.000000</td>\n",
              "                        <td id=\"T_8b668b9a_2adf_11eb_8a7e_0242ac1c0002row7_col1\" class=\"data row7 col1\" >10.000000</td>\n",
              "                        <td id=\"T_8b668b9a_2adf_11eb_8a7e_0242ac1c0002row7_col2\" class=\"data row7 col2\" >0.038299</td>\n",
              "                        <td id=\"T_8b668b9a_2adf_11eb_8a7e_0242ac1c0002row7_col3\" class=\"data row7 col3\" >0.075204</td>\n",
              "            </tr>\n",
              "            <tr>\n",
              "                        <th id=\"T_8b668b9a_2adf_11eb_8a7e_0242ac1c0002level0_row8\" class=\"row_heading level0 row8\" >8</th>\n",
              "                        <td id=\"T_8b668b9a_2adf_11eb_8a7e_0242ac1c0002row8_col0\" class=\"data row8 col0\" >5.000000</td>\n",
              "                        <td id=\"T_8b668b9a_2adf_11eb_8a7e_0242ac1c0002row8_col1\" class=\"data row8 col1\" >10.000000</td>\n",
              "                        <td id=\"T_8b668b9a_2adf_11eb_8a7e_0242ac1c0002row8_col2\" class=\"data row8 col2\" >0.035079</td>\n",
              "                        <td id=\"T_8b668b9a_2adf_11eb_8a7e_0242ac1c0002row8_col3\" class=\"data row8 col3\" >0.076864</td>\n",
              "            </tr>\n",
              "            <tr>\n",
              "                        <th id=\"T_8b668b9a_2adf_11eb_8a7e_0242ac1c0002level0_row9\" class=\"row_heading level0 row9\" >9</th>\n",
              "                        <td id=\"T_8b668b9a_2adf_11eb_8a7e_0242ac1c0002row9_col0\" class=\"data row9 col0\" >20.000000</td>\n",
              "                        <td id=\"T_8b668b9a_2adf_11eb_8a7e_0242ac1c0002row9_col1\" class=\"data row9 col1\" >10.000000</td>\n",
              "                        <td id=\"T_8b668b9a_2adf_11eb_8a7e_0242ac1c0002row9_col2\" class=\"data row9 col2\" >0.015140</td>\n",
              "                        <td id=\"T_8b668b9a_2adf_11eb_8a7e_0242ac1c0002row9_col3\" class=\"data row9 col3\" >0.030115</td>\n",
              "            </tr>\n",
              "            <tr>\n",
              "                        <th id=\"T_8b668b9a_2adf_11eb_8a7e_0242ac1c0002level0_row10\" class=\"row_heading level0 row10\" >10</th>\n",
              "                        <td id=\"T_8b668b9a_2adf_11eb_8a7e_0242ac1c0002row10_col0\" class=\"data row10 col0\" >30.000000</td>\n",
              "                        <td id=\"T_8b668b9a_2adf_11eb_8a7e_0242ac1c0002row10_col1\" class=\"data row10 col1\" >10.000000</td>\n",
              "                        <td id=\"T_8b668b9a_2adf_11eb_8a7e_0242ac1c0002row10_col2\" class=\"data row10 col2\" >0.012493</td>\n",
              "                        <td id=\"T_8b668b9a_2adf_11eb_8a7e_0242ac1c0002row10_col3\" class=\"data row10 col3\" >0.039047</td>\n",
              "            </tr>\n",
              "            <tr>\n",
              "                        <th id=\"T_8b668b9a_2adf_11eb_8a7e_0242ac1c0002level0_row11\" class=\"row_heading level0 row11\" >11</th>\n",
              "                        <td id=\"T_8b668b9a_2adf_11eb_8a7e_0242ac1c0002row11_col0\" class=\"data row11 col0\" >40.000000</td>\n",
              "                        <td id=\"T_8b668b9a_2adf_11eb_8a7e_0242ac1c0002row11_col1\" class=\"data row11 col1\" >10.000000</td>\n",
              "                        <td id=\"T_8b668b9a_2adf_11eb_8a7e_0242ac1c0002row11_col2\" class=\"data row11 col2\" >0.012567</td>\n",
              "                        <td id=\"T_8b668b9a_2adf_11eb_8a7e_0242ac1c0002row11_col3\" class=\"data row11 col3\" >0.060281</td>\n",
              "            </tr>\n",
              "            <tr>\n",
              "                        <th id=\"T_8b668b9a_2adf_11eb_8a7e_0242ac1c0002level0_row12\" class=\"row_heading level0 row12\" >12</th>\n",
              "                        <td id=\"T_8b668b9a_2adf_11eb_8a7e_0242ac1c0002row12_col0\" class=\"data row12 col0\" >1.000000</td>\n",
              "                        <td id=\"T_8b668b9a_2adf_11eb_8a7e_0242ac1c0002row12_col1\" class=\"data row12 col1\" >15.000000</td>\n",
              "                        <td id=\"T_8b668b9a_2adf_11eb_8a7e_0242ac1c0002row12_col2\" class=\"data row12 col2\" >0.035668</td>\n",
              "                        <td id=\"T_8b668b9a_2adf_11eb_8a7e_0242ac1c0002row12_col3\" class=\"data row12 col3\" >0.083478</td>\n",
              "            </tr>\n",
              "            <tr>\n",
              "                        <th id=\"T_8b668b9a_2adf_11eb_8a7e_0242ac1c0002level0_row13\" class=\"row_heading level0 row13\" >13</th>\n",
              "                        <td id=\"T_8b668b9a_2adf_11eb_8a7e_0242ac1c0002row13_col0\" class=\"data row13 col0\" >3.000000</td>\n",
              "                        <td id=\"T_8b668b9a_2adf_11eb_8a7e_0242ac1c0002row13_col1\" class=\"data row13 col1\" >15.000000</td>\n",
              "                        <td id=\"T_8b668b9a_2adf_11eb_8a7e_0242ac1c0002row13_col2\" class=\"data row13 col2\" >0.034076</td>\n",
              "                        <td id=\"T_8b668b9a_2adf_11eb_8a7e_0242ac1c0002row13_col3\" class=\"data row13 col3\" >0.090148</td>\n",
              "            </tr>\n",
              "            <tr>\n",
              "                        <th id=\"T_8b668b9a_2adf_11eb_8a7e_0242ac1c0002level0_row14\" class=\"row_heading level0 row14\" >14</th>\n",
              "                        <td id=\"T_8b668b9a_2adf_11eb_8a7e_0242ac1c0002row14_col0\" class=\"data row14 col0\" >5.000000</td>\n",
              "                        <td id=\"T_8b668b9a_2adf_11eb_8a7e_0242ac1c0002row14_col1\" class=\"data row14 col1\" >15.000000</td>\n",
              "                        <td id=\"T_8b668b9a_2adf_11eb_8a7e_0242ac1c0002row14_col2\" class=\"data row14 col2\" >0.036779</td>\n",
              "                        <td id=\"T_8b668b9a_2adf_11eb_8a7e_0242ac1c0002row14_col3\" class=\"data row14 col3\" >0.072659</td>\n",
              "            </tr>\n",
              "            <tr>\n",
              "                        <th id=\"T_8b668b9a_2adf_11eb_8a7e_0242ac1c0002level0_row15\" class=\"row_heading level0 row15\" >15</th>\n",
              "                        <td id=\"T_8b668b9a_2adf_11eb_8a7e_0242ac1c0002row15_col0\" class=\"data row15 col0\" >20.000000</td>\n",
              "                        <td id=\"T_8b668b9a_2adf_11eb_8a7e_0242ac1c0002row15_col1\" class=\"data row15 col1\" >15.000000</td>\n",
              "                        <td id=\"T_8b668b9a_2adf_11eb_8a7e_0242ac1c0002row15_col2\" class=\"data row15 col2\" >0.014782</td>\n",
              "                        <td id=\"T_8b668b9a_2adf_11eb_8a7e_0242ac1c0002row15_col3\" class=\"data row15 col3\" >0.022763</td>\n",
              "            </tr>\n",
              "            <tr>\n",
              "                        <th id=\"T_8b668b9a_2adf_11eb_8a7e_0242ac1c0002level0_row16\" class=\"row_heading level0 row16\" >16</th>\n",
              "                        <td id=\"T_8b668b9a_2adf_11eb_8a7e_0242ac1c0002row16_col0\" class=\"data row16 col0\" >30.000000</td>\n",
              "                        <td id=\"T_8b668b9a_2adf_11eb_8a7e_0242ac1c0002row16_col1\" class=\"data row16 col1\" >15.000000</td>\n",
              "                        <td id=\"T_8b668b9a_2adf_11eb_8a7e_0242ac1c0002row16_col2\" class=\"data row16 col2\" >0.011813</td>\n",
              "                        <td id=\"T_8b668b9a_2adf_11eb_8a7e_0242ac1c0002row16_col3\" class=\"data row16 col3\" >0.041385</td>\n",
              "            </tr>\n",
              "            <tr>\n",
              "                        <th id=\"T_8b668b9a_2adf_11eb_8a7e_0242ac1c0002level0_row17\" class=\"row_heading level0 row17\" >17</th>\n",
              "                        <td id=\"T_8b668b9a_2adf_11eb_8a7e_0242ac1c0002row17_col0\" class=\"data row17 col0\" >40.000000</td>\n",
              "                        <td id=\"T_8b668b9a_2adf_11eb_8a7e_0242ac1c0002row17_col1\" class=\"data row17 col1\" >15.000000</td>\n",
              "                        <td id=\"T_8b668b9a_2adf_11eb_8a7e_0242ac1c0002row17_col2\" class=\"data row17 col2\" >0.016482</td>\n",
              "                        <td id=\"T_8b668b9a_2adf_11eb_8a7e_0242ac1c0002row17_col3\" class=\"data row17 col3\" >0.171498</td>\n",
              "            </tr>\n",
              "    </tbody></table>"
            ],
            "text/plain": [
              "<pandas.io.formats.style.Styler at 0x7f456a237320>"
            ]
          },
          "metadata": {
            "tags": []
          },
          "execution_count": 22
        }
      ]
    },
    {
      "cell_type": "code",
      "metadata": {
        "id": "RgMlGhUgUHJP",
        "colab": {
          "base_uri": "https://localhost:8080/",
          "height": 401
        },
        "outputId": "bf7fd297-84ec-45a9-8cce-0c578c4b368e"
      },
      "source": [
        "# observa el comportamiento de los lags y comparar con elman\n",
        "import seaborn as sns\n",
        "resultadosLSTM['tipo_de_red'] = 'LSTM'\n",
        "resultadosElman['tipo_de_red'] = 'Elman'\n",
        "lstm_vs_elman = pd.concat([resultadosLSTM, resultadosElman], axis= 0 , ignore_index = True)\n",
        "sns.relplot(data= lstm_vs_elman, x= 'lags', y = 'error de prueba', kind = 'line', hue = 'tipo_de_red')"
      ],
      "execution_count": 23,
      "outputs": [
        {
          "output_type": "execute_result",
          "data": {
            "text/plain": [
              "<seaborn.axisgrid.FacetGrid at 0x7f456842d9b0>"
            ]
          },
          "metadata": {
            "tags": []
          },
          "execution_count": 23
        },
        {
          "output_type": "display_data",
          "data": {
            "image/png": "[encoded data removed]",
            "text/plain": [
              "<Figure size 427.25x360 with 1 Axes>"
            ]
          },
          "metadata": {
            "tags": [],
            "needs_background": "light"
          }
        }
      ]
    },
    {
      "cell_type": "code",
      "metadata": {
        "id": "MrKvqWw2UHJS",
        "colab": {
          "base_uri": "https://localhost:8080/"
        },
        "outputId": "6d2b4525-dc92-4331-9a5a-50b78bfde9fe"
      },
      "source": [
        "GRADER.check_tests()"
      ],
      "execution_count": 27,
      "outputs": [
        {
          "output_type": "stream",
          "text": [
            "Todo se ve ok. Asegurate de responder las preguntas abiertas y envia e archivo al formulario ¡buen trabajo!\n"
          ],
          "name": "stdout"
        }
      ]
    },
    {
      "cell_type": "code",
      "metadata": {
        "id": "bqLnLhkbUHJT",
        "cellView": "form"
      },
      "source": [
        "#@title Integrantes\n",
        "codigo_integrante_1 ='1017251689' #@param {type:\"string\"}\n",
        "codigo_integrante_2 = ''  #@param {type:\"string\"}"
      ],
      "execution_count": 25,
      "outputs": []
    },
    {
      "cell_type": "markdown",
      "metadata": {
        "id": "49ks-ybfUHJV"
      },
      "source": [
        "----\n",
        "esta linea de codigo va fallar, es de uso exclusivo de los profesores\n"
      ]
    },
    {
      "cell_type": "code",
      "metadata": {
        "id": "MJl4We7lUHJV",
        "colab": {
          "base_uri": "https://localhost:8080/"
        },
        "outputId": "62de9309-9c49-4711-fdfc-2dc359803327"
      },
      "source": [
        "GRADER.grade()"
      ],
      "execution_count": 26,
      "outputs": [
        {
          "output_type": "stream",
          "text": [
            "uso del docente\n"
          ],
          "name": "stdout"
        }
      ]
    }
  ]
}