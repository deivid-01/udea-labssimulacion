{
  "nbformat": 4,
  "nbformat_minor": 0,
  "metadata": {
    "kernelspec": {
      "display_name": "Python 3",
      "language": "python",
      "name": "python3"
    },
    "language_info": {
      "codemirror_mode": {
        "name": "ipython",
        "version": 3
      },
      "file_extension": ".py",
      "mimetype": "text/x-python",
      "name": "python",
      "nbconvert_exporter": "python",
      "pygments_lexer": "ipython3",
      "version": "3.6.9"
    },
    "colab": {
      "name": "lab4_parte2.ipynb",
      "provenance": [],
      "collapsed_sections": [],
      "toc_visible": true
    }
  },
  "cells": [
    {
      "cell_type": "markdown",
      "metadata": {
        "id": "cww0rGZXTbDv"
      },
      "source": [
        "<a href=\"https://colab.research.google.com/github/jdariasl/ML_2020/blob/master/Labs/lab4/lab4_parte2.ipynb\">\n",
        "    <img src=\"https://colab.research.google.com/assets/colab-badge.svg\" alt=\"Open In Colab\"/></a>\n",
        "\n",
        "**Recuerda que una vez abierto, Da clic en \"Copiar en Drive\", de lo contrario no podras almacenar tu progreso**\n",
        "\n",
        "Nota: no olvide ir ejecutando las celdas de código de arriba hacia abajo para que no tenga errores de importación de librerías o por falta de definición de variables."
      ]
    },
    {
      "cell_type": "code",
      "metadata": {
        "id": "vB07QCZfTbDx",
        "colab": {
          "base_uri": "https://localhost:8080/"
        },
        "outputId": "33ee476a-bd2b-47c9-c8b9-c8dd8ba66f3f"
      },
      "source": [
        "#configuración del laboratorio\n",
        "# Ejecuta esta celda!\n",
        "%load_ext autoreload\n",
        "%autoreload 2\n",
        "#for local \n",
        "#import sys ; sys.path.append('../commons/utils/')\n",
        "!wget https://raw.githubusercontent.com/jdariasl/ML_2020/master/Labs/commons/utils/general.py -O general.py --no-cache\n",
        "from general import configure_lab4\n",
        "configure_lab4()\n",
        "from lab4 import *\n",
        "GRADER = part_2()"
      ],
      "execution_count": 1,
      "outputs": [
        {
          "output_type": "stream",
          "text": [
            "--2020-11-17 19:57:14--  https://raw.githubusercontent.com/jdariasl/ML_2020/master/Labs/commons/utils/general.py\n",
            "Resolving raw.githubusercontent.com (raw.githubusercontent.com)... 151.101.0.133, 151.101.64.133, 151.101.128.133, ...\n",
            "Connecting to raw.githubusercontent.com (raw.githubusercontent.com)|151.101.0.133|:443... connected.\n",
            "HTTP request sent, awaiting response... 200 OK\n",
            "Length: 14117 (14K) [text/plain]\n",
            "Saving to: ‘general.py’\n",
            "\n",
            "\rgeneral.py            0%[                    ]       0  --.-KB/s               \rgeneral.py          100%[===================>]  13.79K  --.-KB/s    in 0.001s  \n",
            "\n",
            "2020-11-17 19:57:14 (17.6 MB/s) - ‘general.py’ saved [14117/14117]\n",
            "\n",
            "lab configuration started\n",
            "installing libraries\n",
            "downloading files\n",
            "lab configured\n"
          ],
          "name": "stdout"
        }
      ]
    },
    {
      "cell_type": "markdown",
      "metadata": {
        "id": "qwRIzDC9TbD2"
      },
      "source": [
        "# Laboratorio 4 - Parte 2"
      ]
    },
    {
      "cell_type": "markdown",
      "metadata": {
        "id": "lkLns0kiTbD3"
      },
      "source": [
        "En este laboratorio vamos analizar el efecto del sobre-ajuste (*over-fitting*), como identificarlo y como podemos regualizar los modelos para evitarlo o disminuir su efecto. \n",
        "\n",
        "En este laboratorio, vamos a enfocarnos en 2 modelos (usando libreria de sklearn): \n",
        "\n",
        "1. Regresión logistica \n",
        "2. MLP\n",
        "\n",
        "**No vamos enfocarnos en como tratar la maldición de la dimensionalidad** ya que esto lo vamos a ver un poco más adelante cuando evaluemos las tecnicas de selección de caracteristicas."
      ]
    },
    {
      "cell_type": "markdown",
      "metadata": {
        "id": "cBGpm893TbD3"
      },
      "source": [
        "Vamos usar [el dataset de digitos escritos a mano](https://scikit-learn.org/stable/modules/generated/sklearn.datasets.load_digits.html) para realizar nuestra practica."
      ]
    },
    {
      "cell_type": "code",
      "metadata": {
        "id": "aE2yg_cETbD3"
      },
      "source": [
        "x,y = load_digits(return_X_y=True)"
      ],
      "execution_count": 2,
      "outputs": []
    },
    {
      "cell_type": "markdown",
      "metadata": {
        "id": "VYnk2FwSTbD5"
      },
      "source": [
        "Una de las condiciones para que se presente sobre-ajustes es tener un conjunto de entrenamiento pequeño. \n",
        "\n",
        "En nuestra practica vamos a simular esta condición para ver que tecnicas podemos usar para reducir el efecto del sobre-ajuste. \n",
        "\n",
        "**Nota**\n",
        "1. En un problema real, si se observa que las medidas de rendimiento no llegan satisfacen las necesidades, la respuesta puede ser que se necesitan más datos en el conjunto de entrenamiento.\n"
      ]
    },
    {
      "cell_type": "code",
      "metadata": {
        "id": "9OQdVTAZTbD5"
      },
      "source": [
        "# simular conjunto de datos pequeño\n",
        "x, x_test, y, y_test = train_test_split(\n",
        "    x, y, test_size=0.6, random_state=10)\n",
        "scaler = StandardScaler().fit(x)\n",
        "x = scaler.transform(x)\n",
        "x_test = scaler.transform(x_test)"
      ],
      "execution_count": 3,
      "outputs": []
    },
    {
      "cell_type": "code",
      "metadata": {
        "id": "M3MAUcVooFzh",
        "colab": {
          "base_uri": "https://localhost:8080/"
        },
        "outputId": "a8d596cb-bff6-448c-e101-0a365c8b5a99"
      },
      "source": [
        "print(x.shape)\n",
        "print(y.shape)"
      ],
      "execution_count": 4,
      "outputs": [
        {
          "output_type": "stream",
          "text": [
            "(718, 64)\n",
            "(718,)\n"
          ],
          "name": "stdout"
        }
      ]
    },
    {
      "cell_type": "markdown",
      "metadata": {
        "id": "Ap6L4HQwTbD7"
      },
      "source": [
        "## Ejercicio 1 - Detectar sobre ajuste"
      ]
    },
    {
      "cell_type": "markdown",
      "metadata": {
        "id": "vGta0nulTbD7"
      },
      "source": [
        "En nuestro primer ejercicio vamos a entrenar un MLP con una arquitectura especifica, pero:\n",
        "1. usaremos cross validación.\n",
        "2. calcular error de entrenamiento y prueba\n",
        "3. la función recibe de manera arbitraria un estimador de sklearn\n",
        "4. [usar accuracy score como medida de rendimiento](https://scikit-learn.org/stable/modules/generated/sklearn.metrics.accuracy_score.html#sklearn.metrics.accuracy_score)"
      ]
    },
    {
      "cell_type": "code",
      "metadata": {
        "id": "mggj15DfTbD8"
      },
      "source": [
        "# ejercicio de código\n",
        "def diff_train_test(sklearnModel, Xtrain, Ytrain, Xtest, Ytest):\n",
        "    \"\"\"función que retorna error de entrenamiento\n",
        "    sklearnModel: objeto estimador de sklearn ya entrenado\n",
        "    X: matriz numpy con las caracteristicas\n",
        "    Y: vector de numpy con las etiquetas\n",
        "    \n",
        "    retorna: tuple con tres elementos:\n",
        "        error entrenamiento, error test y \n",
        "        diff entre error y test\n",
        "    \"\"\"\n",
        "\n",
        "\n",
        "    error_train = accuracy_score(y_true =Ytrain, y_pred = sklearnModel.predict(Xtrain ) )\n",
        "    error_test = accuracy_score(y_true=Ytest , y_pred = sklearnModel.predict( Xtest))\n",
        "    diff = error_test - error_train\n",
        "    return (error_train, error_test, diff)\n",
        "        "
      ],
      "execution_count": 5,
      "outputs": []
    },
    {
      "cell_type": "code",
      "metadata": {
        "id": "OM6tpVKHTbD9",
        "colab": {
          "base_uri": "https://localhost:8080/"
        },
        "outputId": "c0cb7246-fef3-4b19-b90a-72b248440890"
      },
      "source": [
        "## la funcion que prueba tu implementacion\n",
        "GRADER.run_test(\"ejercicio1\", diff_train_test)"
      ],
      "execution_count": 6,
      "outputs": [
        {
          "output_type": "stream",
          "text": [
            "TEST EXITOSO!\n"
          ],
          "name": "stdout"
        }
      ]
    },
    {
      "cell_type": "markdown",
      "metadata": {
        "id": "NUhxHnmzTbD_"
      },
      "source": [
        "Con la función construida, vamos a usarla para verificar la differencia entre el error de entrenamiento y prueba para los dos modelos que vamos a usar:\n",
        "1. MLP con dos capas, cada una con 64 neuornas. `random_state=1` es usado para lograr tener los mismos resultados siempre\n",
        "2. [Regresión logistica forzada para que no use ninguna regularización](https://scikit-learn.org/stable/modules/generated/sklearn.linear_model.LogisticRegression.html#sklearn.linear_model.LogisticRegression). `random_state=1` es usado para lograr tener los mismos resultados"
      ]
    },
    {
      "cell_type": "code",
      "metadata": {
        "id": "o9gaJVOxTbEA",
        "colab": {
          "base_uri": "https://localhost:8080/"
        },
        "outputId": "5d9fbd16-d071-48ea-900d-0c8b60c52acf"
      },
      "source": [
        "mlp = MLPClassifier(hidden_layer_sizes=[20,20], max_iter=500, alpha =1e-6, random_state=1)\n",
        "mlp.fit(x, y)\n",
        "# aca usamos el * para pasa cada elemento como argumento \n",
        "print(\"MLP entrenamiento:{0:.3f}, test:{1:.3f} y diff {2:.3f}\".format(*diff_train_test(mlp,x,y, x_test, y_test)))"
      ],
      "execution_count": 7,
      "outputs": [
        {
          "output_type": "stream",
          "text": [
            "MLP entrenamiento:1.000, test:0.943 y diff -0.057\n"
          ],
          "name": "stdout"
        }
      ]
    },
    {
      "cell_type": "code",
      "metadata": {
        "id": "6qkKdVakTbEC",
        "colab": {
          "base_uri": "https://localhost:8080/"
        },
        "outputId": "60adcb40-9d24-48d0-c1b4-5c5b8a957b26"
      },
      "source": [
        "reg = LogisticRegression(penalty='none', max_iter=500,  random_state=1)\n",
        "reg.fit(x, y)\n",
        "print(\"Logistic Regresion entrenamiento:{0:.3f}, test:{1:.3f} y diff {2:.3f}\".format(*diff_train_test(reg,x,y, x_test, y_test)))"
      ],
      "execution_count": 8,
      "outputs": [
        {
          "output_type": "stream",
          "text": [
            "Logistic Regresion entrenamiento:1.000, test:0.930 y diff -0.070\n"
          ],
          "name": "stdout"
        }
      ]
    },
    {
      "cell_type": "markdown",
      "metadata": {
        "id": "I6t9dJ5ETbEE"
      },
      "source": [
        "## Ejercicio 2 - Experimentar con MLP regularizado"
      ]
    },
    {
      "cell_type": "markdown",
      "metadata": {
        "id": "cZpv_cP-TbEE"
      },
      "source": [
        "Vamos a comenzar regularizar el modelo, el primer metodo que vamos a usar es el de parada anticipada (*early-stopping*). Este ya se encuentra implementado dentro de la libreria, vamos a experimentar con este parametro y el el numero de neuronas en el MLP."
      ]
    },
    {
      "cell_type": "code",
      "metadata": {
        "id": "SkoSdxHfTbEE",
        "cellView": "form"
      },
      "source": [
        "#@title Pregunta Abierta\n",
        "#@markdown ¿Explique en sus palabras a que corresponde el metodo de parada anticipada?\n",
        "respuesta_1 = \" Consiste en evaluar el error del modelo en cada iteracion con el conjunto de validacion y el conjunto de entrenamiento, asi que la idea es detener el entrenamiento del modelo cuando el error con el conjunto de validacion en vez de disminuir empieza a aumentar. Se detiene apesar de que el error con el conjunto de entrenamiento siga disminuyendo\" #@param {type:\"string\"}"
      ],
      "execution_count": 9,
      "outputs": []
    },
    {
      "cell_type": "code",
      "metadata": {
        "id": "77yPBEmjTbEG",
        "cellView": "form"
      },
      "source": [
        "#@title Pregunta Abierta\n",
        "#@markdown ¿basandose en la documentación de sklearn para MLPClassifier que relación tiene el parametro validation_fraction con la parada anticipada?\n",
        "respuesta_2 = \"Es la proporcion de  datos del conjunto de entrenamiento que se van a reservar como conjunto de validacion, para la oportuna detencion de la para anticipada\" #@param {type:\"string\"}"
      ],
      "execution_count": 10,
      "outputs": []
    },
    {
      "cell_type": "code",
      "metadata": {
        "id": "bBQr3xG_TbEI"
      },
      "source": [
        "  # ejercicio de código\n",
        "def exp_mlp_early_stop(Xtrain,Xtest,Ytrain, Ytest, num_neurons, is_early_stop):\n",
        "    \"\"\" función para realizar experimentos con el MLP con early stopping\n",
        "    Xtrain: matriz de numpy con caracteristicas de entrenamiento\n",
        "    Xtest: matriz de numpy con caracteristicas de prueba\n",
        "    ytrain: vector numpy con etiqueta de entrenamiento\n",
        "    ytest: vector numpy con etiqueta de prueba\n",
        "    num_neurons: list de enteros con el numero de neuronas a usar\n",
        "    is_early_stop: list de boolean para confirmar si se aplica early stop\n",
        "    \n",
        "    Retorna: dataframe con 5 columnas:\n",
        "        - numero de neuronas\n",
        "        - error de entrenamiento\n",
        "        - error de prueba\n",
        "        - diferencia entrenamiento y prueba  \n",
        "    \"\"\"\n",
        "    resultados = pd.DataFrame()\n",
        "    idx = 0\n",
        "    for early_stop in is_early_stop:\n",
        "        for neurons in num_neurons:\n",
        "            #Haga el llamado a la función para crear y entrenar el modelo usando los datos de entrenamiento\n",
        "            # prestar atención a los parametros, correctos.\n",
        "            hidden_layer_sizes = tuple(2*[neurons])\n",
        "            # llame el parametro que el MLP pare anticipadamente\n",
        "            mlp = MLPClassifier(hidden_layer_sizes= hidden_layer_sizes, max_iter = 1000,random_state=1, early_stopping=early_stop )\n",
        "            # entrenar\n",
        "            mlp.fit(X= Xtrain, y=Ytrain)\n",
        "            # llamar la funcion creada anteriomente\n",
        "            error_train, error_test, diff = diff_train_test(mlp, Xtrain, Ytrain, Xtest, Ytest)\n",
        "\n",
        "            resultados.loc[idx,'neuronas en capas ocultas'] = neurons \n",
        "            resultados.loc[idx,'error de entrenamiento'] = error_train\n",
        "            resultados.loc[idx,'error de prueba'] = error_test\n",
        "            resultados.loc[idx,'diferencia entrenamiento y prueba'] = diff\n",
        "            resultados.loc[idx,'is_early_stop'] = early_stop\n",
        "            idx+=1\n",
        "    return (resultados)"
      ],
      "execution_count": 11,
      "outputs": []
    },
    {
      "cell_type": "code",
      "metadata": {
        "id": "OdbI_6iZTbEK",
        "colab": {
          "base_uri": "https://localhost:8080/"
        },
        "outputId": "ae420909-a905-4372-c235-fee2cd0a2db4"
      },
      "source": [
        "## la funcion que prueba tu implementacion\n",
        "GRADER.run_test(\"ejercicio2\", exp_mlp_early_stop)"
      ],
      "execution_count": 12,
      "outputs": [
        {
          "output_type": "stream",
          "text": [
            "TEST EXITOSO!\n"
          ],
          "name": "stdout"
        }
      ]
    },
    {
      "cell_type": "code",
      "metadata": {
        "id": "OmEqW2qgTbEM"
      },
      "source": [
        "res_early_stop = exp_mlp_early_stop(x, x_test, y, y_test, [8,16,20,24], [True, False])"
      ],
      "execution_count": 13,
      "outputs": []
    },
    {
      "cell_type": "code",
      "metadata": {
        "id": "ssdnLBHCTbEN",
        "colab": {
          "base_uri": "https://localhost:8080/",
          "height": 400
        },
        "outputId": "afb052cf-9d8b-41f7-fc06-3a8780b65cae"
      },
      "source": [
        "import seaborn as sns\n",
        "sns.relplot(x = 'neuronas en capas ocultas', y='diferencia entrenamiento y prueba', hue = 'is_early_stop', data = res_early_stop, kind = 'line', aspect=2)"
      ],
      "execution_count": 14,
      "outputs": [
        {
          "output_type": "execute_result",
          "data": {
            "text/plain": [
              "<seaborn.axisgrid.FacetGrid at 0x7ff98f16eb00>"
            ]
          },
          "metadata": {
            "tags": []
          },
          "execution_count": 14
        },
        {
          "output_type": "display_data",
          "data": {
            "image/png": "[encoded data removed]",
            "text/plain": [
              "<Figure size 792.625x360 with 1 Axes>"
            ]
          },
          "metadata": {
            "tags": [],
            "needs_background": "light"
          }
        }
      ]
    },
    {
      "cell_type": "markdown",
      "metadata": {
        "id": "IYhFhofwTbEP"
      },
      "source": [
        "Ahora vamos a experimentar con el parametro L2 del MLP."
      ]
    },
    {
      "cell_type": "code",
      "metadata": {
        "id": "5Rbf21WdTbEQ",
        "cellView": "form"
      },
      "source": [
        "#@title Pregunta Abierta\n",
        "#@markdown ¿explique en sus palabras en qué consiste la regularización L2?\n",
        "respuesta_3 = \"Es un tipo de regularizacion en donde el termino adicional que se ubica en la funcion de costo, calcula la magnitud al cuadrado de los pesos. De esta manera controla la complejidad del modelo\\\"\" #@param {type:\"string\"}"
      ],
      "execution_count": 15,
      "outputs": []
    },
    {
      "cell_type": "code",
      "metadata": {
        "id": "LS6Sz86HTbER"
      },
      "source": [
        "# ejercicio de código\n",
        "def exp_mlp_l2(Xtrain,Xtest,Ytrain, Ytest, num_neurons, l2_values):\n",
        "    \"\"\" función para realizar experimentos con el MLP con early stopping\n",
        "    Xtrain: matriz de numpy con caracteristicas de entrenamiento\n",
        "    Xtest: matriz de numpy con caracteristicas de prueba\n",
        "    ytrain: vector numpy con etiqueta de entrenamiento\n",
        "    ytest: vector numpy con etiqueta de prueba\n",
        "    num_neurons: list de enteros con el numero de neuronas a usar\n",
        "    l2: list de floats con valores para regularizacion l2\n",
        "    \n",
        "    Retorna: dataframe con 5 columnas:\n",
        "        - numero de neuronas\n",
        "        - error de entrenamiento\n",
        "        - error de prueba\n",
        "        - diferencia entrenamiento y prueba  \n",
        "    \"\"\"\n",
        "    resultados = pd.DataFrame()\n",
        "    idx = 0\n",
        "    for l2 in l2_values:\n",
        "        for neurons in num_neurons:\n",
        "            #Haga el llamado a la función para crear y entrenar el modelo usando los datos de entrenamiento\n",
        "            # prestar atención a los parametros, correctos.\n",
        "            hidden_layer_sizes = tuple(2*[neurons])\n",
        "            # llame el parametro adecuado del MLPClassifier\n",
        "            mlp = MLPClassifier(hidden_layer_sizes= hidden_layer_sizes, max_iter = 1000, random_state=1, alpha= l2)\n",
        "            mlp.fit(X=Xtrain, y=Ytrain)\n",
        "            # llamar la funcion creada anteriomente\n",
        "            error_train, error_test, diff = diff_train_test(mlp, Xtrain, Ytrain, Xtest, Ytest)\n",
        "            resultados.loc[idx,'neuronas en capas ocultas'] = neurons \n",
        "            resultados.loc[idx,'error de entrenamiento'] = error_train\n",
        "            resultados.loc[idx,'error de prueba'] = error_test\n",
        "            resultados.loc[idx,'diferencia entrenamiento y prueba'] =  diff\n",
        "            resultados.loc[idx,'l2'] = l2\n",
        "            idx+=1\n",
        "    return (resultados)"
      ],
      "execution_count": 16,
      "outputs": []
    },
    {
      "cell_type": "code",
      "metadata": {
        "id": "B9WxvFIvTbEU",
        "colab": {
          "base_uri": "https://localhost:8080/"
        },
        "outputId": "769df192-fa19-46b8-d194-38d85e62b6f8"
      },
      "source": [
        "## la funcion que prueba tu implementacion\n",
        "GRADER.run_test(\"ejercicio3\", exp_mlp_l2)"
      ],
      "execution_count": 17,
      "outputs": [
        {
          "output_type": "stream",
          "text": [
            "TEST EXITOSO!\n"
          ],
          "name": "stdout"
        }
      ]
    },
    {
      "cell_type": "code",
      "metadata": {
        "id": "Ou3NnHTMTbEW"
      },
      "source": [
        "res_l2 = exp_mlp_l2(x, x_test, y, y_test, [8,16,20,24], [1e-6,1e-3,1e-1,1e0, 1e1])"
      ],
      "execution_count": 18,
      "outputs": []
    },
    {
      "cell_type": "code",
      "metadata": {
        "id": "JbiYggBzTbEY",
        "colab": {
          "base_uri": "https://localhost:8080/",
          "height": 400
        },
        "outputId": "5f9e82ad-735c-445f-993a-dfbda681693f"
      },
      "source": [
        "sns.relplot(x = 'l2', y='diferencia entrenamiento y prueba',\n",
        "            hue = 'neuronas en capas ocultas', \n",
        "            data = res_l2, kind = 'line', \n",
        "            aspect=2, palette=sns.color_palette('viridis', n_colors=res_l2['neuronas en capas ocultas'].nunique()))"
      ],
      "execution_count": 19,
      "outputs": [
        {
          "output_type": "execute_result",
          "data": {
            "text/plain": [
              "<seaborn.axisgrid.FacetGrid at 0x7ff98f02b438>"
            ]
          },
          "metadata": {
            "tags": []
          },
          "execution_count": 19
        },
        {
          "output_type": "display_data",
          "data": {
            "image/png": "[encoded data removed]",
            "text/plain": [
              "<Figure size 861.625x360 with 1 Axes>"
            ]
          },
          "metadata": {
            "tags": [],
            "needs_background": "light"
          }
        }
      ]
    },
    {
      "cell_type": "code",
      "metadata": {
        "id": "R9RW7MYKTbEZ",
        "cellView": "form"
      },
      "source": [
        "#@title Pregunta Abierta\n",
        "#@markdown ¿qué efecto tiene el L2 en el overfitting/sobre-ajuste? explique\n",
        "respuesta_4 = \"\\\"Castiga la complejidad del modelo, siguiendo el principio de regularizacion. Es decir al aumentar el valor de L2, la diferencia entre el entrenamiento y prueba deja de acercarse a cero de manera tan rapida como cuando el valor de l2 era muy pequeno. Por lo tanto a mayor valor de l2 mas se controla el sobreajuste\" #@param {type:\"string\"}"
      ],
      "execution_count": 20,
      "outputs": []
    },
    {
      "cell_type": "markdown",
      "metadata": {
        "id": "9-iNKrRoTbEb"
      },
      "source": [
        "## Ejercicio 3 - Experimentar con regresión logistica regularizada"
      ]
    },
    {
      "cell_type": "markdown",
      "metadata": {
        "id": "CKRD9YADTbEb"
      },
      "source": [
        "Ahora vamos explorar la opciones de regularización de la regresión logistica. En la libreria se implementan más formas de regularizar, pero solo vamos a comprobar la regularización de norma L2."
      ]
    },
    {
      "cell_type": "code",
      "metadata": {
        "id": "PDooOislTbEd"
      },
      "source": [
        "  # ejercicio de código\n",
        "def exp_reg_l2(Xtrain,Xtest,Ytrain, Ytest, l2_values):\n",
        "    \"\"\" función para realizar experimentos con el MLP con early stopping\n",
        "    Xtrain: matriz de numpy con caracteristicas de entrenamiento\n",
        "    Xtest: matriz de numpy con caracteristicas de prueba\n",
        "    ytrain: vector numpy con etiqueta de entrenamiento\n",
        "    ytest: vector numpy con etiqueta de prueba\n",
        "    l2: list de floats con valores para regularizacion l2\n",
        "    \n",
        "    Retorna: dataframe con 5 columnas:\n",
        "        - numero de neuronas\n",
        "        - error de entrenamiento\n",
        "        - error de prueba\n",
        "        - diferencia entrenamiento y prueba  \n",
        "    \"\"\"\n",
        "    resultados = pd.DataFrame()\n",
        "    idx = 0\n",
        "    for l2 in l2_values:\n",
        "        #Haga el llamado a la función para crear y entrenar el modelo usando los datos de entrenamiento\n",
        "        # prestar atención a los parametros, correctos., para lograr\n",
        "        # la regularizacion deseada (pasar el valor de \"l2\" directamente al parametro de la libreria asociado)\n",
        "        reg = LogisticRegression(max_iter = 500, random_state=1, C=l2)\n",
        "        reg.fit(X=Xtrain, y=Ytrain)\n",
        "        # llamar la funcion creada anteriomente\n",
        "        error_train, error_test, diff = diff_train_test(reg, Xtrain, Ytrain, Xtest, Ytest)\n",
        "        resultados.loc[idx,'error de entrenamiento'] = error_train\n",
        "        resultados.loc[idx,'error de prueba'] = error_test\n",
        "        resultados.loc[idx,'diferencia entrenamiento y prueba'] = diff\n",
        "        resultados.loc[idx,'l2'] = l2\n",
        "        idx+=1\n",
        "    return (resultados)"
      ],
      "execution_count": 21,
      "outputs": []
    },
    {
      "cell_type": "code",
      "metadata": {
        "id": "c5OPNTlITbEe",
        "colab": {
          "base_uri": "https://localhost:8080/"
        },
        "outputId": "a6daec3d-ee57-46a3-eada-7c9cba68242a"
      },
      "source": [
        "## la funcion que prueba tu implementacion\n",
        "GRADER.run_test(\"ejercicio4\", exp_reg_l2)"
      ],
      "execution_count": 22,
      "outputs": [
        {
          "output_type": "stream",
          "text": [
            "TEST EXITOSO!\n"
          ],
          "name": "stdout"
        }
      ]
    },
    {
      "cell_type": "code",
      "metadata": {
        "id": "jWZIM72aTbEf"
      },
      "source": [
        "reg_l2 = exp_reg_l2(x, x_test, y, y_test, [1e-6,1e-3,1e-1,1e0, 1e1])"
      ],
      "execution_count": 23,
      "outputs": []
    },
    {
      "cell_type": "code",
      "metadata": {
        "id": "iNQ3fOPeTbEh",
        "colab": {
          "base_uri": "https://localhost:8080/",
          "height": 400
        },
        "outputId": "fbdb186a-d497-48b0-c3ca-253c35349409"
      },
      "source": [
        "sns.relplot(x = 'l2', y='diferencia entrenamiento y prueba',\n",
        "             data = reg_l2, kind = 'line', \n",
        "            aspect=2)"
      ],
      "execution_count": 24,
      "outputs": [
        {
          "output_type": "execute_result",
          "data": {
            "text/plain": [
              "<seaborn.axisgrid.FacetGrid at 0x7ff98f23a7f0>"
            ]
          },
          "metadata": {
            "tags": []
          },
          "execution_count": 24
        },
        {
          "output_type": "display_data",
          "data": {
            "image/png": "[encoded data removed]",
            "text/plain": [
              "<Figure size 720x360 with 1 Axes>"
            ]
          },
          "metadata": {
            "tags": [],
            "needs_background": "light"
          }
        }
      ]
    },
    {
      "cell_type": "code",
      "metadata": {
        "id": "i4weYXfHTbEj",
        "cellView": "form"
      },
      "source": [
        "#@title Pregunta Abierta\n",
        "#@markdown ¿qué efecto tiene el parametro que controla L2 en la regresión logistica en el overfitting? es diferente al MLP?\n",
        "respuesta_5 = \"A mayor valor l2, se controla menos el sobreajuste y en MLP pasa todo lo contrario, a mayor valor de L2 a mayor valor de l2 mas se controla el sobreajuste\" #@param {type:\"string\"}"
      ],
      "execution_count": 25,
      "outputs": []
    },
    {
      "cell_type": "markdown",
      "metadata": {
        "id": "RIAM660hTbEk"
      },
      "source": [
        "## Ejercicio 4 Efecto del tamaño del conjunto de entrenamiento\n",
        "\n",
        "Finalmente como mencionamos anteriormente, en los ejercicios que hemos resuelto, estabamos simulando la situación de un conjunto de datos de entrenamiento pequeño. En nuestro ultimo ejercicio vamos comprobar el efecto del tamaño del conjunto de entrenamiento."
      ]
    },
    {
      "cell_type": "code",
      "metadata": {
        "id": "3lh2LQUhTbEk"
      },
      "source": [
        "# ejercicio de codigo\n",
        "def train_size_experiments(sk_estimator, train_pcts,X,Y):\n",
        "    \"\"\"funcion que realiza experimentos para\n",
        "        comprobar la influencia del tamaño de conjunto\n",
        "        de entrenamiento.\n",
        "    \n",
        "    sk_estimator: estimador/modelo de sklearn definido (sin entrenar)\n",
        "    train_pcts: lista de floats con los pct de entrenamiento a evaluar\n",
        "    X: matriz de numpy del conjunto de caracteristicas\n",
        "    Y: vector numpy con las etiquetas\n",
        "    \n",
        "    Retorna: dataframe con 5 columnas:\n",
        "        - tamaño del conjunto de entrenamiento (porcentaje!)\n",
        "        - error de entrenamiento\n",
        "        - error de prueba\n",
        "        - diferencia entrenamiento y prueba \n",
        "    \"\"\"\n",
        "    resultados = pd.DataFrame()\n",
        "    idx = 0\n",
        "    for train_pct in train_pcts:\n",
        "        #complete el con train_pct\n",
        "        # preste atencion a que parametro usar!\n",
        "        # recuerde que son porcentajes\n",
        "\n",
        "        Xtrain, Xtest, Ytrain, Ytest = train_test_split(X, Y, random_state=10, train_size=train_pct)\n",
        "        # normalizamos\n",
        "        scaler = StandardScaler().fit(Xtrain)\n",
        "        Xtrain = scaler.transform(Xtrain)\n",
        "        Xtest = scaler.transform(Xtest)\n",
        "        # entrenar!\n",
        "        sk_estimator.fit(X=Xtrain, y=Ytrain)\n",
        "        # llamar la funcion creada anteriomente\n",
        "        error_train, error_test, diff = diff_train_test(sk_estimator, Xtrain, Ytrain, Xtest, Ytest)\n",
        "        resultados.loc[idx,'error de entrenamiento'] = error_train\n",
        "        resultados.loc[idx,'error de prueba'] = error_test\n",
        "        resultados.loc[idx,'diferencia entrenamiento y prueba'] = diff\n",
        "        # complete con el tamaño del entrenamiento\n",
        "        resultados.loc[idx,'tamaño de entrenamiento'] = Xtrain.shape[0]\n",
        "        idx+=1\n",
        "    \n",
        "    return (resultados)\n",
        "    "
      ],
      "execution_count": 26,
      "outputs": []
    },
    {
      "cell_type": "code",
      "metadata": {
        "id": "I1VGs0OgTbEm",
        "colab": {
          "base_uri": "https://localhost:8080/"
        },
        "outputId": "605ef98e-0a44-4593-e5ef-ea4405917739"
      },
      "source": [
        "## la funcion que prueba tu implementacion\n",
        "GRADER.run_test(\"ejercicio5\", train_size_experiments)"
      ],
      "execution_count": 27,
      "outputs": [
        {
          "output_type": "stream",
          "text": [
            "TEST EXITOSO!\n"
          ],
          "name": "stdout"
        }
      ]
    },
    {
      "cell_type": "code",
      "metadata": {
        "id": "1XOHyRcgTbEn"
      },
      "source": [
        "# debemos recargar nuestro conjunto de datos\n",
        "x,y = load_digits(return_X_y=True)"
      ],
      "execution_count": 28,
      "outputs": []
    },
    {
      "cell_type": "code",
      "metadata": {
        "id": "ccI07QKMTbEp"
      },
      "source": [
        "# comprobamos con un MLP\n",
        "mlp = MLPClassifier(hidden_layer_sizes=[20,20], max_iter=500, random_state=1)\n",
        "train_size_exp = train_size_experiments(mlp, [0.2,0.3,0.5,0.7,0.9], x, y)"
      ],
      "execution_count": 29,
      "outputs": []
    },
    {
      "cell_type": "code",
      "metadata": {
        "id": "qxeHuXtnTbEr",
        "colab": {
          "base_uri": "https://localhost:8080/",
          "height": 435
        },
        "outputId": "cb434616-0836-4dc1-d6a5-2c848f724114"
      },
      "source": [
        "# vemos las tres medidas\n",
        "ax = train_size_exp.plot(x=\"tamaño de entrenamiento\", y=\"error de entrenamiento\", color=\"b\", legend=False, figsize = (9,6))\n",
        "train_size_exp.plot(x=\"tamaño de entrenamiento\", y=\"error de prueba\",  ax=ax, legend=False, color=\"r\")\n",
        "ax2 = ax.twinx()\n",
        "ax2.set_ylabel(\"diff train y test\")\n",
        "ax.set_ylabel(\"eficiencia\")\n",
        "train_size_exp.plot(x=\"tamaño de entrenamiento\", y=\"diferencia entrenamiento y prueba\", ax=ax2, legend=False, color=\"k\")\n",
        "ax.figure.legend(loc = 'best')\n",
        "plt.show()"
      ],
      "execution_count": 30,
      "outputs": [
        {
          "output_type": "display_data",
          "data": {
            "image/png": "[encoded data removed]",
            "text/plain": [
              "<Figure size 648x432 with 2 Axes>"
            ]
          },
          "metadata": {
            "tags": [],
            "needs_background": "light"
          }
        }
      ]
    },
    {
      "cell_type": "markdown",
      "metadata": {
        "id": "Rh_0RiBXTbEs"
      },
      "source": [
        "**Notas Finales ** \n",
        "\n",
        "Para tener en cuenta: [Sklearn hay una libreria que realiza algo similar a lo que creamos en el anterior ejercicio.](https://scikit-learn.org/stable/modules/generated/sklearn.model_selection.learning_curve.html)"
      ]
    },
    {
      "cell_type": "markdown",
      "metadata": {
        "id": "dz3iJ10pTbEs"
      },
      "source": [
        "Debemos notar que en esta practica exageramos algunas situaciones para lograr medir y ver el efecto del sobre-ajuste. En la practica un flujo de trabajo mas ideal es el siguiente:\n",
        "\n",
        "<img src=\"https://scikit-learn.org/stable/_images/grid_search_workflow.png\" alt=\"grid_search_workflow\" width=\"500\"/>\n"
      ]
    },
    {
      "cell_type": "markdown",
      "metadata": {
        "id": "Oz3w7bYJTbEt"
      },
      "source": [
        "1. dividimos el conjunto al inicio, reservando un conjunto de test. \n",
        "2. verificamos los mejores parametros mediante validación cruzada. \n",
        "3. reentrenamos con los mejores parametros y realizamos la evaluación final. \n",
        "4. En esta última etapa es donde validamos si existe sobre ajuste. Si existe, se deben incluir parametros para mitigar el sobre ajuste en la validación cruzada y volver al paso 2."
      ]
    },
    {
      "cell_type": "code",
      "metadata": {
        "id": "BKIT-LYSTbEt",
        "colab": {
          "base_uri": "https://localhost:8080/"
        },
        "outputId": "ada4f8ee-eddd-4703-a18a-8a11fa809608"
      },
      "source": [
        "GRADER.check_tests()"
      ],
      "execution_count": 34,
      "outputs": [
        {
          "output_type": "stream",
          "text": [
            "Todo se ve ok. Asegurate de responder las preguntas abiertas y envia e archivo al formulario ¡buen trabajo!\n"
          ],
          "name": "stdout"
        }
      ]
    },
    {
      "cell_type": "code",
      "metadata": {
        "id": "kJSs79rzTbEu",
        "cellView": "form"
      },
      "source": [
        "#@title Integrantes\n",
        "codigo_integrante_1 ='1017251689' #@param {type:\"string\"}\n",
        "codigo_integrante_2 = ''  #@param {type:\"string\"}"
      ],
      "execution_count": 32,
      "outputs": []
    },
    {
      "cell_type": "markdown",
      "metadata": {
        "id": "JBLsuTAtTbEw"
      },
      "source": [
        "----\n",
        "esta linea de codigo va fallar, es de uso exclusivo de los profesores\n"
      ]
    },
    {
      "cell_type": "code",
      "metadata": {
        "id": "KhZOwh83TbEw",
        "colab": {
          "base_uri": "https://localhost:8080/"
        },
        "outputId": "d1e433a6-a4e2-4a06-d146-6a5ee67b5bce"
      },
      "source": [
        "GRADER.grade()"
      ],
      "execution_count": 33,
      "outputs": [
        {
          "output_type": "stream",
          "text": [
            "uso del docente\n"
          ],
          "name": "stdout"
        }
      ]
    }
  ]
}