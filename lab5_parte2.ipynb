{
  "nbformat": 4,
  "nbformat_minor": 0,
  "metadata": {
    "kernelspec": {
      "display_name": "Python 3",
      "language": "python",
      "name": "python3"
    },
    "language_info": {
      "codemirror_mode": {
        "name": "ipython",
        "version": 3
      },
      "file_extension": ".py",
      "mimetype": "text/x-python",
      "name": "python",
      "nbconvert_exporter": "python",
      "pygments_lexer": "ipython3",
      "version": "3.6.9"
    },
    "colab": {
      "name": "lab5_parte2.ipynb",
      "provenance": [],
      "collapsed_sections": [],
      "toc_visible": true
    }
  },
  "cells": [
    {
      "cell_type": "markdown",
      "metadata": {
        "id": "J7h9z6smhTpe"
      },
      "source": [
        "<a href=\"https://colab.research.google.com/github/jdariasl/ML_2020/blob/master/Labs/lab5/lab5_parte2.ipynb\">\n",
        "    <img src=\"https://colab.research.google.com/assets/colab-badge.svg\" alt=\"Open In Colab\"/></a>\n",
        "\n",
        "**Recuerda que una vez abierto, Da clic en \"Copiar en Drive\", de lo contrario no podras almacenar tu progreso**\n",
        "\n",
        "Nota: no olvide ir ejecutando las celdas de código de arriba hacia abajo para que no tenga errores de importación de librerías o por falta de definición de variables."
      ]
    },
    {
      "cell_type": "markdown",
      "metadata": {
        "id": "59PRMgRphTpf"
      },
      "source": [
        "# Laboratorio 5 - Parte 2 Máquinas de Vectores de Soporte"
      ]
    },
    {
      "cell_type": "code",
      "metadata": {
        "id": "hptaCy7QhTpf",
        "colab": {
          "base_uri": "https://localhost:8080/"
        },
        "outputId": "9306fa9b-b9b8-4ac0-c9fb-34f84b4557f1"
      },
      "source": [
        "#configuración del laboratorio\n",
        "# Ejecuta esta celda!\n",
        "%load_ext autoreload\n",
        "%autoreload 2\n",
        "#for local \n",
        "#import sys ; sys.path.append('../commons/utils/')\n",
        "!wget https://raw.githubusercontent.com/jdariasl/ML_2020/master/Labs/commons/utils/general.py -O general.py --no-cache\n",
        "from general import configure_lab5_2\n",
        "configure_lab5_2()\n",
        "from lab5 import *\n",
        "GRADER, dataset = part_2()"
      ],
      "execution_count": 75,
      "outputs": [
        {
          "output_type": "stream",
          "text": [
            "The autoreload extension is already loaded. To reload it, use:\n",
            "  %reload_ext autoreload\n",
            "--2020-11-24 23:52:47--  https://raw.githubusercontent.com/jdariasl/ML_2020/master/Labs/commons/utils/general.py\n",
            "Resolving raw.githubusercontent.com (raw.githubusercontent.com)... 151.101.0.133, 151.101.64.133, 151.101.128.133, ...\n",
            "Connecting to raw.githubusercontent.com (raw.githubusercontent.com)|151.101.0.133|:443... connected.\n",
            "HTTP request sent, awaiting response... 200 OK\n",
            "Length: 14117 (14K) [text/plain]\n",
            "Saving to: ‘general.py’\n",
            "\n",
            "\rgeneral.py            0%[                    ]       0  --.-KB/s               \rgeneral.py          100%[===================>]  13.79K  --.-KB/s    in 0s      \n",
            "\n",
            "2020-11-24 23:52:47 (82.9 MB/s) - ‘general.py’ saved [14117/14117]\n",
            "\n",
            "lab configuration started\n",
            "installing libraries\n",
            "downloading files\n",
            "lab configured\n",
            "Dim de la base de datos original: (2000, 13)\n"
          ],
          "name": "stdout"
        }
      ]
    },
    {
      "cell_type": "markdown",
      "metadata": {
        "id": "tbFfmXl-hTpi"
      },
      "source": [
        "## Ejercicio 1: Limipiar base de datos y completar código\n",
        "\n",
        "En este ejercicio usaremos la regresión por vectores de soporte para resolver el problema de regresión de la base de datos AirQuality (https://archive.ics.uci.edu/ml/datasets/Air+Quality). Tener en cuenta que vamos a usar solo 2000 muestras.\n",
        "\n",
        "Para esta base de datos vamos a realizar una limpieza de datos. Para ello vamos a completar la siguiente función para realizar:\n",
        "1. **Remover** todos registros cuya variable objetivo es faltante (missing Value). Estos registros están marcados como -200, es decir, donde haya un valor -200 eliminaremos el registro.\n",
        "2. **imputar los valores perdidos/faltantes** en cada una de las características, camos a usar el valor medio de la característica en especifico.\n",
        "3. **Verificar** si quedaron valores faltantes\n",
        "4. ** retornar** X (12 primeras columnas) y Y(la 13 columna)."
      ]
    },
    {
      "cell_type": "code",
      "metadata": {
        "id": "fBT8aPiihTpi"
      },
      "source": [
        "# ejercicio de codigo\n",
        "def clean_data(dataset):\n",
        "    \"\"\"funcion que limpia el dataset y obtiene X y Y\"\"\"\n",
        "    \n",
        "    database = dataset.copy()\n",
        "    # identificar muetras cuya salida en un valor faltante\n",
        "    idx_to_remove = []\n",
        "    for i in range(np.size(dataset,0)):\n",
        "        if dataset[i,12] == -200:\n",
        "            idx_to_remove.append(i)\n",
        "    \n",
        "    #remover la muestras\n",
        "    database = np.delete(database,idx_to_remove,0)\n",
        "\n",
        "    print (\"\\nHay \" + str(len(idx_to_remove)) + \" valores perdidos en la variable de salida.\")\n",
        "    print (\"\\nDim de la base de datos sin las muestras con variable de salida perdido \"+ str(np.shape(database)))\n",
        "\n",
        "    ##Imputar\n",
        "    print (\"\\nProcesando imputación de valores perdidos en las características . . .\")\n",
        "    for k in range(0,np.size(database,0)):\n",
        "        for w in range(0,13):\n",
        "            if database[k,w] ==-200 :\n",
        "                all_feature = database[:,w]\n",
        "                ## Se imputa con la media de toda la caracteristica\n",
        "                # sin tener en cuenta las caractersiticas con valores faltantes               \n",
        "                database[k,w] = np.mean(all_feature[all_feature!=-200])\n",
        "\n",
        "    print (\"Imputación finalizada.\\n\")\n",
        "\n",
        "\n",
        "    ##Verificar\n",
        "    missed_values = False\n",
        "    for i in range(0,np.size(database,0)):\n",
        "        if -200 in database[i,:]:\n",
        "            missed_values = True\n",
        "    if(missed_values):\n",
        "        print (\"Hay valores perdidos\")\n",
        "    else:\n",
        "        print (\"No hay valores perdidos en la base de datos. Ahora se puede procesar\")\n",
        "    X = database[:,0:11]\n",
        "    Y = database[:,12]\n",
        "    print(X.shape)\n",
        "    print(Y.shape)\n",
        "    return (X,Y)"
      ],
      "execution_count": 77,
      "outputs": []
    },
    {
      "cell_type": "code",
      "metadata": {
        "id": "E_aHK7XThTpk",
        "colab": {
          "base_uri": "https://localhost:8080/"
        },
        "outputId": "a60186fc-660b-419a-f467-b7c6905577b5"
      },
      "source": [
        "# ignorar los prints\n",
        "GRADER.run_test(\"ejercicio1\", clean_data)"
      ],
      "execution_count": 78,
      "outputs": [
        {
          "output_type": "stream",
          "text": [
            "\n",
            "Hay 1 valores perdidos en la variable de salida.\n",
            "\n",
            "Dim de la base de datos sin las muestras con variable de salida perdido (4, 13)\n",
            "\n",
            "Procesando imputación de valores perdidos en las características . . .\n",
            "Imputación finalizada.\n",
            "\n",
            "No hay valores perdidos en la base de datos. Ahora se puede procesar\n",
            "(4, 11)\n",
            "(4,)\n",
            "TEST EXITOSO!\n"
          ],
          "name": "stdout"
        }
      ]
    },
    {
      "cell_type": "markdown",
      "metadata": {
        "id": "s_siuGCthTpm"
      },
      "source": [
        "Ahora usemos la función para tener nuestras variables X, Y"
      ]
    },
    {
      "cell_type": "code",
      "metadata": {
        "id": "pJLs3jUohTpm",
        "colab": {
          "base_uri": "https://localhost:8080/"
        },
        "outputId": "448ee397-154f-4262-c654-32760b58b10e"
      },
      "source": [
        "X,Y = clean_data(dataset)"
      ],
      "execution_count": 79,
      "outputs": [
        {
          "output_type": "stream",
          "text": [
            "\n",
            "Hay 41 valores perdidos en la variable de salida.\n",
            "\n",
            "Dim de la base de datos sin las muestras con variable de salida perdido (1959, 13)\n",
            "\n",
            "Procesando imputación de valores perdidos en las características . . .\n",
            "Imputación finalizada.\n",
            "\n",
            "No hay valores perdidos en la base de datos. Ahora se puede procesar\n",
            "(1959, 11)\n",
            "(1959,)\n"
          ],
          "name": "stdout"
        }
      ]
    },
    {
      "cell_type": "markdown",
      "metadata": {
        "id": "tfT-7D5AhTpo"
      },
      "source": [
        "## Ejercicio 2: Experimentar SVM para regresión\n",
        "\n",
        "Ahora vamos a crear la función para experimentar con la maquina de soporte vectorial. Para ellos vamos:\n",
        "1. Usar la libreria de sklearn https://scikit-learn.org/stable/modules/generated/sklearn.svm.SVR.html. \n",
        "2. Vamos a variar tres parámetros del SVR: kernel,  gamma y el parametro de regularización.\n",
        "3. Utilizar la metodología cross-validation con 5 folds.\n",
        "4. Usar normalización de datos estandar implementada por sklearn\n",
        "5. Extraer los vectores de soporte (observe los *atributos* del modelo SVR de sklearn). Recuerde que estos atributos son accesibles, una vez el modelo es entrenado\n",
        "6. Utilizar el error cuadratico medio de sklearn.\n",
        "\n",
        "**Notas**: \n",
        "- Deberiamos poder acceder a las funciones de la libreria de sklearn directamente por el nombre sin necesidad de importarlas. Las funciones que deberios utilizar ya están precargadas en la configuración del laboratorio.\n",
        "- Llame todos los parametros de las funciones de sklearn de manera explicita. (i.e, si se quiere usar `max_iter` como parámetro para el SVR, debe crear el objeto: `SVR(max_iter = 100)`)"
      ]
    },
    {
      "cell_type": "code",
      "metadata": {
        "id": "84KNyMMuhTpp"
      },
      "source": [
        "#ejercicio de código\n",
        "def experiementarSVR(x, y, kernels, gammas,params_reg):\n",
        "    \"\"\"función que realizar experimentos sobre un SVM para regresión\n",
        "    \n",
        "    x: numpy.Array, con las caracteristicas del problema\n",
        "    y: numpy.Array, con la variable objetivo\n",
        "    kernels: List[str], lista con valores a pasar \n",
        "        a sklearn correspondiente al kernel de la SVM\n",
        "    gammas: List[float], lista con los valores a pasar a\n",
        "        sklean correspondiente el valor de los coeficientes para usar en el\n",
        "        kernel\n",
        "    params_reg: List[float], lista con los valores a a pasar a \n",
        "        sklearn para ser usados como parametro de regularización\n",
        "    \n",
        "    retorna: pd.Dataframe con las siguientes columnas:\n",
        "        - 3 columnas con los tres parametros: kernel, gamma, param de regularizacion\n",
        "        - error cuadratico medio en el cojunto test (promedio de los 5 folds)\n",
        "        - intervalo de confianza del error cuadratico medio en el cojunto test \n",
        "            (desviacion estandar de los 5 folds)\n",
        "        - % de Vectores de Soporte promedio para los 5 folds (0 a 100)\n",
        "    \"\"\"\n",
        "    idx = 0\n",
        "    kf = KFold(n_splits=5)\n",
        "    # crear una lista con la combinaciones de los elementos de cada list\n",
        "    kernels_gammas_regs = list(itertools.product(kernels, gammas, params_reg))\n",
        "    resultados = pd.DataFrame()\n",
        "    errores_test = []\n",
        "    pct_support_vectors = []\n",
        "\n",
        "    for params in kernels_gammas_regs:\n",
        "        kernel, gamma, param_reg = params\n",
        "        print(\"parametros usados\", params) # puede usar para ver los params\n",
        "                                                   #Works split(x,y[0:30,:]) (?)\n",
        "        for train_index, test_index in kf.split(X=x,y=y,groups=None):\n",
        "            \n",
        "            X_train, X_test = x[train_index], x[test_index]\n",
        "            y_train, y_test = y[train_index], y[test_index]  \n",
        "            # normalizar los datos\n",
        "            scaler = StandardScaler()\n",
        "            X_train = scaler.fit_transform(X_train)\n",
        "            X_test = scaler.transform(X_test)\n",
        "            svm = SVR( kernel= kernel , gamma= gamma , C= param_reg)\n",
        "            # Entrenar el modelo\n",
        "            svm.fit(X=X_train, y=y_train)\n",
        "            # Validación del modelo\n",
        "            ypred = svm.predict(X=X_test)\n",
        "            \n",
        "            # error y pct de vectores de soporte\n",
        "            errores_test.append(mean_squared_error(y_true =y_test, y_pred = ypred))\n",
        "            # contar muestras de entrenamiento\n",
        "            n_train = X_train.shape[0]\n",
        "            pct_vs = (svm.support_vectors_.shape[0]/ n_train) \n",
        "            pct_support_vectors.append(pct_vs)\n",
        "        \n",
        "        resultados.loc[idx,'kernel'] = kernel\n",
        "        resultados.loc[idx,'gamma'] = gamma\n",
        "        resultados.loc[idx,'param_reg'] = param_reg\n",
        "        resultados.loc[idx,'error de prueba (promedio)'] = np.mean(errores_test)\n",
        "        resultados.loc[idx,'error de prueba (intervalo de confianza)'] = np.std(errores_test)\n",
        "\n",
        "        resultados.loc[idx,'% de vectores de soporte'] = np.mean(pct_support_vectors)*100\n",
        "        idx+=1\n",
        "        \n",
        "    print(resultados)\n",
        "    return (resultados)"
      ],
      "execution_count": 84,
      "outputs": []
    },
    {
      "cell_type": "code",
      "metadata": {
        "id": "WB4bMhUhhTpr",
        "colab": {
          "base_uri": "https://localhost:8080/"
        },
        "outputId": "9cfc03ab-0964-45f5-c3ea-8506cf70a9a8"
      },
      "source": [
        "GRADER.run_test(\"ejercicio2\", experiementarSVR)"
      ],
      "execution_count": 82,
      "outputs": [
        {
          "output_type": "stream",
          "text": [
            "parametros usados ('linear', 1.0, 100)\n",
            "parametros usados ('linear', 0.1, 100)\n",
            "parametros usados ('rbf', 1.0, 100)\n",
            "parametros usados ('rbf', 0.1, 100)\n",
            "   kernel  ...  % de vectores de soporte\n",
            "0  linear  ...                 96.666667\n",
            "1  linear  ...                 96.666667\n",
            "2     rbf  ...                 95.277778\n",
            "3     rbf  ...                 94.791667\n",
            "\n",
            "[4 rows x 6 columns]\n",
            "TEST EXITOSO!\n"
          ],
          "name": "stdout"
        }
      ]
    },
    {
      "cell_type": "markdown",
      "metadata": {
        "id": "Aatsj0EQhTpt"
      },
      "source": [
        "Para entrenar vamos a ignorar las dos primeras variables, estas corresponden a valores de fechas."
      ]
    },
    {
      "cell_type": "code",
      "metadata": {
        "id": "sRHwQhR7hTpu",
        "colab": {
          "base_uri": "https://localhost:8080/"
        },
        "outputId": "b6ddc2c9-6c61-4a77-9ba3-95dc814d8055"
      },
      "source": [
        "# vamos a realizar los experimentos\n",
        "resultadosSVR = experiementarSVR(x =X[:,2:],y=Y,\n",
        "                                 kernels=['linear', 'rbf'],\n",
        "                                 gammas = [0.01,0.1],\n",
        "                                 params_reg = [0.1, 1.0,10]\n",
        "                                )"
      ],
      "execution_count": 85,
      "outputs": [
        {
          "output_type": "stream",
          "text": [
            "parametros usados ('linear', 0.01, 0.1)\n",
            "parametros usados ('linear', 0.01, 1.0)\n",
            "parametros usados ('linear', 0.01, 10)\n",
            "parametros usados ('linear', 0.1, 0.1)\n",
            "parametros usados ('linear', 0.1, 1.0)\n",
            "parametros usados ('linear', 0.1, 10)\n",
            "parametros usados ('rbf', 0.01, 0.1)\n",
            "parametros usados ('rbf', 0.01, 1.0)\n",
            "parametros usados ('rbf', 0.01, 10)\n",
            "parametros usados ('rbf', 0.1, 0.1)\n",
            "parametros usados ('rbf', 0.1, 1.0)\n",
            "parametros usados ('rbf', 0.1, 10)\n",
            "    kernel  ...  % de vectores de soporte\n",
            "0   linear  ...                 16.386187\n",
            "1   linear  ...                 16.201157\n",
            "2   linear  ...                 16.152243\n",
            "3   linear  ...                 16.210729\n",
            "4   linear  ...                 16.171809\n",
            "5   linear  ...                 16.152243\n",
            "6      rbf  ...                 18.838228\n",
            "7      rbf  ...                 18.485482\n",
            "8      rbf  ...                 17.811268\n",
            "9      rbf  ...                 17.934198\n",
            "10     rbf  ...                 17.389732\n",
            "11     rbf  ...                 16.863692\n",
            "\n",
            "[12 rows x 6 columns]\n"
          ],
          "name": "stdout"
        }
      ]
    },
    {
      "cell_type": "code",
      "metadata": {
        "id": "FEPmKLZhhTpw",
        "colab": {
          "base_uri": "https://localhost:8080/",
          "height": 425
        },
        "outputId": "083b9bf7-913d-486c-bb49-05e321c644d2"
      },
      "source": [
        "resultadosSVR.sort_values('error de prueba (promedio)')"
      ],
      "execution_count": 86,
      "outputs": [
        {
          "output_type": "execute_result",
          "data": {
            "text/html": [
              "<div>\n",
              "<style scoped>\n",
              "    .dataframe tbody tr th:only-of-type {\n",
              "        vertical-align: middle;\n",
              "    }\n",
              "\n",
              "    .dataframe tbody tr th {\n",
              "        vertical-align: top;\n",
              "    }\n",
              "\n",
              "    .dataframe thead th {\n",
              "        text-align: right;\n",
              "    }\n",
              "</style>\n",
              "<table border=\"1\" class=\"dataframe\">\n",
              "  <thead>\n",
              "    <tr style=\"text-align: right;\">\n",
              "      <th></th>\n",
              "      <th>kernel</th>\n",
              "      <th>gamma</th>\n",
              "      <th>param_reg</th>\n",
              "      <th>error de prueba (promedio)</th>\n",
              "      <th>error de prueba (intervalo de confianza)</th>\n",
              "      <th>% de vectores de soporte</th>\n",
              "    </tr>\n",
              "  </thead>\n",
              "  <tbody>\n",
              "    <tr>\n",
              "      <th>0</th>\n",
              "      <td>linear</td>\n",
              "      <td>0.01</td>\n",
              "      <td>0.1</td>\n",
              "      <td>0.012102</td>\n",
              "      <td>0.007237</td>\n",
              "      <td>16.386187</td>\n",
              "    </tr>\n",
              "    <tr>\n",
              "      <th>11</th>\n",
              "      <td>rbf</td>\n",
              "      <td>0.10</td>\n",
              "      <td>10.0</td>\n",
              "      <td>0.012227</td>\n",
              "      <td>0.007435</td>\n",
              "      <td>16.863692</td>\n",
              "    </tr>\n",
              "    <tr>\n",
              "      <th>1</th>\n",
              "      <td>linear</td>\n",
              "      <td>0.01</td>\n",
              "      <td>1.0</td>\n",
              "      <td>0.012456</td>\n",
              "      <td>0.007631</td>\n",
              "      <td>16.201157</td>\n",
              "    </tr>\n",
              "    <tr>\n",
              "      <th>3</th>\n",
              "      <td>linear</td>\n",
              "      <td>0.10</td>\n",
              "      <td>0.1</td>\n",
              "      <td>0.012478</td>\n",
              "      <td>0.007653</td>\n",
              "      <td>16.210729</td>\n",
              "    </tr>\n",
              "    <tr>\n",
              "      <th>4</th>\n",
              "      <td>linear</td>\n",
              "      <td>0.10</td>\n",
              "      <td>1.0</td>\n",
              "      <td>0.012545</td>\n",
              "      <td>0.007723</td>\n",
              "      <td>16.171809</td>\n",
              "    </tr>\n",
              "    <tr>\n",
              "      <th>10</th>\n",
              "      <td>rbf</td>\n",
              "      <td>0.10</td>\n",
              "      <td>1.0</td>\n",
              "      <td>0.012554</td>\n",
              "      <td>0.007516</td>\n",
              "      <td>17.389732</td>\n",
              "    </tr>\n",
              "    <tr>\n",
              "      <th>2</th>\n",
              "      <td>linear</td>\n",
              "      <td>0.01</td>\n",
              "      <td>10.0</td>\n",
              "      <td>0.012604</td>\n",
              "      <td>0.007783</td>\n",
              "      <td>16.152243</td>\n",
              "    </tr>\n",
              "    <tr>\n",
              "      <th>5</th>\n",
              "      <td>linear</td>\n",
              "      <td>0.10</td>\n",
              "      <td>10.0</td>\n",
              "      <td>0.012604</td>\n",
              "      <td>0.007783</td>\n",
              "      <td>16.152243</td>\n",
              "    </tr>\n",
              "    <tr>\n",
              "      <th>9</th>\n",
              "      <td>rbf</td>\n",
              "      <td>0.10</td>\n",
              "      <td>0.1</td>\n",
              "      <td>0.012909</td>\n",
              "      <td>0.007591</td>\n",
              "      <td>17.934198</td>\n",
              "    </tr>\n",
              "    <tr>\n",
              "      <th>8</th>\n",
              "      <td>rbf</td>\n",
              "      <td>0.01</td>\n",
              "      <td>10.0</td>\n",
              "      <td>0.013047</td>\n",
              "      <td>0.007872</td>\n",
              "      <td>17.811268</td>\n",
              "    </tr>\n",
              "    <tr>\n",
              "      <th>7</th>\n",
              "      <td>rbf</td>\n",
              "      <td>0.01</td>\n",
              "      <td>1.0</td>\n",
              "      <td>0.013212</td>\n",
              "      <td>0.007726</td>\n",
              "      <td>18.485482</td>\n",
              "    </tr>\n",
              "    <tr>\n",
              "      <th>6</th>\n",
              "      <td>rbf</td>\n",
              "      <td>0.01</td>\n",
              "      <td>0.1</td>\n",
              "      <td>0.013471</td>\n",
              "      <td>0.007909</td>\n",
              "      <td>18.838228</td>\n",
              "    </tr>\n",
              "  </tbody>\n",
              "</table>\n",
              "</div>"
            ],
            "text/plain": [
              "    kernel  ...  % de vectores de soporte\n",
              "0   linear  ...                 16.386187\n",
              "11     rbf  ...                 16.863692\n",
              "1   linear  ...                 16.201157\n",
              "3   linear  ...                 16.210729\n",
              "4   linear  ...                 16.171809\n",
              "10     rbf  ...                 17.389732\n",
              "2   linear  ...                 16.152243\n",
              "5   linear  ...                 16.152243\n",
              "9      rbf  ...                 17.934198\n",
              "8      rbf  ...                 17.811268\n",
              "7      rbf  ...                 18.485482\n",
              "6      rbf  ...                 18.838228\n",
              "\n",
              "[12 rows x 6 columns]"
            ]
          },
          "metadata": {
            "tags": []
          },
          "execution_count": 86
        }
      ]
    },
    {
      "cell_type": "code",
      "metadata": {
        "id": "qERAELnQhTpx",
        "cellView": "form"
      },
      "source": [
        "#@title Pregunta Abierta\n",
        "#@markdown ¿Cuál es la finalidad de usar las funciones kernel en el modelo SVM?\n",
        "respuesta_1 = \"\" #@param {type:\"string\"}"
      ],
      "execution_count": 69,
      "outputs": []
    },
    {
      "cell_type": "code",
      "metadata": {
        "id": "FYTapl5LhTpz",
        "cellView": "form"
      },
      "source": [
        "#@title Pregunta Abierta\n",
        "#@markdown ¿el valor de gamma afecta el kernel lineal? justificar teniendo cuenta la teoria y la documentación de la libreria.\n",
        "respuesta_2 = \"\" #@param {type:\"string\"}"
      ],
      "execution_count": 70,
      "outputs": []
    },
    {
      "cell_type": "markdown",
      "metadata": {
        "id": "X37FqhDQhTp0"
      },
      "source": [
        "Para analizar los resultados vamos a crear dos graficas para el mejor modelo encontrado:\n",
        "1. vamos a graficar en el eje x el valor real, en el eje y el valor predicho. El modelo ideal deberia ser una recta que recuerda la identidad\n",
        "2. en el eje x vamos a dejar un valor incremental y con colores vamos a diferenciar entre el valor real y el valor predicho\n",
        "\n"
      ]
    },
    {
      "cell_type": "code",
      "metadata": {
        "id": "JoLMRNyQxnzQ"
      },
      "source": [
        "# dividir el conjunto\n",
        "X_train, X_test, y_train, y_test = train_test_split(X, Y, test_size=0.2, random_state=42)"
      ],
      "execution_count": 87,
      "outputs": []
    },
    {
      "cell_type": "code",
      "metadata": {
        "id": "2S6KsCkihTp1",
        "colab": {
          "base_uri": "https://localhost:8080/",
          "height": 290
        },
        "outputId": "6daa9fb3-aa33-425e-b1ec-d17245e8d79d"
      },
      "source": [
        "Ypred =  predict_svr(X_train,y_train,X_test,kernel = 'rbf' , gamma = 0.01, param_reg = 10)\n",
        "f, ax = plt.subplots(ncols=2, sharex=False, sharey=False, figsize = (22,6))\n",
        "ax[0].scatter(y_test, Ypred)\n",
        "ax[0].set_xlabel('valor real', fontdict = {'fontsize': 12})\n",
        "ax[0].set_ylabel('valor predicho', fontdict = {'fontsize': 12})\n",
        "ax[1].plot(y_test, label = 'valor real', color = 'b', alpha = 0.7)\n",
        "ax[1].plot(Ypred, label = 'valor predicho', color = 'r', alpha = 0.5)\n",
        "ax[1].legend()\n",
        "ax[1].set_ylabel('Humedad relativa', fontdict = {'fontsize': 12})\n",
        "plt.show()"
      ],
      "execution_count": 88,
      "outputs": [
        {
          "output_type": "stream",
          "text": [
            "*** calculando predicciones ***\n"
          ],
          "name": "stdout"
        },
        {
          "output_type": "display_data",
          "data": {
            "image/png": "[encoded data removed]",
            "text/plain": [
              "<Figure size 1584x432 with 2 Axes>"
            ]
          },
          "metadata": {
            "tags": [],
            "needs_background": "light"
          }
        }
      ]
    },
    {
      "cell_type": "code",
      "metadata": {
        "id": "0wploEQHhTp3",
        "cellView": "form"
      },
      "source": [
        "#@title Pregunta Abierta\n",
        "#@markdown usando las anteriores graficas, ¿como calificaria el modelo de manera cualitativa?.\n",
        "respuesta_3 = \"\" #@param {type:\"string\"}"
      ],
      "execution_count": 73,
      "outputs": []
    },
    {
      "cell_type": "markdown",
      "metadata": {
        "id": "vzJklaaBhTp5"
      },
      "source": [
        "## Ejercicio 3: Experimentar SVM para clasificación"
      ]
    },
    {
      "cell_type": "markdown",
      "metadata": {
        "id": "EDd9cs8YhTp5"
      },
      "source": [
        "En este ejercicio vamos a volver a resolver el problema de calsificacion de dígitos. Vamos usar solo 4 clases y realizaremos un pre-procesamiento mediante PCA (una tecnica proxima a practicar en el laboratorio)"
      ]
    },
    {
      "cell_type": "code",
      "metadata": {
        "id": "hK18YvtnhTp5"
      },
      "source": [
        "Xcl, Ycl = load_digits(n_class=4,return_X_y=True)\n",
        "#--------- preprocesamiento--------------------\n",
        "pca = PCA(0.99, whiten=True)\n",
        "Xcl = pca.fit_transform(Xcl)"
      ],
      "execution_count": 89,
      "outputs": []
    },
    {
      "cell_type": "markdown",
      "metadata": {
        "id": "P9AsO_TrhTp7"
      },
      "source": [
        "Ahora vamos a crear la función para experimentar con la maquina de soporte vectorial. Para ellos vamos:\n",
        "\n",
        "1. Usar la libreria de sklearn https://scikit-learn.org/stable/modules/generated/sklearn.svm.SVC.html#sklearn.svm.SVC\n",
        "2. Vamos a variar tres parámetros del SVC: kernel,  gamma y el parametro de regularización.\n",
        "3. Utilizar la metodología cross-validation con 4 folds más adecuada para problemas de clasificación.\n",
        "4. Usar normalización de datos estandar implementada por sklearn\n",
        "5. Extraer los vectores de soporte (observe los *atributos* del modelo SVC de sklearn). Recuerde que estos atributos son accesibles una vez el modelo es entrenado\n",
        "6. Utilizar como error el score de exactitud de la clasificación de sklearn.\n",
        "\n",
        "**Notas**: \n",
        "- Deberiamos poder acceder a las funciones de la libreria de sklearn directamente por el nombre sin necesidad de importarlas. Las funciones que deberios utilizar ya están precargadas en la configuración del laboratorio.\n",
        "- Llame todos los parametros de las funciones de sklearn de manera explicita. (i.e, si se quiere usar `max_iter` como parámetro para el SVC, debe crear el objeto: `SVC(max_iter = 100)`)"
      ]
    },
    {
      "cell_type": "code",
      "metadata": {
        "id": "jHpENPahhTp7"
      },
      "source": [
        "#ejercicio de código\n",
        "def experiementarSVC(x, y, kernels, gammas,params_reg):\n",
        "    \"\"\"función que realizar experimentos sobre un SVM para clasificación\n",
        "    \n",
        "    x: numpy.Array, con las caracteristicas del problema\n",
        "    y: numpy.Array, con la variable objetivo\n",
        "    kernels: List[str], lista con valores a pasar \n",
        "        a sklearn correspondiente al kernel de la SVM\n",
        "    gammas: List[float], lista con los valores a pasar a\n",
        "        sklean correspondiente el valor de los coeficientes para usar en el\n",
        "        kernel\n",
        "    params_reg: List[float], lista con los valores a a pasar a \n",
        "        sklearn para ser usados como parametro de regularización\n",
        "    \n",
        "    retorna: pd.Dataframe con las siguientes columnas:\n",
        "        - 3 columnas con los tres parametros: kernel, gamma, param de regularizacion\n",
        "        - error cuadratico medio en el cojunto entrenamiento (promedio de los 4 folds)\n",
        "        - error cuadratico medio en el cojunto test (promedio de los 4 folds)\n",
        "        - % de Vectores de Soporte promedio para los 4 folds (0 a 100)\n",
        "    \"\"\"\n",
        "    idx = 0\n",
        "    kf = StratifiedKFold(n_splits=4)\n",
        "    # crear una lista con la combinaciones de los elementos de cada list\n",
        "    kernels_gammas_regs = list(itertools.product(kernels, gammas, params_reg))\n",
        "    resultados = pd.DataFrame()\n",
        "    \n",
        "    for params in kernels_gammas_regs:\n",
        "        kernel, gamma, param_reg = params\n",
        "        print(\"parametros usados\", params) # puede usar para ver los params\n",
        "        errores_train = []\n",
        "        errores_test = []\n",
        "        pct_support_vectors = []\n",
        "        for train_index, test_index in kf.split(x,y):\n",
        "            \n",
        "            X_train, X_test = x[train_index], x[test_index]\n",
        "            y_train, y_test = y[train_index], y[test_index]  \n",
        "            # normalizar los datos\n",
        "            scaler = StandardScaler()\n",
        "            X_train = scaler.fit_transform(X_train)\n",
        "            X_test = scaler.transform(X_test)\n",
        "            svm = SVC( kernel= kernel , gamma= gamma , C= param_reg)\n",
        "            # Entrenar el modelo\n",
        "            svm.fit(X=X_train, y=y_train)\n",
        "            # calculo de errores\n",
        "            y_train_pred = svm.predict(X=X_train)\n",
        "            y_test_pred = svm.predict(X=X_test)\n",
        "            # error y pct de vectores de soporte\n",
        "     \n",
        "            errores_train.append(accuracy_score(y_true = y_train, y_pred = y_train_pred))\n",
        "            errores_test.append(accuracy_score(y_true = y_test, y_pred = y_test_pred))\n",
        "            # contar muestras de entrenamiento\n",
        "            n_train = X_train.shape[0]\n",
        "            pct_vs = (svm.support_vectors_.shape[0]/n_train)\n",
        "            pct_support_vectors.append(pct_vs)\n",
        "        \n",
        "        resultados.loc[idx,'kernel'] = kernel\n",
        "        resultados.loc[idx,'gamma'] = gamma\n",
        "        resultados.loc[idx,'param_reg'] = param_reg\n",
        "        resultados.loc[idx,'error de entrenamiento'] = np.mean(errores_train)\n",
        "        resultados.loc[idx,'error de prueba'] = np.mean(errores_test)\n",
        "        resultados.loc[idx,'% de vectores de soporte'] = np.mean(pct_support_vectors)*100\n",
        "        idx+=1\n",
        "    return (resultados)"
      ],
      "execution_count": 103,
      "outputs": []
    },
    {
      "cell_type": "code",
      "metadata": {
        "id": "KPY9emZGhTp-",
        "colab": {
          "base_uri": "https://localhost:8080/"
        },
        "outputId": "575dd61f-2c3e-48d4-b277-d6c896695185"
      },
      "source": [
        "GRADER.run_test(\"ejercicio3\", experiementarSVC)"
      ],
      "execution_count": 104,
      "outputs": [
        {
          "output_type": "stream",
          "text": [
            "parametros usados ('linear', 1.0, 100)\n",
            "parametros usados ('linear', 0.1, 100)\n",
            "parametros usados ('rbf', 1.0, 100)\n",
            "parametros usados ('rbf', 0.1, 100)\n",
            "TEST EXITOSO!\n"
          ],
          "name": "stdout"
        }
      ]
    },
    {
      "cell_type": "code",
      "metadata": {
        "id": "XLwkxs1fhTp_"
      },
      "source": [
        "# vamos a realizar los experimentos\n",
        "resultadosSVC = experiementarSVC(x = Xcl,y=Ycl,\n",
        "                                 kernels=['linear', 'rbf'],\n",
        "                                 gammas = [0.01,0.1],\n",
        "                                 params_reg = [0.001, 0.01,0.1, 1.0,10]\n",
        "                                )\n",
        "\n",
        "resultadosSVC"
      ],
      "execution_count": null,
      "outputs": []
    },
    {
      "cell_type": "code",
      "metadata": {
        "id": "YcGKqkW8hTqB",
        "cellView": "form"
      },
      "source": [
        "#@title Pregunta Abierta\n",
        "#@markdown Explique en sus palabras ¿qué representan los vectores de soporte en un problema de clasificación? ¿Esa misma explicación se puede aplicar a un problema de regresión? justifique\n",
        "respuesta_4 = \"\" #@param {type:\"string\"}"
      ],
      "execution_count": null,
      "outputs": []
    },
    {
      "cell_type": "code",
      "metadata": {
        "id": "737HUyUqhTqD",
        "cellView": "form"
      },
      "source": [
        "#@title Pregunta Abierta\n",
        "#@markdown Observando la documentación de SVC, sklearn usa estrategia one-vs-one. ¿Que diferencia existe al aplicar una estrategia  one-vs-rest?\n",
        "respuesta_5 = \"\" #@param {type:\"string\"}"
      ],
      "execution_count": null,
      "outputs": []
    },
    {
      "cell_type": "code",
      "metadata": {
        "id": "ta2szRQRhTqE"
      },
      "source": [
        "# ver la relación de parametro de regularización y los vectores de soporte\n",
        "import seaborn as sns\n",
        "ax= sns.relplot(data = resultadosSVC, x = 'param_reg', y = '% de vectores de soporte', kind = 'line', hue ='kernel', aspect = 1.5)\n",
        "ax.set(xscale=\"log\")"
      ],
      "execution_count": null,
      "outputs": []
    },
    {
      "cell_type": "code",
      "metadata": {
        "id": "pPGG4r9ShTqG",
        "cellView": "form"
      },
      "source": [
        "#@title Pregunta Abierta\n",
        "#@markdown ¿qué relación observa entre el valor del parametro de regularización y los vectores de soporte? ¿como explica esta relación?\n",
        "respuesta_6 = \"\" #@param {type:\"string\"}"
      ],
      "execution_count": null,
      "outputs": []
    },
    {
      "cell_type": "markdown",
      "metadata": {
        "id": "c1WJpOijhTqH"
      },
      "source": [
        "**Para Tener en cuenta** \n",
        "\n",
        "sklearn tiene unos \"wrappers\", que implementan estrategias para la clasificación multiclase, uno  de estos wrappers, implementa la estrategia one-vs-rest: https://scikit-learn.org/stable/modules/generated/sklearn.multiclass.OneVsRestClassifier.html.\n",
        "\n",
        "Un wrapper, es un esquema de diseño común para \"envolver\" librerias/funciones con caracteristicas similares y poder modificar ciertos comportamientos. Vale la pena observar los ejemplos para saber como utilizar estas estrategias cuando sea necesario."
      ]
    },
    {
      "cell_type": "code",
      "metadata": {
        "id": "NnTq9RTehTqH"
      },
      "source": [
        "GRADER.check_tests()"
      ],
      "execution_count": null,
      "outputs": []
    },
    {
      "cell_type": "code",
      "metadata": {
        "id": "dQ-WZCK-hTqJ",
        "cellView": "form"
      },
      "source": [
        "#@title Integrantes\n",
        "codigo_integrante_1 ='1017251689' #@param {type:\"string\"}\n",
        "codigo_integrante_2 = ''  #@param {type:\"string\"}"
      ],
      "execution_count": null,
      "outputs": []
    },
    {
      "cell_type": "markdown",
      "metadata": {
        "id": "Va7hyAs6hTqK"
      },
      "source": [
        "----\n",
        "esta linea de codigo va fallar, es de uso exclusivo de los profesores\n"
      ]
    },
    {
      "cell_type": "code",
      "metadata": {
        "id": "Ek0GsP_0hTqL"
      },
      "source": [
        "GRADER.grade()"
      ],
      "execution_count": null,
      "outputs": []
    }
  ]
}