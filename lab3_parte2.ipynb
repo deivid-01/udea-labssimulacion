{
  "nbformat": 4,
  "nbformat_minor": 0,
  "metadata": {
    "kernelspec": {
      "display_name": "Python 3",
      "language": "python",
      "name": "python3"
    },
    "language_info": {
      "codemirror_mode": {
        "name": "ipython",
        "version": 3
      },
      "file_extension": ".py",
      "mimetype": "text/x-python",
      "name": "python",
      "nbconvert_exporter": "python",
      "pygments_lexer": "ipython3",
      "version": "3.6.9"
    },
    "colab": {
      "name": "lab3_parte2.ipynb",
      "provenance": [],
      "collapsed_sections": []
    }
  },
  "cells": [
    {
      "cell_type": "markdown",
      "metadata": {
        "id": "HKt8AdJpR0Ly"
      },
      "source": [
        "<a href=\"https://colab.research.google.com/github/jdariasl/ML_2020/blob/master/Labs/lab3/lab3_parte2.ipynb\">\n",
        "    <img src=\"https://colab.research.google.com/assets/colab-badge.svg\" alt=\"Open In Colab\"/></a>\n",
        "\n",
        "**Recuerda que una vez abierto, Da clic en \"Copiar en Drive\", de lo contrario no podras almacenar tu progreso**\n",
        "\n",
        "Nota: no olvide ir ejecutando las celdas de código de arriba hacia abajo para que no tenga errores de importación de librerías o por falta de definición de variables."
      ]
    },
    {
      "cell_type": "code",
      "metadata": {
        "id": "-x8cOa8TR0Lz",
        "outputId": "09292447-4fdc-436b-b3ae-791e8c81c57e",
        "colab": {
          "base_uri": "https://localhost:8080/"
        }
      },
      "source": [
        "#configuración del laboratorio\n",
        "# Ejecuta esta celda!\n",
        "#for local \n",
        "#import sys ; sys.path.append('../commons/utils/')\n",
        "!wget https://raw.githubusercontent.com/jdariasl/ML_2020/master/Labs/commons/utils/general.py -O general.py --no-cache\n",
        "from general import configure_lab3\n",
        "configure_lab3()\n",
        "from lab3 import *\n",
        "GRADER = part_2()"
      ],
      "execution_count": 29,
      "outputs": [
        {
          "output_type": "stream",
          "text": [
            "--2020-10-28 21:22:57--  https://raw.githubusercontent.com/jdariasl/ML_2020/master/Labs/commons/utils/general.py\n",
            "Resolving raw.githubusercontent.com (raw.githubusercontent.com)... 151.101.0.133, 151.101.64.133, 151.101.128.133, ...\n",
            "Connecting to raw.githubusercontent.com (raw.githubusercontent.com)|151.101.0.133|:443... connected.\n",
            "HTTP request sent, awaiting response... 200 OK\n",
            "Length: 14117 (14K) [text/plain]\n",
            "Saving to: ‘general.py’\n",
            "\n",
            "\rgeneral.py            0%[                    ]       0  --.-KB/s               \rgeneral.py          100%[===================>]  13.79K  --.-KB/s    in 0.01s   \n",
            "\n",
            "2020-10-28 21:22:57 (1.08 MB/s) - ‘general.py’ saved [14117/14117]\n",
            "\n",
            "lab configuration started\n",
            "installing libraries\n",
            "downloading files\n",
            "lab configured\n"
          ],
          "name": "stdout"
        }
      ]
    },
    {
      "cell_type": "markdown",
      "metadata": {
        "id": "p-8jBq_KR0L1"
      },
      "source": [
        "# Laboratorio 3 - Parte 2"
      ]
    },
    {
      "cell_type": "markdown",
      "metadata": {
        "id": "RkbHQloLR0L2"
      },
      "source": [
        "A continuación se leen los datos de un problema de clasificación. El problema corresponde a la clasifiación de dígitos escritos a mano, el cual fue abordado en el laboratorio anterior. Usaremos únicamente 4 de las 10 clases disponibles. Los datos fueron preprocesados para reducir el número de características. La técnica usada será analizada más adelante en el curso."
      ]
    },
    {
      "cell_type": "code",
      "metadata": {
        "id": "Hwo-dBVfR0L2"
      },
      "source": [
        "digits = load_digits(n_class=5)\n",
        "#--------- preprocesamiento--------------------\n",
        "pca = PCA(0.99, whiten=True)\n",
        "data = pca.fit_transform(digits.data)\n",
        "#---------- Datos a usar ----------------------\n",
        "x = data\n",
        "y = digits.target"
      ],
      "execution_count": 30,
      "outputs": []
    },
    {
      "cell_type": "markdown",
      "metadata": {
        "id": "tGgD-28CR0L4"
      },
      "source": [
        "## Ejercicio 1 Experimentos con Arboles de decisión"
      ]
    },
    {
      "cell_type": "markdown",
      "metadata": {
        "id": "YXpaZfqCR0L4"
      },
      "source": [
        "Debe consultar todo lo relacionado con la creación, entrenamiento y uso en predicción de este modelo usando la librería scikit-learn. Consultar aquí: http://scikit-learn.org/stable/modules/generated/sklearn.tree.DecisionTreeClassifier.html.\n",
        "\n",
        "En el notebook, ya se encuentra cargada la libreria:\n",
        "\n",
        "```python\n",
        "from sklearn.tree import DecisionTreeClassifier\n",
        "```\n"
      ]
    },
    {
      "cell_type": "code",
      "metadata": {
        "id": "6HczNlx5R0L5",
        "cellView": "form"
      },
      "source": [
        "#@title Pregunta Abierta\n",
        "#@markdown  ¿Cuáles criterios para detener el crecimiento del árbol o de los nodos están disponibles en la librería?\n",
        "respuesta_1 = \"Los criterios disponibles en la libreria son profundidad maxima del arbol, el minimo de muestras por hoja, el minimo de muestras para dividir y el minimo de impureza\" #@param {type:\"string\"}"
      ],
      "execution_count": 31,
      "outputs": []
    },
    {
      "cell_type": "code",
      "metadata": {
        "id": "_TuOF2vXR0L6",
        "cellView": "form"
      },
      "source": [
        "#@title Pregunta Abierta\n",
        "#@markdown  ¿Cuáles son los parámetros asociados con los criterios enumerados en el punto anterior?\n",
        "respuesta_2 = \"max_depth, min_samples_leaf, min_impurity_decrease, min_samples_split\" #@param {type:\"string\"}"
      ],
      "execution_count": 32,
      "outputs": []
    },
    {
      "cell_type": "markdown",
      "metadata": {
        "id": "KIw79WykR0L8"
      },
      "source": [
        "En la siguiente celda se define una simulación para entrenar y validar un modelo usando los datos previamente cargados. Complete el código para usar como modelo de predicción un arbol de decisión.\n",
        "\n",
        "\n",
        "<b>Note</b> que existe una clase para modelos de clasificación y otra para modelos de regresión:\n",
        "http://scikit-learn.org/stable/modules/generated/sklearn.tree.DecisionTreeRegressor.html\n",
        "\n",
        "Vamos a tener en cuenta lo siguiente:\n",
        "1. dentro del código, ya se encuentra sugerida la metodologia de validación\n",
        "2. la función va aceptar un parametro booleano, dependiendo del valor de esta parametro, se ejecutara normalización de los datos.\n",
        "3. **hacer uso explicito del nombre del parametro que se va usar**, por ejemplo, si se requeire asignar el parametro `criterion`  debemos llamar la libreria de esta manera: `DecisionTreeClassifier(criterion = 'gini')`"
      ]
    },
    {
      "cell_type": "code",
      "metadata": {
        "id": "3lD0jyrER0L8"
      },
      "source": [
        "#ejercicio de código\n",
        "def experimentar_dt(depths,normalize, X, Y):\n",
        "    \"\"\"funcion que realiza experimentos de arboles de decision\n",
        "    depths: list[int] lista con la profundidad de arboles a experimentar\n",
        "    normalize bool: indica si se aplica normalización a los datos\n",
        "    X: matriz con las caractersiticas\n",
        "    Y: matriz de numpy con etiquetas\n",
        "    retorna: dataframe con:\n",
        "        - profunidad de los arboles\n",
        "        - eficiencia de entrenamiento\n",
        "        - desviacion de estandar eficiencia de entrenamiento\n",
        "        - eficiencia de prueba\n",
        "        - desviacion estandar eficiencia de prueba\n",
        "    \"\"\"\n",
        "    folds = 4\n",
        "    skf = StratifiedKFold(n_splits=folds)\n",
        "    resultados = pd.DataFrame()\n",
        "    idx = 0\n",
        "    for depth in depths:\n",
        "        ## para almacenar los errores intermedios\n",
        "        EficienciaTrain = []\n",
        "        EficienciaVal = []\n",
        "        for train, test in skf.split(X, Y):\n",
        "            Xtrain = X[train,:]\n",
        "            Ytrain = Y[train]\n",
        "            Xtest = X[test,:]\n",
        "            Ytest = Y[test]\n",
        "            #Normalizamos los datos\n",
        "            # si la bandera esta en True\n",
        "            if normalize:\n",
        "                scaler = StandardScaler()\n",
        "                scaler.fit(Xtrain)\n",
        "                Xtrain= scaler.transform(Xtrain)\n",
        "                Xtest = scaler.transform(Xtest)\n",
        "            #Haga el llamado a la función para crear y entrenar el modelo usando los datos de entrenamiento\n",
        "            modelo = DecisionTreeClassifier(max_depth=depth)\n",
        "            modelo = modelo.fit(Xtrain,Ytrain)\n",
        "            #predecir muestras de entrenamiento\n",
        "            Ytrain_pred = modelo.predict(Xtrain)\n",
        "            #predecir muestras de pruebas\n",
        "            Yest = modelo.predict(Xtest)\n",
        "            #Evaluamos las predicciones del modelo con los datos de test\n",
        "            EficienciaTrain.append(np.mean(Ytrain_pred.ravel() == Ytrain.ravel()))\n",
        "            EficienciaVal.append(np.mean(Yest.ravel() == Ytest.ravel()))\n",
        "\n",
        "        resultados.loc[idx,'profunidad del arbol'] = depth\n",
        "        resultados.loc[idx,'eficiencia de entrenamiento'] = np.mean(EficienciaTrain)\n",
        "        resultados.loc[idx,'desviacion estandar entrenamiento'] = np.std(EficienciaTrain)\n",
        "        resultados.loc[idx,'eficiencia de prueba'] = np.mean(EficienciaVal)\n",
        "        resultados.loc[idx,'desviacion estandar prueba'] =  np.mean(EficienciaVal)\n",
        "        idx= idx +1\n",
        "        \n",
        "    return (resultados)"
      ],
      "execution_count": 33,
      "outputs": []
    },
    {
      "cell_type": "code",
      "metadata": {
        "id": "B_G3OTVfR0L-",
        "outputId": "5d96ccb3-e6ff-4e9c-e6cf-96b0ba28e641",
        "colab": {
          "base_uri": "https://localhost:8080/"
        }
      },
      "source": [
        "## la funcion que prueba tu implementacion\n",
        "GRADER.run_test(\"ejercicio1\", experimentar_dt)"
      ],
      "execution_count": 34,
      "outputs": [
        {
          "output_type": "stream",
          "text": [
            "TEST EXITOSO!\n"
          ],
          "name": "stdout"
        }
      ]
    },
    {
      "cell_type": "code",
      "metadata": {
        "id": "Jf0Fe0uPR0MA",
        "outputId": "f3da09c2-d5d7-40fd-d0f0-9c817ca5388f",
        "colab": {
          "base_uri": "https://localhost:8080/",
          "height": 204
        }
      },
      "source": [
        "# Realiza los experimentos sin normalizacion\n",
        "resultados_dt_no_norm = experimentar_dt([5,10,20,30,50], False, x, y)\n",
        "resultados_dt_no_norm"
      ],
      "execution_count": 35,
      "outputs": [
        {
          "output_type": "execute_result",
          "data": {
            "text/html": [
              "<div>\n",
              "<style scoped>\n",
              "    .dataframe tbody tr th:only-of-type {\n",
              "        vertical-align: middle;\n",
              "    }\n",
              "\n",
              "    .dataframe tbody tr th {\n",
              "        vertical-align: top;\n",
              "    }\n",
              "\n",
              "    .dataframe thead th {\n",
              "        text-align: right;\n",
              "    }\n",
              "</style>\n",
              "<table border=\"1\" class=\"dataframe\">\n",
              "  <thead>\n",
              "    <tr style=\"text-align: right;\">\n",
              "      <th></th>\n",
              "      <th>profunidad del arbol</th>\n",
              "      <th>eficiencia de entrenamiento</th>\n",
              "      <th>desviacion estandar entrenamiento</th>\n",
              "      <th>eficiencia de prueba</th>\n",
              "      <th>desviacion estandar prueba</th>\n",
              "    </tr>\n",
              "  </thead>\n",
              "  <tbody>\n",
              "    <tr>\n",
              "      <th>0</th>\n",
              "      <td>5.0</td>\n",
              "      <td>0.969295</td>\n",
              "      <td>0.01381</td>\n",
              "      <td>0.918972</td>\n",
              "      <td>0.918972</td>\n",
              "    </tr>\n",
              "    <tr>\n",
              "      <th>1</th>\n",
              "      <td>10.0</td>\n",
              "      <td>1.000000</td>\n",
              "      <td>0.00000</td>\n",
              "      <td>0.926735</td>\n",
              "      <td>0.926735</td>\n",
              "    </tr>\n",
              "    <tr>\n",
              "      <th>2</th>\n",
              "      <td>20.0</td>\n",
              "      <td>1.000000</td>\n",
              "      <td>0.00000</td>\n",
              "      <td>0.920064</td>\n",
              "      <td>0.920064</td>\n",
              "    </tr>\n",
              "    <tr>\n",
              "      <th>3</th>\n",
              "      <td>30.0</td>\n",
              "      <td>1.000000</td>\n",
              "      <td>0.00000</td>\n",
              "      <td>0.921205</td>\n",
              "      <td>0.921205</td>\n",
              "    </tr>\n",
              "    <tr>\n",
              "      <th>4</th>\n",
              "      <td>50.0</td>\n",
              "      <td>1.000000</td>\n",
              "      <td>0.00000</td>\n",
              "      <td>0.912291</td>\n",
              "      <td>0.912291</td>\n",
              "    </tr>\n",
              "  </tbody>\n",
              "</table>\n",
              "</div>"
            ],
            "text/plain": [
              "   profunidad del arbol  ...  desviacion estandar prueba\n",
              "0                   5.0  ...                    0.918972\n",
              "1                  10.0  ...                    0.926735\n",
              "2                  20.0  ...                    0.920064\n",
              "3                  30.0  ...                    0.921205\n",
              "4                  50.0  ...                    0.912291\n",
              "\n",
              "[5 rows x 5 columns]"
            ]
          },
          "metadata": {
            "tags": []
          },
          "execution_count": 35
        }
      ]
    },
    {
      "cell_type": "code",
      "metadata": {
        "id": "dlOlgAv6R0MC",
        "outputId": "7ad082dc-f548-4a6b-9118-1d73622aef84",
        "colab": {
          "base_uri": "https://localhost:8080/",
          "height": 204
        }
      },
      "source": [
        "# Realiza los experimentos con normalizacion\n",
        "resultados_dt_norm = experimentar_dt([5,10,20,30,50], True, x, y)\n",
        "resultados_dt_norm"
      ],
      "execution_count": 36,
      "outputs": [
        {
          "output_type": "execute_result",
          "data": {
            "text/html": [
              "<div>\n",
              "<style scoped>\n",
              "    .dataframe tbody tr th:only-of-type {\n",
              "        vertical-align: middle;\n",
              "    }\n",
              "\n",
              "    .dataframe tbody tr th {\n",
              "        vertical-align: top;\n",
              "    }\n",
              "\n",
              "    .dataframe thead th {\n",
              "        text-align: right;\n",
              "    }\n",
              "</style>\n",
              "<table border=\"1\" class=\"dataframe\">\n",
              "  <thead>\n",
              "    <tr style=\"text-align: right;\">\n",
              "      <th></th>\n",
              "      <th>profunidad del arbol</th>\n",
              "      <th>eficiencia de entrenamiento</th>\n",
              "      <th>desviacion estandar entrenamiento</th>\n",
              "      <th>eficiencia de prueba</th>\n",
              "      <th>desviacion estandar prueba</th>\n",
              "    </tr>\n",
              "  </thead>\n",
              "  <tbody>\n",
              "    <tr>\n",
              "      <th>0</th>\n",
              "      <td>5.0</td>\n",
              "      <td>0.969295</td>\n",
              "      <td>0.01381</td>\n",
              "      <td>0.913432</td>\n",
              "      <td>0.913432</td>\n",
              "    </tr>\n",
              "    <tr>\n",
              "      <th>1</th>\n",
              "      <td>10.0</td>\n",
              "      <td>1.000000</td>\n",
              "      <td>0.00000</td>\n",
              "      <td>0.923427</td>\n",
              "      <td>0.923427</td>\n",
              "    </tr>\n",
              "    <tr>\n",
              "      <th>2</th>\n",
              "      <td>20.0</td>\n",
              "      <td>1.000000</td>\n",
              "      <td>0.00000</td>\n",
              "      <td>0.922296</td>\n",
              "      <td>0.922296</td>\n",
              "    </tr>\n",
              "    <tr>\n",
              "      <th>3</th>\n",
              "      <td>30.0</td>\n",
              "      <td>1.000000</td>\n",
              "      <td>0.00000</td>\n",
              "      <td>0.920079</td>\n",
              "      <td>0.920079</td>\n",
              "    </tr>\n",
              "    <tr>\n",
              "      <th>4</th>\n",
              "      <td>50.0</td>\n",
              "      <td>1.000000</td>\n",
              "      <td>0.00000</td>\n",
              "      <td>0.917852</td>\n",
              "      <td>0.917852</td>\n",
              "    </tr>\n",
              "  </tbody>\n",
              "</table>\n",
              "</div>"
            ],
            "text/plain": [
              "   profunidad del arbol  ...  desviacion estandar prueba\n",
              "0                   5.0  ...                    0.913432\n",
              "1                  10.0  ...                    0.923427\n",
              "2                  20.0  ...                    0.922296\n",
              "3                  30.0  ...                    0.920079\n",
              "4                  50.0  ...                    0.917852\n",
              "\n",
              "[5 rows x 5 columns]"
            ]
          },
          "metadata": {
            "tags": []
          },
          "execution_count": 36
        }
      ]
    },
    {
      "cell_type": "code",
      "metadata": {
        "id": "KUyxDrwVR0ME",
        "cellView": "form"
      },
      "source": [
        "#@title Pregunta Abierta\n",
        "#@markdown  ¿Tiene algún efecto la normalización o estándarización de las variables en el desempeño del modelo de árboles de decisión? Justifique.   \n",
        "respuesta_3 = \"Ninguno, ya que el arbol para tomar desiciones no necesita todo el conjunto de entrenamiento, asi que por este motivo en el caso de existir desbalance no tendria que marcar alguna diferencia.\" #@param {type:\"string\"}"
      ],
      "execution_count": 37,
      "outputs": []
    },
    {
      "cell_type": "markdown",
      "metadata": {
        "id": "q3sPp3OoR0MF"
      },
      "source": [
        "## Ejercicio 2 Experimentos con Random Forest\n",
        "\n",
        "En la siguiente celda se define una simulación para entrenar y validar un modelo usando los datos previamente cargados. Complete el código para usar como modelo de predicción un Random Forest. Debe consultar todo lo relacionado con la creación, entrenamiento y uso en predicción de este modelo usando la librería scikit-learn. Consultar aquí: http://scikit-learn.org/stable/modules/generated/sklearn.ensemble.RandomForestClassifier.html.\n",
        "\n",
        "En el notebook, ya se encuentra cargada la libreria:\n",
        "\n",
        "```python\n",
        "from sklearn.ensemble import RandomForestClassifier\n",
        "\n",
        "```\n",
        "\n",
        "<b>Note</b> que al igual que en el caso anterior, existe una clase para modelos de clasificación y otra para modelos de regresión: http://scikit-learn.org/stable/modules/generated/sklearn.ensemble.RandomForestRegressor.html\n",
        "\n",
        "**Recordar hacer uso explicito del nombre del parametro que se va usar**, por ejemplo, si se requeire asignar el parametro `criterion`  debemos llamar la libreria  de esta manera: `RandomForestClassifier(criterion = 'gini')`"
      ]
    },
    {
      "cell_type": "code",
      "metadata": {
        "id": "TMfYwB1VR0MH"
      },
      "source": [
        "#ejercicio de código\n",
        "def experimentar_rf(num_trees,numero_de_variables, X, Y):\n",
        "    \"\"\"funcion que realiza experimentos de random forest\n",
        "    num_trees: list[int]: lista con el número de arboles usado para el RF\n",
        "    numero_de_variables list[int]: lista con variables para la selección del mejor umbral en cada nodo \n",
        "    X: matriz con las caractersiticas\n",
        "    Y: matriz de numpy con etiquetas\n",
        "    retorna: dataframe con:\n",
        "        -  numero de arboles usados\n",
        "        -  variables para la selección del mejor umbral\n",
        "        - eficiencia de entrenamiento\n",
        "        - desviacion de estandar eficiencia de entrenamiento\n",
        "        - eficiencia de prueba\n",
        "        - desviacion estandar eficiencia de prueba\n",
        "    \"\"\"\n",
        "    folds = 4\n",
        "    skf = StratifiedKFold(n_splits=folds)\n",
        "    resultados = pd.DataFrame()\n",
        "    idx = 0\n",
        "    for trees in num_trees:\n",
        "        for num_variables in numero_de_variables:\n",
        "            ## para almacenar los errores intermedios\n",
        "            EficienciaTrain = []\n",
        "            EficienciaVal = []\n",
        "            for train, test in skf.split(X, Y):\n",
        "                Xtrain = X[train,:]\n",
        "                Ytrain = Y[train]\n",
        "                Xtest = X[test,:]\n",
        "                Ytest = Y[test]\n",
        "                #Haga el llamado a la función para crear y entrenar el modelo usando los datos de entrenamiento\n",
        "                modelo = RandomForestClassifier(  n_estimators=trees  , max_features=num_variables)\n",
        "                modelo =modelo.fit(Xtrain,Ytrain)\n",
        "                #predecir muestras de entrenamiento\n",
        "                Ytrain_pred = modelo.predict(Xtrain)\n",
        "                #predecir muestras de pruebas\n",
        "                Yest = modelo.predict(Xtest)\n",
        "                #Evaluamos las predicciones del modelo con los datos de test\n",
        "                EficienciaTrain.append(np.mean(Ytrain_pred.ravel() == Ytrain.ravel()))\n",
        "                EficienciaVal.append(np.mean(Yest.ravel() == Ytest.ravel()))\n",
        "\n",
        "            resultados.loc[idx,'número de arboles'] = trees\n",
        "            resultados.loc[idx,'variables para la selección del mejor umbral'] = num_variables\n",
        "            resultados.loc[idx,'eficiencia de entrenamiento'] = np.mean(EficienciaTrain)\n",
        "            resultados.loc[idx,'desviacion estandar entrenamiento'] = np.std(EficienciaTrain)\n",
        "            resultados.loc[idx,'eficiencia de prueba'] =np.mean(EficienciaVal)\n",
        "            resultados.loc[idx,'desviacion estandar prueba'] =  np.std(EficienciaVal)\n",
        "            idx= idx +1\n",
        "        print(f\"termina para {trees} arboles\")\n",
        "        \n",
        "    return (resultados)"
      ],
      "execution_count": 38,
      "outputs": []
    },
    {
      "cell_type": "code",
      "metadata": {
        "id": "9SAYXT3hR0MJ",
        "outputId": "e1044d56-a8ec-4f55-9ad6-8e06dc98d5db",
        "colab": {
          "base_uri": "https://localhost:8080/"
        }
      },
      "source": [
        "## la funcion que prueba tu implementacion\n",
        "GRADER.run_test(\"ejercicio2\", experimentar_rf)"
      ],
      "execution_count": 39,
      "outputs": [
        {
          "output_type": "stream",
          "text": [
            "termina para 3 arboles\n",
            "termina para 5 arboles\n",
            "termina para 10 arboles\n",
            "TEST EXITOSO!\n"
          ],
          "name": "stdout"
        }
      ]
    },
    {
      "cell_type": "markdown",
      "metadata": {
        "id": "MS5xALz3R0ML"
      },
      "source": [
        "Una vez completado el código realice los experimentos necesarios para llenar la siguiente tabla:"
      ]
    },
    {
      "cell_type": "code",
      "metadata": {
        "id": "blO2GTUtR0ML",
        "outputId": "efa8464c-490c-4e88-ff74-e982e9af51fd",
        "colab": {
          "base_uri": "https://localhost:8080/",
          "height": 726
        }
      },
      "source": [
        "arboles = [5,10,20,50,100, 150]\n",
        "variables_seleccion = [5,20,40]\n",
        "resultados_rf = experimentar_rf(arboles, variables_seleccion, x, y)\n",
        "resultados_rf"
      ],
      "execution_count": 40,
      "outputs": [
        {
          "output_type": "stream",
          "text": [
            "termina para 5 arboles\n",
            "termina para 10 arboles\n",
            "termina para 20 arboles\n",
            "termina para 50 arboles\n",
            "termina para 100 arboles\n",
            "termina para 150 arboles\n"
          ],
          "name": "stdout"
        },
        {
          "output_type": "execute_result",
          "data": {
            "text/html": [
              "<div>\n",
              "<style scoped>\n",
              "    .dataframe tbody tr th:only-of-type {\n",
              "        vertical-align: middle;\n",
              "    }\n",
              "\n",
              "    .dataframe tbody tr th {\n",
              "        vertical-align: top;\n",
              "    }\n",
              "\n",
              "    .dataframe thead th {\n",
              "        text-align: right;\n",
              "    }\n",
              "</style>\n",
              "<table border=\"1\" class=\"dataframe\">\n",
              "  <thead>\n",
              "    <tr style=\"text-align: right;\">\n",
              "      <th></th>\n",
              "      <th>número de arboles</th>\n",
              "      <th>variables para la selección del mejor umbral</th>\n",
              "      <th>eficiencia de entrenamiento</th>\n",
              "      <th>desviacion estandar entrenamiento</th>\n",
              "      <th>eficiencia de prueba</th>\n",
              "      <th>desviacion estandar prueba</th>\n",
              "    </tr>\n",
              "  </thead>\n",
              "  <tbody>\n",
              "    <tr>\n",
              "      <th>0</th>\n",
              "      <td>5.0</td>\n",
              "      <td>5.0</td>\n",
              "      <td>0.994081</td>\n",
              "      <td>0.004184</td>\n",
              "      <td>0.893461</td>\n",
              "      <td>0.006867</td>\n",
              "    </tr>\n",
              "    <tr>\n",
              "      <th>1</th>\n",
              "      <td>5.0</td>\n",
              "      <td>20.0</td>\n",
              "      <td>0.996301</td>\n",
              "      <td>0.003049</td>\n",
              "      <td>0.926735</td>\n",
              "      <td>0.006781</td>\n",
              "    </tr>\n",
              "    <tr>\n",
              "      <th>2</th>\n",
              "      <td>5.0</td>\n",
              "      <td>40.0</td>\n",
              "      <td>0.994450</td>\n",
              "      <td>0.001924</td>\n",
              "      <td>0.936740</td>\n",
              "      <td>0.015816</td>\n",
              "    </tr>\n",
              "    <tr>\n",
              "      <th>3</th>\n",
              "      <td>10.0</td>\n",
              "      <td>5.0</td>\n",
              "      <td>1.000000</td>\n",
              "      <td>0.000000</td>\n",
              "      <td>0.937886</td>\n",
              "      <td>0.030180</td>\n",
              "    </tr>\n",
              "    <tr>\n",
              "      <th>4</th>\n",
              "      <td>10.0</td>\n",
              "      <td>20.0</td>\n",
              "      <td>0.999630</td>\n",
              "      <td>0.000642</td>\n",
              "      <td>0.954474</td>\n",
              "      <td>0.013142</td>\n",
              "    </tr>\n",
              "    <tr>\n",
              "      <th>5</th>\n",
              "      <td>10.0</td>\n",
              "      <td>40.0</td>\n",
              "      <td>0.998519</td>\n",
              "      <td>0.001814</td>\n",
              "      <td>0.936735</td>\n",
              "      <td>0.014871</td>\n",
              "    </tr>\n",
              "    <tr>\n",
              "      <th>6</th>\n",
              "      <td>20.0</td>\n",
              "      <td>5.0</td>\n",
              "      <td>1.000000</td>\n",
              "      <td>0.000000</td>\n",
              "      <td>0.965585</td>\n",
              "      <td>0.011076</td>\n",
              "    </tr>\n",
              "    <tr>\n",
              "      <th>7</th>\n",
              "      <td>20.0</td>\n",
              "      <td>20.0</td>\n",
              "      <td>1.000000</td>\n",
              "      <td>0.000000</td>\n",
              "      <td>0.953378</td>\n",
              "      <td>0.020015</td>\n",
              "    </tr>\n",
              "    <tr>\n",
              "      <th>8</th>\n",
              "      <td>20.0</td>\n",
              "      <td>40.0</td>\n",
              "      <td>0.999260</td>\n",
              "      <td>0.000740</td>\n",
              "      <td>0.943387</td>\n",
              "      <td>0.013864</td>\n",
              "    </tr>\n",
              "    <tr>\n",
              "      <th>9</th>\n",
              "      <td>50.0</td>\n",
              "      <td>5.0</td>\n",
              "      <td>1.000000</td>\n",
              "      <td>0.000000</td>\n",
              "      <td>0.977793</td>\n",
              "      <td>0.013708</td>\n",
              "    </tr>\n",
              "    <tr>\n",
              "      <th>10</th>\n",
              "      <td>50.0</td>\n",
              "      <td>20.0</td>\n",
              "      <td>1.000000</td>\n",
              "      <td>0.000000</td>\n",
              "      <td>0.973368</td>\n",
              "      <td>0.009923</td>\n",
              "    </tr>\n",
              "    <tr>\n",
              "      <th>11</th>\n",
              "      <td>50.0</td>\n",
              "      <td>40.0</td>\n",
              "      <td>0.999630</td>\n",
              "      <td>0.000641</td>\n",
              "      <td>0.943397</td>\n",
              "      <td>0.009616</td>\n",
              "    </tr>\n",
              "    <tr>\n",
              "      <th>12</th>\n",
              "      <td>100.0</td>\n",
              "      <td>5.0</td>\n",
              "      <td>1.000000</td>\n",
              "      <td>0.000000</td>\n",
              "      <td>0.985575</td>\n",
              "      <td>0.008527</td>\n",
              "    </tr>\n",
              "    <tr>\n",
              "      <th>13</th>\n",
              "      <td>100.0</td>\n",
              "      <td>20.0</td>\n",
              "      <td>1.000000</td>\n",
              "      <td>0.000000</td>\n",
              "      <td>0.968928</td>\n",
              "      <td>0.012157</td>\n",
              "    </tr>\n",
              "    <tr>\n",
              "      <th>14</th>\n",
              "      <td>100.0</td>\n",
              "      <td>40.0</td>\n",
              "      <td>1.000000</td>\n",
              "      <td>0.000000</td>\n",
              "      <td>0.943397</td>\n",
              "      <td>0.006564</td>\n",
              "    </tr>\n",
              "    <tr>\n",
              "      <th>15</th>\n",
              "      <td>150.0</td>\n",
              "      <td>5.0</td>\n",
              "      <td>1.000000</td>\n",
              "      <td>0.000000</td>\n",
              "      <td>0.986691</td>\n",
              "      <td>0.008864</td>\n",
              "    </tr>\n",
              "    <tr>\n",
              "      <th>16</th>\n",
              "      <td>150.0</td>\n",
              "      <td>20.0</td>\n",
              "      <td>1.000000</td>\n",
              "      <td>0.000000</td>\n",
              "      <td>0.968928</td>\n",
              "      <td>0.007003</td>\n",
              "    </tr>\n",
              "    <tr>\n",
              "      <th>17</th>\n",
              "      <td>150.0</td>\n",
              "      <td>40.0</td>\n",
              "      <td>1.000000</td>\n",
              "      <td>0.000000</td>\n",
              "      <td>0.947837</td>\n",
              "      <td>0.009616</td>\n",
              "    </tr>\n",
              "  </tbody>\n",
              "</table>\n",
              "</div>"
            ],
            "text/plain": [
              "    número de arboles  ...  desviacion estandar prueba\n",
              "0                 5.0  ...                    0.006867\n",
              "1                 5.0  ...                    0.006781\n",
              "2                 5.0  ...                    0.015816\n",
              "3                10.0  ...                    0.030180\n",
              "4                10.0  ...                    0.013142\n",
              "5                10.0  ...                    0.014871\n",
              "6                20.0  ...                    0.011076\n",
              "7                20.0  ...                    0.020015\n",
              "8                20.0  ...                    0.013864\n",
              "9                50.0  ...                    0.013708\n",
              "10               50.0  ...                    0.009923\n",
              "11               50.0  ...                    0.009616\n",
              "12              100.0  ...                    0.008527\n",
              "13              100.0  ...                    0.012157\n",
              "14              100.0  ...                    0.006564\n",
              "15              150.0  ...                    0.008864\n",
              "16              150.0  ...                    0.007003\n",
              "17              150.0  ...                    0.009616\n",
              "\n",
              "[18 rows x 6 columns]"
            ]
          },
          "metadata": {
            "tags": []
          },
          "execution_count": 40
        }
      ]
    },
    {
      "cell_type": "code",
      "metadata": {
        "id": "TmMypaf9R0MN",
        "cellView": "form"
      },
      "source": [
        "#@title Pregunta Abierta\n",
        "#@markdown ¿qué caractersitica tiene en especial los Random forest entrenados cuando la cantidad de variables para la selección del mejor umbral es igual a 40?  *desde el punto de vista teorico no de los resultados**\n",
        "respuesta_3 = \"Desde el punto de vista teorico si se utilizan 40 variables estaria muestreando con todas las variables,  asi que dejaria de ser un random forest ya que no estaria realizando submuestreos. \" #@param {type:\"string\"}"
      ],
      "execution_count": 41,
      "outputs": []
    },
    {
      "cell_type": "markdown",
      "metadata": {
        "id": "hEACC0WkR0MO"
      },
      "source": [
        "Vamos a comparar los resultados del RF y con el DT"
      ]
    },
    {
      "cell_type": "code",
      "metadata": {
        "id": "8-UCgRrVR0MP",
        "outputId": "6a576aa5-a6bb-4618-8d11-a1191583b627",
        "colab": {
          "base_uri": "https://localhost:8080/"
        }
      },
      "source": [
        "print(\"diferencia promedio entre entrenamiento y prueba del DT\", \n",
        "      resultados_dt_norm['eficiencia de entrenamiento'].mean()-resultados_dt_norm['eficiencia de prueba'].mean())\n",
        "\n",
        "print(\"diferencia promedio entre entrenamiento y prueba del RF\", \n",
        "      resultados_rf['eficiencia de entrenamiento'].mean()-resultados_rf['eficiencia de prueba'].mean())"
      ],
      "execution_count": 42,
      "outputs": [
        {
          "output_type": "stream",
          "text": [
            "diferencia promedio entre entrenamiento y prueba del DT 0.07444206187126567\n",
            "diferencia promedio entre entrenamiento y prueba del RF 0.04653186267379572\n"
          ],
          "name": "stdout"
        }
      ]
    },
    {
      "cell_type": "code",
      "metadata": {
        "id": "o_Tz9hz6R0MR",
        "cellView": "form"
      },
      "source": [
        "#@title Pregunta Abierta\n",
        "#@markdown ¿esperaba la diferencia que se observa entre las eficiencias entre entrenamiento y pruebas para el Random forest y el arbol de decisón? justifique \n",
        "respuesta_4 = \"Si, porque para el problema que se quiere resolver un Random Forest ser\\xEDa el mas adecuado, ya que en vez de un solo arbol se est\\xE1n utilizando multiples arboles.\" #@param {type:\"string\"}"
      ],
      "execution_count": 43,
      "outputs": []
    },
    {
      "cell_type": "markdown",
      "metadata": {
        "id": "yBfC_8rDR0MS"
      },
      "source": [
        "## Ejercicio 3 Experimentos con Gradient Boosted Trees\n",
        "\n",
        "En la siguiente celda se define una simulación para entrenar y validar un modelo usando los datos previamente cargados. Complete el código para usar como modelo de predicción un Gradient boosted Tree. Debe consultar todo lo relacionado con la creación, entrenamiento y uso en predicción de este modelo usando la librería scikit-learn. Consultar aquí: https://scikit-learn.org/stable/modules/generated/sklearn.ensemble.GradientBoostingClassifier.html\n",
        "\n",
        "En el notebook, ya se encuentra cargada la libreria:\n",
        "\n",
        "```python\n",
        "from sklearn.ensemble import GradientBoostingClassifier\n",
        "\n",
        "```\n",
        "\n",
        "<b>Note</b> que al igual que en el caso anterior, existe una clase para modelos de clasificación y otra para modelos de regresión: https://scikit-learn.org/stable/modules/generated/sklearn.ensemble.GradientBoostingRegressor.html#sklearn.ensemble.GradientBoostingRegressor\n",
        "\n",
        "**Recordar hacer uso explicito del nombre del parametro que se va usar**, por ejemplo, si se requeire asignar el parametro ` loss`  debemos llamar la libreria  de esta manera: `GradientBoostingClassifier(loss = 'deviance')`"
      ]
    },
    {
      "cell_type": "code",
      "metadata": {
        "id": "GfaU0uZPR0MS"
      },
      "source": [
        "#ejercicio de código\n",
        "def experimentar_gbt(num_trees, X, Y):\n",
        "    \"\"\"funcion que realiza experimentos de arboles de decision\n",
        "    num_trees: list[int] lista con el número de arboles usado para el RF\n",
        "    X: matriz con las caractersiticas\n",
        "    Y: matriz de numpy con etiquetas\n",
        "    retorna: dataframe con:\n",
        "        - numero de arboles usados\n",
        "        - eficiencia de entrenamiento\n",
        "        - desviacion de estandar eficiencia de entrenamiento\n",
        "        - eficiencia de prueba\n",
        "        - desviacion estandar eficiencia de prueba\n",
        "    \"\"\"\n",
        "    folds = 4\n",
        "    skf = StratifiedKFold(n_splits=folds)\n",
        "    resultados = pd.DataFrame()\n",
        "    idx = 0\n",
        "    for trees in num_trees:\n",
        "        ## para almacenar los errores intermedios\n",
        "        EficienciaTrain = []\n",
        "        EficienciaVal = []\n",
        "        for train, test in skf.split(X, Y):\n",
        "            Xtrain = X[train,:]\n",
        "            Ytrain = Y[train]\n",
        "            Xtest = X[test,:]\n",
        "            Ytest = Y[test]\n",
        "            #Haga el llamado a la función para crear y entrenar el modelo usando los datos de entrenamiento\n",
        "            modelo= GradientBoostingClassifier(n_estimators= trees)\n",
        "            modelo =modelo.fit(Xtrain,Ytrain)\n",
        "            #predecir muestras de entrenamiento\n",
        "            Ytrain_pred =  modelo.predict(Xtrain)\n",
        "            #predecir muestras de pruebas\n",
        "            Yest = modelo.predict(Xtest)\n",
        "            #Evaluamos las predicciones del modelo con los datos de test\n",
        "            EficienciaTrain.append(np.mean(Ytrain_pred.ravel() == Ytrain.ravel()))\n",
        "            EficienciaVal.append(np.mean(Yest.ravel() == Ytest.ravel()))\n",
        "\n",
        "        resultados.loc[idx,'número de arboles'] = trees\n",
        "        resultados.loc[idx,'eficiencia de entrenamiento'] = np.mean(EficienciaTrain)\n",
        "        resultados.loc[idx,'desviacion estandar entrenamiento'] = np.std(EficienciaVal)\n",
        "        resultados.loc[idx,'eficiencia de prueba'] =np.mean(EficienciaVal)\n",
        "        resultados.loc[idx,'desviacion estandar prueba'] = np.std(EficienciaVal)\n",
        "        idx= idx +1\n",
        "        \n",
        "    return (resultados)"
      ],
      "execution_count": 44,
      "outputs": []
    },
    {
      "cell_type": "code",
      "metadata": {
        "id": "eu56Q8pKR0MU",
        "outputId": "a2e2e86f-e848-4be6-8f5a-81eff2c06ad1",
        "colab": {
          "base_uri": "https://localhost:8080/"
        }
      },
      "source": [
        "## la funcion que prueba tu implementacion\n",
        "GRADER.run_test(\"ejercicio3\", experimentar_gbt)"
      ],
      "execution_count": 45,
      "outputs": [
        {
          "output_type": "stream",
          "text": [
            "TEST EXITOSO!\n"
          ],
          "name": "stdout"
        }
      ]
    },
    {
      "cell_type": "code",
      "metadata": {
        "id": "H6vIMbJ7R0MW",
        "outputId": "1000e8cd-1b67-46de-a840-7a930a84357d",
        "colab": {
          "base_uri": "https://localhost:8080/",
          "height": 235
        }
      },
      "source": [
        "# ejecuta para realizar los experimentos\n",
        "arboles = [5,10,20,50,100, 150]\n",
        "resultados_gbt = experimentar_gbt(arboles, x, y)\n",
        "resultados_gbt"
      ],
      "execution_count": 46,
      "outputs": [
        {
          "output_type": "execute_result",
          "data": {
            "text/html": [
              "<div>\n",
              "<style scoped>\n",
              "    .dataframe tbody tr th:only-of-type {\n",
              "        vertical-align: middle;\n",
              "    }\n",
              "\n",
              "    .dataframe tbody tr th {\n",
              "        vertical-align: top;\n",
              "    }\n",
              "\n",
              "    .dataframe thead th {\n",
              "        text-align: right;\n",
              "    }\n",
              "</style>\n",
              "<table border=\"1\" class=\"dataframe\">\n",
              "  <thead>\n",
              "    <tr style=\"text-align: right;\">\n",
              "      <th></th>\n",
              "      <th>número de arboles</th>\n",
              "      <th>eficiencia de entrenamiento</th>\n",
              "      <th>desviacion estandar entrenamiento</th>\n",
              "      <th>eficiencia de prueba</th>\n",
              "      <th>desviacion estandar prueba</th>\n",
              "    </tr>\n",
              "  </thead>\n",
              "  <tbody>\n",
              "    <tr>\n",
              "      <th>0</th>\n",
              "      <td>5.0</td>\n",
              "      <td>0.988161</td>\n",
              "      <td>0.020576</td>\n",
              "      <td>0.925664</td>\n",
              "      <td>0.020576</td>\n",
              "    </tr>\n",
              "    <tr>\n",
              "      <th>1</th>\n",
              "      <td>10.0</td>\n",
              "      <td>0.995190</td>\n",
              "      <td>0.018997</td>\n",
              "      <td>0.928992</td>\n",
              "      <td>0.018997</td>\n",
              "    </tr>\n",
              "    <tr>\n",
              "      <th>2</th>\n",
              "      <td>20.0</td>\n",
              "      <td>1.000000</td>\n",
              "      <td>0.016785</td>\n",
              "      <td>0.945595</td>\n",
              "      <td>0.016785</td>\n",
              "    </tr>\n",
              "    <tr>\n",
              "      <th>3</th>\n",
              "      <td>50.0</td>\n",
              "      <td>1.000000</td>\n",
              "      <td>0.011531</td>\n",
              "      <td>0.958918</td>\n",
              "      <td>0.011531</td>\n",
              "    </tr>\n",
              "    <tr>\n",
              "      <th>4</th>\n",
              "      <td>100.0</td>\n",
              "      <td>1.000000</td>\n",
              "      <td>0.004891</td>\n",
              "      <td>0.965585</td>\n",
              "      <td>0.004891</td>\n",
              "    </tr>\n",
              "    <tr>\n",
              "      <th>5</th>\n",
              "      <td>150.0</td>\n",
              "      <td>1.000000</td>\n",
              "      <td>0.002257</td>\n",
              "      <td>0.966701</td>\n",
              "      <td>0.002257</td>\n",
              "    </tr>\n",
              "  </tbody>\n",
              "</table>\n",
              "</div>"
            ],
            "text/plain": [
              "   número de arboles  ...  desviacion estandar prueba\n",
              "0                5.0  ...                    0.020576\n",
              "1               10.0  ...                    0.018997\n",
              "2               20.0  ...                    0.016785\n",
              "3               50.0  ...                    0.011531\n",
              "4              100.0  ...                    0.004891\n",
              "5              150.0  ...                    0.002257\n",
              "\n",
              "[6 rows x 5 columns]"
            ]
          },
          "metadata": {
            "tags": []
          },
          "execution_count": 46
        }
      ]
    },
    {
      "cell_type": "markdown",
      "metadata": {
        "id": "2E4iUcGwR0MX"
      },
      "source": [
        "Vamos a graficar la eficiencia para el RF y el GBT en función del número de arboles."
      ]
    },
    {
      "cell_type": "code",
      "metadata": {
        "id": "jcYqRudTR0MX",
        "outputId": "e4de8041-968c-415a-f29f-ca6e1f63d739",
        "colab": {
          "base_uri": "https://localhost:8080/",
          "height": 256
        }
      },
      "source": [
        "# se crea un df para agrupar los resultados\n",
        "# y graficar las diferencias entre el GBT y el RF\n",
        "rf_res = resultados_rf.groupby(\"número de arboles\")['eficiencia de prueba'].mean().reset_index()\n",
        "rf_res['Tipo'] = 'RF'\n",
        "gbt_res = resultados_gbt.groupby(\"número de arboles\")['eficiencia de prueba'].mean().reset_index()\n",
        "gbt_res['Tipo'] = 'GBT'\n",
        "data_to_plot= pd.concat([rf_res, gbt_res], ignore_index=True)\n",
        "sns.relplot(data=data_to_plot, x= 'número de arboles', y = 'eficiencia de prueba', hue = 'Tipo', kind='line', aspect=1.5,height=3)"
      ],
      "execution_count": 47,
      "outputs": [
        {
          "output_type": "execute_result",
          "data": {
            "text/plain": [
              "<seaborn.axisgrid.FacetGrid at 0x7f2b42fd3860>"
            ]
          },
          "metadata": {
            "tags": []
          },
          "execution_count": 47
        },
        {
          "output_type": "display_data",
          "data": {
            "image/png": "[encoded data removed]",
            "text/plain": [
              "<Figure size 380.625x216 with 1 Axes>"
            ]
          },
          "metadata": {
            "tags": [],
            "needs_background": "light"
          }
        }
      ]
    },
    {
      "cell_type": "code",
      "metadata": {
        "id": "_ldfyyU9R0MZ",
        "cellView": "form"
      },
      "source": [
        "#@title Pregunta Abierta\n",
        "#@markdown recordando la diferencia entre el Random Forest y el Gradient boosted Trees ¿porqué el GBT necesita más árboles para llegar a mejores eficiencias?\n",
        "respuesta_5 = \"Porque cada nuevo arbol que se genera depende de los resultados anteriores, asi que entre mas arboles existan mas probabilidad existirara a que el GBT corriga los errores de los arboles anteriores, de esta manera mejora la eficiencia\" #@param {type:\"string\"}"
      ],
      "execution_count": 48,
      "outputs": []
    },
    {
      "cell_type": "markdown",
      "metadata": {
        "id": "yMPFC4H_R0Ma"
      },
      "source": [
        "## Ejercicio 4 Tiempo de entrenamiento del RF \n",
        "\n",
        "En nuestro último experimento, vamos a evaluar la influencia de las parametros del RF en el tiempo de entrenamiento. Para ello vamos a crear una función para medir el tiempo de entrenamiento usando la instrucción `time.clock()`.\n",
        "\n",
        "Vamos crear la función, para poder evaluar la influencia de:\n",
        "1. número de arboles\n",
        "2. cantidad de variables a analizar por nodo\n",
        "\n",
        "En el entrenamiento del RF. \n",
        "\n",
        "**Notar**  \n",
        "1. No vamos a dividir el conjunto, ya que el objetivo es evaluar el tiempo de entrenamiento y no la eficiencias del modelo\n",
        "2. No calculamos las prediciones\n",
        "3. **Recordar hacer uso explicito del nombre del parametro que se va usar**, por ejemplo, si se requeire asignar el parametro `criterion`  debemos llamar la libreria  de esta manera: `RandomForestClassifier(criterion = 'gini')`"
      ]
    },
    {
      "cell_type": "code",
      "metadata": {
        "id": "tOdu_n0wR0Ma"
      },
      "source": [
        "def time_rf_training(X, Y, num_trees, numero_de_variables):\n",
        "    \"\"\"funcion que realiza experimentos, para determinar la influencia\n",
        "    del numero de arboles y de caracteristicas en el tiempo de entrenamiento\n",
        "    del RF\n",
        "    X: conjunto de datos para realizar los experimentos\n",
        "    Y: conjunto de etiquetas de clase\n",
        "    num_trees: List[int] lista con el número de arboles a evaluar\n",
        "    num_variables: List[int] lista con el número variables a evaluar\n",
        "    retorna: dataframe con:\n",
        "    - número de arboles\n",
        "    - variables para la selección del mejor umbral\n",
        "    - tiempo de entrenamiento (promedio)\n",
        "    \"\"\"\n",
        "    resultados = pd.DataFrame()\n",
        "    idx = 0\n",
        "    \n",
        "    for trees in num_trees:\n",
        "        for variables in numero_de_variables:\n",
        "            ## ejecutar 5 veces lo mismo\n",
        "            ## para llegar a un tiempo más adecuado\n",
        "            tiempos = []\n",
        "            for i in range(5):\n",
        "            ## llamar la \n",
        "                start =time.clock()\n",
        "                modelo = RandomForestClassifier(  n_estimators=trees  , max_features=variables)\n",
        "                modelo =modelo.fit(X,Y)\n",
        "                ## obtener tiempo \n",
        "                end = time.clock()\n",
        "                # append de la resta de fin y end\n",
        "                tiempos.append(end-start)\n",
        "            resultados.loc[idx,'número de arboles'] = trees\n",
        "            resultados.loc[idx,'variables para la selección del mejor umbral'] = variables\n",
        "            # obtenga el promedio\n",
        "            resultados.loc[idx,'tiempo de entrenamiento'] = np.mean(tiempos)\n",
        "            idx = idx +1\n",
        "    return(resultados)"
      ],
      "execution_count": 49,
      "outputs": []
    },
    {
      "cell_type": "code",
      "metadata": {
        "id": "ukJ6i-hCR0Mc",
        "outputId": "3aa150ce-fece-43eb-9d67-b3d1502d5edc",
        "colab": {
          "base_uri": "https://localhost:8080/"
        }
      },
      "source": [
        "## la funcion que prueba tu implementacion\n",
        "GRADER.run_test(\"ejercicio4\", time_rf_training)"
      ],
      "execution_count": 50,
      "outputs": [
        {
          "output_type": "stream",
          "text": [
            "TEST EXITOSO!\n"
          ],
          "name": "stdout"
        }
      ]
    },
    {
      "cell_type": "markdown",
      "metadata": {
        "id": "WmfXgHHUR0Me"
      },
      "source": [
        "Vamos a dejar fijo el número de variables en 20 y variar los árboles en: [5,10,15,25, 50], completa el código para ver la grafica"
      ]
    },
    {
      "cell_type": "code",
      "metadata": {
        "id": "DK2JdQAfR0Me",
        "outputId": "ab34b9b5-fc42-48da-cd85-d3bb71185198",
        "colab": {
          "base_uri": "https://localhost:8080/",
          "height": 296
        }
      },
      "source": [
        "resultados_rf_time1 = time_rf_training(x, y, [5,10,15,25,50], [20])\n",
        "resultados_rf_time1.plot(x = 'número de arboles', y = 'tiempo de entrenamiento')"
      ],
      "execution_count": 51,
      "outputs": [
        {
          "output_type": "execute_result",
          "data": {
            "text/plain": [
              "<matplotlib.axes._subplots.AxesSubplot at 0x7f2b431501d0>"
            ]
          },
          "metadata": {
            "tags": []
          },
          "execution_count": 51
        },
        {
          "output_type": "display_data",
          "data": {
            "image/png": "[encoded data removed]",
            "text/plain": [
              "<Figure size 432x288 with 1 Axes>"
            ]
          },
          "metadata": {
            "tags": [],
            "needs_background": "light"
          }
        }
      ]
    },
    {
      "cell_type": "markdown",
      "metadata": {
        "id": "PKqJ85TUR0Mf"
      },
      "source": [
        "Y por ultimo Vamos a dejar fijo el número de árboles en 20 y el número de varaibles [5,10,15,20,40], completa el código para ver la grafica"
      ]
    },
    {
      "cell_type": "code",
      "metadata": {
        "id": "0mkj5sbRR0Mg",
        "outputId": "f41f6091-8b05-434b-8738-f39013f40bd1",
        "colab": {
          "base_uri": "https://localhost:8080/",
          "height": 297
        }
      },
      "source": [
        "resultados_rf_time2 = time_rf_training(x, y, [5,10,15,20,40], [20])\n",
        "resultados_rf_time2.plot(x = 'variables para la selección del mejor umbral', y = 'tiempo de entrenamiento')"
      ],
      "execution_count": 52,
      "outputs": [
        {
          "output_type": "execute_result",
          "data": {
            "text/plain": [
              "<matplotlib.axes._subplots.AxesSubplot at 0x7f2b43150630>"
            ]
          },
          "metadata": {
            "tags": []
          },
          "execution_count": 52
        },
        {
          "output_type": "display_data",
          "data": {
            "image/png": "[encoded data removed]",
            "text/plain": [
              "<Figure size 432x288 with 1 Axes>"
            ]
          },
          "metadata": {
            "tags": [],
            "needs_background": "light"
          }
        }
      ]
    },
    {
      "cell_type": "code",
      "metadata": {
        "id": "2aJTJ4GVR0Mh",
        "cellView": "form"
      },
      "source": [
        "#@title Pregunta Abierta\n",
        "#@markdown ¿qué parametro de los evaluados tiene una mayor influencia en los tiempos de entrenamiento? justifique\n",
        "respuesta_5 = \"El numero de arboles, a mas arboles mas aumenta la cantidad de procedimientos durante el entrenamiento  que debe realizar el algoritmo, aumentando el costo computacional\" #@param {type:\"string\"}"
      ],
      "execution_count": 53,
      "outputs": []
    },
    {
      "cell_type": "code",
      "metadata": {
        "id": "QeIgW9y2R0Mj",
        "cellView": "form"
      },
      "source": [
        "#@title Integrantes\n",
        "codigo_integrante_1 ='1017251689' #@param {type:\"string\"}\n",
        "codigo_integrante_2 = ''  #@param {type:\"string\"}"
      ],
      "execution_count": 54,
      "outputs": []
    },
    {
      "cell_type": "markdown",
      "metadata": {
        "id": "pPCnjXUGR0Mk"
      },
      "source": [
        "----\n",
        "esta linea de codigo va fallar, es de uso exclusivo de los profesores\n"
      ]
    },
    {
      "cell_type": "code",
      "metadata": {
        "id": "k67-WjqNR0Ml",
        "outputId": "1ef0a1c5-e825-446c-ceb2-e90eca9e8d1b",
        "colab": {
          "base_uri": "https://localhost:8080/"
        }
      },
      "source": [
        "GRADER.grade()"
      ],
      "execution_count": 55,
      "outputs": [
        {
          "output_type": "stream",
          "text": [
            "uso del docente\n"
          ],
          "name": "stdout"
        }
      ]
    }
  ]
}