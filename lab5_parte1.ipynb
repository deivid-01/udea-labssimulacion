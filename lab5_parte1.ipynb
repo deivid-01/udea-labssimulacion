{
  "nbformat": 4,
  "nbformat_minor": 0,
  "metadata": {
    "kernelspec": {
      "display_name": "Python 3",
      "language": "python",
      "name": "python3"
    },
    "language_info": {
      "codemirror_mode": {
        "name": "ipython",
        "version": 3
      },
      "file_extension": ".py",
      "mimetype": "text/x-python",
      "name": "python",
      "nbconvert_exporter": "python",
      "pygments_lexer": "ipython3",
      "version": "3.6.9"
    },
    "colab": {
      "name": "lab5_parte1.ipynb",
      "provenance": [],
      "collapsed_sections": [],
      "toc_visible": true
    }
  },
  "cells": [
    {
      "cell_type": "markdown",
      "metadata": {
        "id": "XrfDiFHOUHIf"
      },
      "source": [
        "<a href=\"https://colab.research.google.com/github/jdariasl/ML_2020/blob/master/Labs/lab5/lab5_parte1.ipynb\">\n",
        "    <img src=\"https://colab.research.google.com/assets/colab-badge.svg\" alt=\"Open In Colab\"/></a>\n",
        "\n",
        "**Recuerda que una vez abierto, Da clic en \"Copiar en Drive\", de lo contrario no podras almacenar tu progreso**\n",
        "\n",
        "Nota: no olvide ir ejecutando las celdas de código de arriba hacia abajo para que no tenga errores de importación de librerías o por falta de definición de variables."
      ]
    },
    {
      "cell_type": "code",
      "metadata": {
        "id": "L6q8_ixzUHIg",
        "colab": {
          "base_uri": "https://localhost:8080/"
        },
        "outputId": "53709c25-4f58-448e-c476-05e444df8ff1"
      },
      "source": [
        "#configuración del laboratorio\n",
        "# Ejecuta esta celda!\n",
        "%load_ext autoreload\n",
        "%autoreload 2\n",
        "#for local \n",
        "#import sys ; sys.path.append('../commons/utils/')\n",
        "!wget https://raw.githubusercontent.com/jdariasl/ML_2020/master/Labs/commons/utils/general.py -O general.py --no-cache\n",
        "from general import configure_lab5_1\n",
        "configure_lab5_1()\n",
        "from lab5 import *\n",
        "GRADER, dataset = part_1()\n",
        "import neurolab as nl"
      ],
      "execution_count": 33,
      "outputs": [
        {
          "output_type": "stream",
          "text": [
            "The autoreload extension is already loaded. To reload it, use:\n",
            "  %reload_ext autoreload\n",
            "--2020-11-18 19:23:06--  https://raw.githubusercontent.com/jdariasl/ML_2020/master/Labs/commons/utils/general.py\n",
            "Resolving raw.githubusercontent.com (raw.githubusercontent.com)... 151.101.0.133, 151.101.64.133, 151.101.128.133, ...\n",
            "Connecting to raw.githubusercontent.com (raw.githubusercontent.com)|151.101.0.133|:443... connected.\n",
            "HTTP request sent, awaiting response... 200 OK\n",
            "Length: 14117 (14K) [text/plain]\n",
            "Saving to: ‘general.py’\n",
            "\n",
            "general.py          100%[===================>]  13.79K  --.-KB/s    in 0s      \n",
            "\n",
            "2020-11-18 19:23:06 (79.1 MB/s) - ‘general.py’ saved [14117/14117]\n",
            "\n",
            "lab configuration started\n",
            "installing libraries\n",
            "downloading files\n",
            "lab configured\n"
          ],
          "name": "stdout"
        }
      ]
    },
    {
      "cell_type": "markdown",
      "metadata": {
        "id": "bpINIvigUHIj"
      },
      "source": [
        "# Laboratorio 5 - Parte 1: Redes recurrentes"
      ]
    },
    {
      "cell_type": "markdown",
      "metadata": {
        "id": "juJzpTmIUHIj"
      },
      "source": [
        "En este  laboratorio entrenaremos una Red Neuronal Recurrente para la predicción de una serie de tiempo. \n",
        "\n",
        "Este problema corresponde a una configuración many-to-one. \n",
        "\n",
        "En este caso usaremos una serie de tiempo que corresponde al número de pasajeros internacionales por mes, desde el año 1949 hasta el año 1960. \n",
        "\n",
        "En la siguiente celda visualizamos los datos."
      ]
    },
    {
      "cell_type": "code",
      "metadata": {
        "id": "3q8fueYYUHIk",
        "colab": {
          "base_uri": "https://localhost:8080/",
          "height": 331
        },
        "outputId": "6c43f573-96f0-48de-ccd4-1fd93557263a"
      },
      "source": [
        "# creamos una variable para\n",
        "# el tiempo\n",
        "Time = pd.date_range(np.datetime64('1949-01'), np.datetime64('1961-01'), freq='M')\n",
        "print(\"tenemos dispnible nuestra base de datos en el pandas DF 'dataset' \\n\")\n",
        "plt.plot(Time,dataset)\n",
        "plt.title('International airline passengers')\n",
        "plt.xlabel('Time (months)')\n",
        "plt.show()"
      ],
      "execution_count": 34,
      "outputs": [
        {
          "output_type": "stream",
          "text": [
            "tenemos dispnible nuestra base de datos en el pandas DF 'dataset' \n",
            "\n"
          ],
          "name": "stdout"
        },
        {
          "output_type": "display_data",
          "data": {
            "image/png": "[encoded data removed]",
            "text/plain": [
              "<Figure size 432x288 with 1 Axes>"
            ]
          },
          "metadata": {
            "tags": [],
            "needs_background": "light"
          }
        }
      ]
    },
    {
      "cell_type": "markdown",
      "metadata": {
        "id": "N0u19e8LUHIn"
      },
      "source": [
        "En nuestro primer ejercicio vamos a explorar, que relación existe entre una muestra con las muestras inmediantamente pasadas.La libreria statsmodel [tiene una función que nos sirve para analizar esta relación](https://www.statsmodels.org/stable/generated/statsmodels.graphics.tsaplots.plot_acf.html).\n",
        "\n",
        "\n",
        "## Ejercicio 1 - Exploración del problema\n",
        "\n",
        "Este plot realiza una operación cuyos detalles son explicados en mayor profundidad en [esta buena entrada de blog](https://machinelearningmastery.com/gentle-introduction-autocorrelation-partial-autocorrelation/). Pero nuestro laboratorio lo que no interesa es entender:\n",
        "\n",
        "1. El valor varia entre 1.0 y -1.0. \n",
        "2. Cuando el valor de la correlación es 1.0, corresponde el valor maximo indicando una relación positiva entre la variable y su correspondiente lag o retraso.\n",
        "3. Cuando el valor de la correlación es -1.0, corresponde el valor mínimo indicando una relación negativa entre la variable y su correspondiente lag o retraso..\n",
        "4. 0.0 indica que los valores no están relacionados.\n",
        "5. el lag indica, el número de retrasos. Si el valor de la correlación en el lag  5 es igual 0.75, indica una relación positiva alta entre el quinto retraso anterior en la mayoria de muestras de nuestra variable de respuesta.\n",
        "\n",
        "Ahora, grafiquemos la correlación para un maximo de 45 lags de nuestros datos"
      ]
    },
    {
      "cell_type": "code",
      "metadata": {
        "id": "zFanVFDdUHIn",
        "colab": {
          "base_uri": "https://localhost:8080/",
          "height": 444
        },
        "outputId": "57370b69-f878-4bac-ea2c-efe815cdcb33"
      },
      "source": [
        "from statsmodels.graphics import tsaplots\n",
        "fig, ax = plt.subplots(figsize = (12,7))\n",
        "# Display the autocorrelation plot of your time series\n",
        "fig = tsaplots.plot_acf(dataset.passengers, lags=45, ax = ax)"
      ],
      "execution_count": 35,
      "outputs": [
        {
          "output_type": "display_data",
          "data": {
            "image/png": "[encoded data removed]",
            "text/plain": [
              "<Figure size 864x504 with 1 Axes>"
            ]
          },
          "metadata": {
            "tags": [],
            "needs_background": "light"
          }
        }
      ]
    },
    {
      "cell_type": "markdown",
      "metadata": {
        "id": "1CWoMbcjUHIp"
      },
      "source": [
        "reforzando el entendimiento de lo anterior,en la grafica podemos ver lo siguiente:\n",
        "1. cuando hay un lag = 5 (es decir evaluar que tan relacionadas estas las 5 muestras anteriores), tenemos una autocorrelación $\\approx$ 0.75 \n",
        "2. cuando hay un lag = 25 (es decir evaluar que tan relacionadas estas las 25 muestras anteriores), tenemos una autocorrelación $\\approx$ 0.5\n",
        "\n",
        "Ten en cuenta este analisis para responder la siguiente pregunta abierta"
      ]
    },
    {
      "cell_type": "code",
      "metadata": {
        "id": "qLp01IcGUHIq",
        "cellView": "form"
      },
      "source": [
        "#@title Pregunta Abierta\n",
        "#@markdown ¿Por qué es mas factible construir un modelo RNN con un retardo de 5 vs un retardo de 25? . Justifica con base a las anteriores explicaciones\n",
        "respuesta_1 = \"Porque entre un retardo de 5 es mas probable que el valor de autoccorelacion sea mas alto, en cambio entre mas retardos, mas dificil sera encontra una relacion entre todos los anteriores\" #@param {type:\"string\"}"
      ],
      "execution_count": 36,
      "outputs": []
    },
    {
      "cell_type": "markdown",
      "metadata": {
        "id": "N09BmOZOUHIr"
      },
      "source": [
        "Para aplicar la red recurrente, debemos transformar nuestros datos. La idea es alimentar los retrasos como caracteristicas a nuestro modelo. Para ello se propone esta función."
      ]
    },
    {
      "cell_type": "code",
      "metadata": {
        "id": "Zfk-zyGdUHIs"
      },
      "source": [
        "# convert an array of values into a dataset matrix\n",
        "def create_dataset(dataset, look_back=1):\n",
        "    \"\"\"funcion que crea dataset apto para RNN\n",
        "    \n",
        "    dataset: pandas dataframe con una sola columna\n",
        "    look_back: numero de retrasos con los cuales queremos construir\n",
        "        las caracteristicas\n",
        "    \"\"\"\n",
        "    dataX, dataY = [], []\n",
        "    for i in range(len(dataset)-look_back-1):\n",
        "        a = dataset[i:(i+look_back), 0]\n",
        "        dataX.append(a)\n",
        "        dataY.append(dataset[i + look_back, 0])\n",
        "    return np.array(dataX), np.array(dataY).reshape(len(dataY), 1)"
      ],
      "execution_count": 37,
      "outputs": []
    },
    {
      "cell_type": "markdown",
      "metadata": {
        "id": "B7mgNk-WUHIu"
      },
      "source": [
        "## Ejercicio 2 - Experimentar con RNN\n",
        "\n",
        "Vamos usar una libreria llamada neurolab. La documentación puede ser consultada en : https://pythonhosted.org/neurolab/. (podemos hacer uso como `nl...`)"
      ]
    },
    {
      "cell_type": "markdown",
      "metadata": {
        "id": "Pbk27o_vUHIu"
      },
      "source": [
        "En el siguiente ejercicio vamnos a completar el código para entrenar una red neuronal recurrente de Elman con las siguientes caracteristicas:\n",
        "1. las capas ocultas deben ser variables de acuerdo al parametro. Sin embargo solo siempre tenemos una sola capa de salida.\n",
        "2. función de activación tangente hiperbólica paras las capas ocultas y lineal para la capa de salida. \n",
        "3. número de épocas igual a 1000.\n",
        "4. Definir objetivo de error inferior a 0.001. \n",
        "5. Inicializar los pesos de las capas aleatoriamente entre [-0.1, 0.1].\n",
        "6. Vamos utilizar como medida de error el error absoluto medio.  [recordar usar la implementación del modulo de metricas de sklearn](https://scikit-learn.org/stable/modules/classes.html#module-sklearn.metrics)\n",
        "\n",
        "Notas Adicionales:\n",
        "1. tener en cuenta que hace el parametro feature_range de la función [MinMaxScaler](https://scikit-learn.org/stable/modules/generated/sklearn.preprocessing.MinMaxScaler.html)\n",
        "2. Entender como se sugiere usar la codigo que vamos encontrar dentro la función:\n",
        "```python\n",
        "layers = []\n",
        "    for i in range(look_back):\n",
        "        layers.append([0, 1])\n",
        "```"
      ]
    },
    {
      "cell_type": "code",
      "metadata": {
        "id": "qR2X2aHeUHIu"
      },
      "source": [
        "#ejercicio de código\n",
        "def experimentar_elman(data, look_backs, hidden_neurons):\n",
        "    \"\"\"funcion que realiza experimentos para evaluar una RNN de elman usando\n",
        "        el error absoluto medio como medida de error\n",
        "    \n",
        "    data: pd.Dataframe, dataset a usar\n",
        "    look_back: List[int], lista con los numero de retrasos a evaluar\n",
        "    hidden_neurons: List[int], list con el numero de neuronas en la capa oculta\n",
        "    retorna: pd.Dataframe con las siguientes columnas:\n",
        "        - lags\n",
        "        - neuronas por capas\n",
        "        - error de entrenamiento\n",
        "        - error de prueba\n",
        "    \"\"\"\n",
        "    # we need to normalize the dataset before\n",
        "    #\n",
        "    scaler = MinMaxScaler(feature_range=(0, 1))\n",
        "    dataset = scaler.fit_transform(data)\n",
        "    # split into train and test sets\n",
        "    train_size = int(len(dataset) * 0.7)\n",
        "    test_size = len(dataset) - train_size\n",
        "    train, test = dataset[0:train_size,:], dataset[train_size:len(dataset),:]\n",
        "    resultados = pd.DataFrame()\n",
        "    idx = 0\n",
        "    for num_hidden_neurons in hidden_neurons:\n",
        "        for look_back in look_backs:\n",
        "            # reshape into X=t-look_back+1:t and Y=t+1\n",
        "            trainX, trainY = create_dataset(train, look_back)\n",
        "            testX, testY = create_dataset(test, look_back)          \n",
        "            #Esta variable se requiere para definir la red de acuerdo con la librería neurolab. \n",
        "            #Define el número de entradas y el rango de valores que toma cada entrada\n",
        "            layers = []\n",
        "            for i in range(look_back):\n",
        "                layers.append([0, 1])\n",
        "            # Crear la red usa una instruccion como nl.{...}.{...}\n",
        "            net = nl.net.newelm( layers,[num_hidden_neurons,1], [nl.trans.TanSig(), nl.trans.PureLin()])\n",
        "            #definir funciones para inicializar los pesos e inicializar la red\n",
        "            # Set initialized functions and init\n",
        "            net.layers[0].initf = nl.init.InitRand([-0.1, 0.1], 'w')\n",
        "            net.layers[1].initf= nl.init.InitRand([-0.1, 0.1], 'w')\n",
        "            net.init()\n",
        "            # Entrenar la red con los datos de entrenamiento\n",
        "            # la instrucción del tiempo es para evaluar el tiempo\n",
        "            # de entrenamiento, llame explícitamente los parametros\n",
        "            # para las epocas y el objetivo\n",
        "            # show = 500 # (esta instruccion ayuda a que no se presenten muchos prints intermedios)\n",
        "            net.train(trainX,trainY,epochs=1000, show=500, goal=0.001)\n",
        "            # Evaluar la red con los datos de en entrenamiento y test\n",
        "            trainYPred = net.sim(trainX)\n",
        "            testYPred = net.sim(testX)\n",
        "            # Calculo de error\n",
        "            errorPrueba = mean_absolute_error(testY,testYPred)\n",
        "            errorEntrenamiento = mean_absolute_error(trainY, trainYPred)\n",
        "            resultados.loc[idx,'lags'] = look_back\n",
        "            resultados.loc[idx,'neuronas por capa'] = num_hidden_neurons\n",
        "            resultados.loc[idx,'error de entrenamiento'] = errorEntrenamiento\n",
        "            resultados.loc[idx,'error de prueba'] = errorPrueba\n",
        "            idx+=1\n",
        "    \n",
        "    return (resultados)"
      ],
      "execution_count": 38,
      "outputs": []
    },
    {
      "cell_type": "code",
      "metadata": {
        "id": "GNWlBCBhQWNi"
      },
      "source": [
        ""
      ],
      "execution_count": 38,
      "outputs": []
    },
    {
      "cell_type": "code",
      "metadata": {
        "id": "ffJwb8WXUHIw",
        "colab": {
          "base_uri": "https://localhost:8080/"
        },
        "outputId": "7a9a4f1a-ce9e-4762-b6d6-c3a0e6089d9f"
      },
      "source": [
        "#\n",
        "GRADER.run_test(\"ejercicio1\", experimentar_elman)"
      ],
      "execution_count": 39,
      "outputs": [
        {
          "output_type": "stream",
          "text": [
            "Epoch: 500; Error: 0.050312116849779376;\n",
            "Epoch: 1000; Error: 0.04461060544134498;\n",
            "The maximum number of train epochs is reached\n",
            "Epoch: 500; Error: 0.0840229181745858;\n",
            "Epoch: 1000; Error: 0.094448836212947;\n",
            "The maximum number of train epochs is reached\n",
            "Epoch: 500; Error: 0.07960697376046864;\n",
            "Epoch: 1000; Error: 0.08630799146119546;\n",
            "The maximum number of train epochs is reached\n",
            "Epoch: 500; Error: 0.08648723535053633;\n",
            "Epoch: 1000; Error: 0.08422609445057168;\n",
            "The maximum number of train epochs is reached\n",
            "TEST EXITOSO!\n"
          ],
          "name": "stdout"
        }
      ]
    },
    {
      "cell_type": "markdown",
      "metadata": {
        "id": "p72IA8WCUHIy"
      },
      "source": [
        "Ahora vamos a ver los resultados del experimentos, variando los lags y las neuronas por capa"
      ]
    },
    {
      "cell_type": "code",
      "metadata": {
        "id": "sOaV_Hn7UHIz",
        "colab": {
          "base_uri": "https://localhost:8080/"
        },
        "outputId": "ae4cc932-bc48-415f-9e0c-cb393f68cc38"
      },
      "source": [
        "resultadosElman = experimentar_elman(dataset, look_backs = [1,3,5,10,30,40], hidden_neurons=[10,20,30])"
      ],
      "execution_count": 40,
      "outputs": [
        {
          "output_type": "stream",
          "text": [
            "Epoch: 500; Error: 0.02004717360035258;\n",
            "Epoch: 1000; Error: 0.01967281270262098;\n",
            "The maximum number of train epochs is reached\n",
            "Epoch: 500; Error: 0.01938852823445165;\n",
            "Epoch: 1000; Error: 0.019394230390067196;\n",
            "The maximum number of train epochs is reached\n",
            "Epoch: 500; Error: 0.02004756965087076;\n",
            "Epoch: 1000; Error: 0.01914895078518872;\n",
            "The maximum number of train epochs is reached\n",
            "Epoch: 500; Error: 0.01858988701935454;\n",
            "Epoch: 1000; Error: 0.01854915106566639;\n",
            "The maximum number of train epochs is reached\n",
            "Epoch: 500; Error: 0.013831741326849445;\n",
            "Epoch: 1000; Error: 0.013982438174164764;\n",
            "The maximum number of train epochs is reached\n",
            "Epoch: 500; Error: 0.012104457670628751;\n",
            "Epoch: 1000; Error: 0.01212577889621869;\n",
            "The maximum number of train epochs is reached\n",
            "Epoch: 500; Error: 0.021550216066321248;\n",
            "Epoch: 1000; Error: 0.008158762938964276;\n",
            "The maximum number of train epochs is reached\n",
            "Epoch: 500; Error: 0.0193885480408451;\n",
            "Epoch: 1000; Error: 0.019388557680239435;\n",
            "The maximum number of train epochs is reached\n",
            "Epoch: 500; Error: 0.020840506786543145;\n",
            "Epoch: 1000; Error: 0.019622489561815594;\n",
            "The maximum number of train epochs is reached\n",
            "Epoch: 500; Error: 0.018521927703535924;\n",
            "Epoch: 1000; Error: 0.018668541183507123;\n",
            "The maximum number of train epochs is reached\n",
            "Epoch: 500; Error: 0.009525426840415642;\n",
            "Epoch: 1000; Error: 0.006323791586267184;\n",
            "The maximum number of train epochs is reached\n",
            "Epoch: 500; Error: 0.012174212023355729;\n",
            "Epoch: 1000; Error: 0.012111659024734702;\n",
            "The maximum number of train epochs is reached\n",
            "Epoch: 500; Error: 0.024583084772794764;\n",
            "Epoch: 1000; Error: 0.026778537593267027;\n",
            "The maximum number of train epochs is reached\n",
            "Epoch: 500; Error: 0.019429115059512392;\n",
            "Epoch: 1000; Error: 0.019434383657095818;\n",
            "The maximum number of train epochs is reached\n",
            "Epoch: 500; Error: 0.019068171877984794;\n",
            "Epoch: 1000; Error: 0.019067983903552767;\n",
            "The maximum number of train epochs is reached\n",
            "Epoch: 500; Error: 0.0010150653194725013;\n",
            "The goal of learning is reached\n",
            "The goal of learning is reached\n",
            "Epoch: 500; Error: 0.012104509764124211;\n",
            "Epoch: 1000; Error: 0.012106809451523079;\n",
            "The maximum number of train epochs is reached\n"
          ],
          "name": "stdout"
        }
      ]
    },
    {
      "cell_type": "code",
      "metadata": {
        "id": "j1mtTSqmUHI0",
        "colab": {
          "base_uri": "https://localhost:8080/",
          "height": 416
        },
        "outputId": "6585e3d1-2042-4091-d291-afcbdbb06721"
      },
      "source": [
        "# para ver los resultados\n",
        "# en esta instruccion se va resaltar el mejor\n",
        "# error y tiempo de entrenamiento\n",
        "resultadosElman.style.highlight_min(color = 'lightgreen', axis = 0, subset = ['error de prueba'])"
      ],
      "execution_count": 41,
      "outputs": [
        {
          "output_type": "execute_result",
          "data": {
            "text/html": [
              "<style  type=\"text/css\" >\n",
              "#T_c472cc12_29d3_11eb_a490_0242ac1c0002row16_col3{\n",
              "            background-color:  lightgreen;\n",
              "        }</style><table id=\"T_c472cc12_29d3_11eb_a490_0242ac1c0002\" ><thead>    <tr>        <th class=\"blank level0\" ></th>        <th class=\"col_heading level0 col0\" >lags</th>        <th class=\"col_heading level0 col1\" >neuronas por capa</th>        <th class=\"col_heading level0 col2\" >error de entrenamiento</th>        <th class=\"col_heading level0 col3\" >error de prueba</th>    </tr></thead><tbody>\n",
              "                <tr>\n",
              "                        <th id=\"T_c472cc12_29d3_11eb_a490_0242ac1c0002level0_row0\" class=\"row_heading level0 row0\" >0</th>\n",
              "                        <td id=\"T_c472cc12_29d3_11eb_a490_0242ac1c0002row0_col0\" class=\"data row0 col0\" >1.000000</td>\n",
              "                        <td id=\"T_c472cc12_29d3_11eb_a490_0242ac1c0002row0_col1\" class=\"data row0 col1\" >10.000000</td>\n",
              "                        <td id=\"T_c472cc12_29d3_11eb_a490_0242ac1c0002row0_col2\" class=\"data row0 col2\" >0.116844</td>\n",
              "                        <td id=\"T_c472cc12_29d3_11eb_a490_0242ac1c0002row0_col3\" class=\"data row0 col3\" >0.393330</td>\n",
              "            </tr>\n",
              "            <tr>\n",
              "                        <th id=\"T_c472cc12_29d3_11eb_a490_0242ac1c0002level0_row1\" class=\"row_heading level0 row1\" >1</th>\n",
              "                        <td id=\"T_c472cc12_29d3_11eb_a490_0242ac1c0002row1_col0\" class=\"data row1 col0\" >3.000000</td>\n",
              "                        <td id=\"T_c472cc12_29d3_11eb_a490_0242ac1c0002row1_col1\" class=\"data row1 col1\" >10.000000</td>\n",
              "                        <td id=\"T_c472cc12_29d3_11eb_a490_0242ac1c0002row1_col2\" class=\"data row1 col2\" >0.115527</td>\n",
              "                        <td id=\"T_c472cc12_29d3_11eb_a490_0242ac1c0002row1_col3\" class=\"data row1 col3\" >0.390925</td>\n",
              "            </tr>\n",
              "            <tr>\n",
              "                        <th id=\"T_c472cc12_29d3_11eb_a490_0242ac1c0002level0_row2\" class=\"row_heading level0 row2\" >2</th>\n",
              "                        <td id=\"T_c472cc12_29d3_11eb_a490_0242ac1c0002row2_col0\" class=\"data row2 col0\" >5.000000</td>\n",
              "                        <td id=\"T_c472cc12_29d3_11eb_a490_0242ac1c0002row2_col1\" class=\"data row2 col1\" >10.000000</td>\n",
              "                        <td id=\"T_c472cc12_29d3_11eb_a490_0242ac1c0002row2_col2\" class=\"data row2 col2\" >0.114232</td>\n",
              "                        <td id=\"T_c472cc12_29d3_11eb_a490_0242ac1c0002row2_col3\" class=\"data row2 col3\" >0.383193</td>\n",
              "            </tr>\n",
              "            <tr>\n",
              "                        <th id=\"T_c472cc12_29d3_11eb_a490_0242ac1c0002level0_row3\" class=\"row_heading level0 row3\" >3</th>\n",
              "                        <td id=\"T_c472cc12_29d3_11eb_a490_0242ac1c0002row3_col0\" class=\"data row3 col0\" >10.000000</td>\n",
              "                        <td id=\"T_c472cc12_29d3_11eb_a490_0242ac1c0002row3_col1\" class=\"data row3 col1\" >10.000000</td>\n",
              "                        <td id=\"T_c472cc12_29d3_11eb_a490_0242ac1c0002row3_col2\" class=\"data row3 col2\" >0.111615</td>\n",
              "                        <td id=\"T_c472cc12_29d3_11eb_a490_0242ac1c0002row3_col3\" class=\"data row3 col3\" >0.402642</td>\n",
              "            </tr>\n",
              "            <tr>\n",
              "                        <th id=\"T_c472cc12_29d3_11eb_a490_0242ac1c0002level0_row4\" class=\"row_heading level0 row4\" >4</th>\n",
              "                        <td id=\"T_c472cc12_29d3_11eb_a490_0242ac1c0002row4_col0\" class=\"data row4 col0\" >30.000000</td>\n",
              "                        <td id=\"T_c472cc12_29d3_11eb_a490_0242ac1c0002row4_col1\" class=\"data row4 col1\" >10.000000</td>\n",
              "                        <td id=\"T_c472cc12_29d3_11eb_a490_0242ac1c0002row4_col2\" class=\"data row4 col2\" >0.095576</td>\n",
              "                        <td id=\"T_c472cc12_29d3_11eb_a490_0242ac1c0002row4_col3\" class=\"data row4 col3\" >0.426361</td>\n",
              "            </tr>\n",
              "            <tr>\n",
              "                        <th id=\"T_c472cc12_29d3_11eb_a490_0242ac1c0002level0_row5\" class=\"row_heading level0 row5\" >5</th>\n",
              "                        <td id=\"T_c472cc12_29d3_11eb_a490_0242ac1c0002row5_col0\" class=\"data row5 col0\" >40.000000</td>\n",
              "                        <td id=\"T_c472cc12_29d3_11eb_a490_0242ac1c0002row5_col1\" class=\"data row5 col1\" >10.000000</td>\n",
              "                        <td id=\"T_c472cc12_29d3_11eb_a490_0242ac1c0002row5_col2\" class=\"data row5 col2\" >0.090002</td>\n",
              "                        <td id=\"T_c472cc12_29d3_11eb_a490_0242ac1c0002row5_col3\" class=\"data row5 col3\" >0.361915</td>\n",
              "            </tr>\n",
              "            <tr>\n",
              "                        <th id=\"T_c472cc12_29d3_11eb_a490_0242ac1c0002level0_row6\" class=\"row_heading level0 row6\" >6</th>\n",
              "                        <td id=\"T_c472cc12_29d3_11eb_a490_0242ac1c0002row6_col0\" class=\"data row6 col0\" >1.000000</td>\n",
              "                        <td id=\"T_c472cc12_29d3_11eb_a490_0242ac1c0002row6_col1\" class=\"data row6 col1\" >20.000000</td>\n",
              "                        <td id=\"T_c472cc12_29d3_11eb_a490_0242ac1c0002row6_col2\" class=\"data row6 col2\" >0.068016</td>\n",
              "                        <td id=\"T_c472cc12_29d3_11eb_a490_0242ac1c0002row6_col3\" class=\"data row6 col3\" >0.210452</td>\n",
              "            </tr>\n",
              "            <tr>\n",
              "                        <th id=\"T_c472cc12_29d3_11eb_a490_0242ac1c0002level0_row7\" class=\"row_heading level0 row7\" >7</th>\n",
              "                        <td id=\"T_c472cc12_29d3_11eb_a490_0242ac1c0002row7_col0\" class=\"data row7 col0\" >3.000000</td>\n",
              "                        <td id=\"T_c472cc12_29d3_11eb_a490_0242ac1c0002row7_col1\" class=\"data row7 col1\" >20.000000</td>\n",
              "                        <td id=\"T_c472cc12_29d3_11eb_a490_0242ac1c0002row7_col2\" class=\"data row7 col2\" >0.115671</td>\n",
              "                        <td id=\"T_c472cc12_29d3_11eb_a490_0242ac1c0002row7_col3\" class=\"data row7 col3\" >0.388636</td>\n",
              "            </tr>\n",
              "            <tr>\n",
              "                        <th id=\"T_c472cc12_29d3_11eb_a490_0242ac1c0002level0_row8\" class=\"row_heading level0 row8\" >8</th>\n",
              "                        <td id=\"T_c472cc12_29d3_11eb_a490_0242ac1c0002row8_col0\" class=\"data row8 col0\" >5.000000</td>\n",
              "                        <td id=\"T_c472cc12_29d3_11eb_a490_0242ac1c0002row8_col1\" class=\"data row8 col1\" >20.000000</td>\n",
              "                        <td id=\"T_c472cc12_29d3_11eb_a490_0242ac1c0002row8_col2\" class=\"data row8 col2\" >0.113807</td>\n",
              "                        <td id=\"T_c472cc12_29d3_11eb_a490_0242ac1c0002row8_col3\" class=\"data row8 col3\" >0.406585</td>\n",
              "            </tr>\n",
              "            <tr>\n",
              "                        <th id=\"T_c472cc12_29d3_11eb_a490_0242ac1c0002level0_row9\" class=\"row_heading level0 row9\" >9</th>\n",
              "                        <td id=\"T_c472cc12_29d3_11eb_a490_0242ac1c0002row9_col0\" class=\"data row9 col0\" >10.000000</td>\n",
              "                        <td id=\"T_c472cc12_29d3_11eb_a490_0242ac1c0002row9_col1\" class=\"data row9 col1\" >20.000000</td>\n",
              "                        <td id=\"T_c472cc12_29d3_11eb_a490_0242ac1c0002row9_col2\" class=\"data row9 col2\" >0.112325</td>\n",
              "                        <td id=\"T_c472cc12_29d3_11eb_a490_0242ac1c0002row9_col3\" class=\"data row9 col3\" >0.388606</td>\n",
              "            </tr>\n",
              "            <tr>\n",
              "                        <th id=\"T_c472cc12_29d3_11eb_a490_0242ac1c0002level0_row10\" class=\"row_heading level0 row10\" >10</th>\n",
              "                        <td id=\"T_c472cc12_29d3_11eb_a490_0242ac1c0002row10_col0\" class=\"data row10 col0\" >30.000000</td>\n",
              "                        <td id=\"T_c472cc12_29d3_11eb_a490_0242ac1c0002row10_col1\" class=\"data row10 col1\" >20.000000</td>\n",
              "                        <td id=\"T_c472cc12_29d3_11eb_a490_0242ac1c0002row10_col2\" class=\"data row10 col2\" >0.061521</td>\n",
              "                        <td id=\"T_c472cc12_29d3_11eb_a490_0242ac1c0002row10_col3\" class=\"data row10 col3\" >0.318224</td>\n",
              "            </tr>\n",
              "            <tr>\n",
              "                        <th id=\"T_c472cc12_29d3_11eb_a490_0242ac1c0002level0_row11\" class=\"row_heading level0 row11\" >11</th>\n",
              "                        <td id=\"T_c472cc12_29d3_11eb_a490_0242ac1c0002row11_col0\" class=\"data row11 col0\" >40.000000</td>\n",
              "                        <td id=\"T_c472cc12_29d3_11eb_a490_0242ac1c0002row11_col1\" class=\"data row11 col1\" >20.000000</td>\n",
              "                        <td id=\"T_c472cc12_29d3_11eb_a490_0242ac1c0002row11_col2\" class=\"data row11 col2\" >0.089678</td>\n",
              "                        <td id=\"T_c472cc12_29d3_11eb_a490_0242ac1c0002row11_col3\" class=\"data row11 col3\" >0.369220</td>\n",
              "            </tr>\n",
              "            <tr>\n",
              "                        <th id=\"T_c472cc12_29d3_11eb_a490_0242ac1c0002level0_row12\" class=\"row_heading level0 row12\" >12</th>\n",
              "                        <td id=\"T_c472cc12_29d3_11eb_a490_0242ac1c0002row12_col0\" class=\"data row12 col0\" >1.000000</td>\n",
              "                        <td id=\"T_c472cc12_29d3_11eb_a490_0242ac1c0002row12_col1\" class=\"data row12 col1\" >30.000000</td>\n",
              "                        <td id=\"T_c472cc12_29d3_11eb_a490_0242ac1c0002row12_col2\" class=\"data row12 col2\" >0.131504</td>\n",
              "                        <td id=\"T_c472cc12_29d3_11eb_a490_0242ac1c0002row12_col3\" class=\"data row12 col3\" >0.346447</td>\n",
              "            </tr>\n",
              "            <tr>\n",
              "                        <th id=\"T_c472cc12_29d3_11eb_a490_0242ac1c0002level0_row13\" class=\"row_heading level0 row13\" >13</th>\n",
              "                        <td id=\"T_c472cc12_29d3_11eb_a490_0242ac1c0002row13_col0\" class=\"data row13 col0\" >3.000000</td>\n",
              "                        <td id=\"T_c472cc12_29d3_11eb_a490_0242ac1c0002row13_col1\" class=\"data row13 col1\" >30.000000</td>\n",
              "                        <td id=\"T_c472cc12_29d3_11eb_a490_0242ac1c0002row13_col2\" class=\"data row13 col2\" >0.116101</td>\n",
              "                        <td id=\"T_c472cc12_29d3_11eb_a490_0242ac1c0002row13_col3\" class=\"data row13 col3\" >0.381686</td>\n",
              "            </tr>\n",
              "            <tr>\n",
              "                        <th id=\"T_c472cc12_29d3_11eb_a490_0242ac1c0002level0_row14\" class=\"row_heading level0 row14\" >14</th>\n",
              "                        <td id=\"T_c472cc12_29d3_11eb_a490_0242ac1c0002row14_col0\" class=\"data row14 col0\" >5.000000</td>\n",
              "                        <td id=\"T_c472cc12_29d3_11eb_a490_0242ac1c0002row14_col1\" class=\"data row14 col1\" >30.000000</td>\n",
              "                        <td id=\"T_c472cc12_29d3_11eb_a490_0242ac1c0002row14_col2\" class=\"data row14 col2\" >0.114397</td>\n",
              "                        <td id=\"T_c472cc12_29d3_11eb_a490_0242ac1c0002row14_col3\" class=\"data row14 col3\" >0.383244</td>\n",
              "            </tr>\n",
              "            <tr>\n",
              "                        <th id=\"T_c472cc12_29d3_11eb_a490_0242ac1c0002level0_row15\" class=\"row_heading level0 row15\" >15</th>\n",
              "                        <td id=\"T_c472cc12_29d3_11eb_a490_0242ac1c0002row15_col0\" class=\"data row15 col0\" >10.000000</td>\n",
              "                        <td id=\"T_c472cc12_29d3_11eb_a490_0242ac1c0002row15_col1\" class=\"data row15 col1\" >30.000000</td>\n",
              "                        <td id=\"T_c472cc12_29d3_11eb_a490_0242ac1c0002row15_col2\" class=\"data row15 col2\" >0.026581</td>\n",
              "                        <td id=\"T_c472cc12_29d3_11eb_a490_0242ac1c0002row15_col3\" class=\"data row15 col3\" >0.054736</td>\n",
              "            </tr>\n",
              "            <tr>\n",
              "                        <th id=\"T_c472cc12_29d3_11eb_a490_0242ac1c0002level0_row16\" class=\"row_heading level0 row16\" >16</th>\n",
              "                        <td id=\"T_c472cc12_29d3_11eb_a490_0242ac1c0002row16_col0\" class=\"data row16 col0\" >30.000000</td>\n",
              "                        <td id=\"T_c472cc12_29d3_11eb_a490_0242ac1c0002row16_col1\" class=\"data row16 col1\" >30.000000</td>\n",
              "                        <td id=\"T_c472cc12_29d3_11eb_a490_0242ac1c0002row16_col2\" class=\"data row16 col2\" >0.026539</td>\n",
              "                        <td id=\"T_c472cc12_29d3_11eb_a490_0242ac1c0002row16_col3\" class=\"data row16 col3\" >0.047164</td>\n",
              "            </tr>\n",
              "            <tr>\n",
              "                        <th id=\"T_c472cc12_29d3_11eb_a490_0242ac1c0002level0_row17\" class=\"row_heading level0 row17\" >17</th>\n",
              "                        <td id=\"T_c472cc12_29d3_11eb_a490_0242ac1c0002row17_col0\" class=\"data row17 col0\" >40.000000</td>\n",
              "                        <td id=\"T_c472cc12_29d3_11eb_a490_0242ac1c0002row17_col1\" class=\"data row17 col1\" >30.000000</td>\n",
              "                        <td id=\"T_c472cc12_29d3_11eb_a490_0242ac1c0002row17_col2\" class=\"data row17 col2\" >0.089698</td>\n",
              "                        <td id=\"T_c472cc12_29d3_11eb_a490_0242ac1c0002row17_col3\" class=\"data row17 col3\" >0.368050</td>\n",
              "            </tr>\n",
              "    </tbody></table>"
            ],
            "text/plain": [
              "<pandas.io.formats.style.Styler at 0x7fca08089f60>"
            ]
          },
          "metadata": {
            "tags": []
          },
          "execution_count": 41
        }
      ]
    },
    {
      "cell_type": "code",
      "metadata": {
        "id": "uqHNlGOBUHI2",
        "colab": {
          "base_uri": "https://localhost:8080/",
          "height": 401
        },
        "outputId": "4e6fedb8-6497-4c4b-c785-b532672367d8"
      },
      "source": [
        "# observa el comportamiento de los lags\n",
        "import seaborn as sns\n",
        "sns.relplot(data= resultadosElman, x= 'lags', y = 'error de prueba', kind = 'line')"
      ],
      "execution_count": 42,
      "outputs": [
        {
          "output_type": "execute_result",
          "data": {
            "text/plain": [
              "<seaborn.axisgrid.FacetGrid at 0x7fca3c0aa860>"
            ]
          },
          "metadata": {
            "tags": []
          },
          "execution_count": 42
        },
        {
          "output_type": "display_data",
          "data": {
            "image/png": "[encoded data removed]",
            "text/plain": [
              "<Figure size 360x360 with 1 Axes>"
            ]
          },
          "metadata": {
            "tags": [],
            "needs_background": "light"
          }
        }
      ]
    },
    {
      "cell_type": "code",
      "metadata": {
        "id": "tSw9j936UHI4",
        "cellView": "form"
      },
      "source": [
        "#@title Pregunta Abierta\n",
        "#@markdown ¿Por qué seguir aumentando los tiempos de retardo no implica siempre una mejora en la predicción del modelo?\n",
        "respuesta_2 = \"\" #@param {type:\"string\"}"
      ],
      "execution_count": 43,
      "outputs": []
    },
    {
      "cell_type": "markdown",
      "metadata": {
        "id": "RUqSiyWGUHI7"
      },
      "source": [
        "## Ejercicio 3 - Comparación con MLP\n",
        "\n",
        "En este ejercicio vamos a realizar el mismo ejercicio, pero con un MLP. Con esto vamos a comparar los resultados obtenidos con la RNN.\n",
        "\n",
        "Para ellos vamos a :\n",
        "1. variar los retrasos, que corresponden a las neuronas en la capa de entrada\n",
        "2. vamos a dejar solo una capa oculta y vamos a variar el número de neuronas en esta capa\n",
        "3. el número de epocas también va ser de 1000\n",
        "4. el valor por defecto sera usado para el resto de parámetros\n",
        "5. utilizar como medida de error el error absoluto medio.  [recordar usar la implementación del modulo de metricas de sklearn](https://scikit-learn.org/stable/modules/classes.html#module-sklearn.metrics)"
      ]
    },
    {
      "cell_type": "code",
      "metadata": {
        "id": "CY9g8N0AUHI8",
        "cellView": "form"
      },
      "source": [
        "#@title Pregunta Abierta\n",
        "#@markdown ¿explique la principal diferencia entre un MLP y una red recurrente de elman? justificar usando usando como contexto el problema que estamos resolviendo.\n",
        "respuesta_3 = \"\" #@param {type:\"string\"}"
      ],
      "execution_count": 44,
      "outputs": []
    },
    {
      "cell_type": "code",
      "metadata": {
        "id": "WR_c10DtUHI9"
      },
      "source": [
        "#ejercicio de código\n",
        "def experimentar_MLP(data, look_backs, hidden_neurons):\n",
        "    \"\"\"funcion que realiza experimentos para evaluar una MLPusando\n",
        "        MAPE como medida de error\n",
        "    \n",
        "    data: pd.Dataframe, dataset a usar\n",
        "    look_back: List[int], lista con los numero de retrasos a evaluar\n",
        "    hidden_neurons: List[int], list con el numero de neuronas en la capa oculta\n",
        "    retorna: pd.Dataframe con las siguientes columnas:\n",
        "        - lags\n",
        "        - neuronas por capas\n",
        "        - error de entrenamiento\n",
        "        - error de prueba\n",
        "    \"\"\"\n",
        "    # we need to normalize the dataset before\n",
        "    #\n",
        "    scaler = MinMaxScaler(feature_range=(0, 1))\n",
        "    dataset = scaler.fit_transform(data)\n",
        "    # split into train and test sets\n",
        "    train_size = int(len(dataset) * 0.7)\n",
        "    test_size = len(dataset) - train_size\n",
        "    train, test = dataset[0:train_size,:], dataset[train_size:len(dataset),:]\n",
        "    resultados = pd.DataFrame()\n",
        "    idx = 0\n",
        "    for num_hidden_neurons in hidden_neurons:\n",
        "        for look_back in look_backs:\n",
        "            # reshape into X=t-look_back+1:t and Y=t+1\n",
        "            trainX, trainY = create_dataset(train, look_back)\n",
        "            testX, testY = create_dataset(test, look_back)          \n",
        "            # define el MLP para Regresion pasando los parametros adecuados\n",
        "            # pasar random_state = 10 para lograr resultados reproducibles\n",
        "            net =  MLPRegressor(hidden_layer_sizes= (num_hidden_neurons,1), max_iter = 1000, random_state = 10)\n",
        "            # Entrenar la red con los datos de entrenamiento\n",
        "            net.fit(X=trainX, y=trainY)\n",
        "            # Evaluar la red con los datos de entrenamiento y test\n",
        "            trainYPred = net.predict(trainX)\n",
        "            testYPred = net.predict(testX)\n",
        "            # Calculo de error\n",
        "            errorPrueba = mean_absolute_error(testY, testYPred)\n",
        "            errorEntrenamiento =mean_absolute_error(trainY, trainYPred)\n",
        "            resultados.loc[idx,'lags'] = look_back\n",
        "            resultados.loc[idx,'neuronas por capa'] = num_hidden_neurons\n",
        "            resultados.loc[idx,'error de entrenamiento'] = errorEntrenamiento\n",
        "            resultados.loc[idx,'error de prueba'] = errorPrueba\n",
        "            idx+=1\n",
        "    \n",
        "    return (resultados)"
      ],
      "execution_count": 45,
      "outputs": []
    },
    {
      "cell_type": "code",
      "metadata": {
        "id": "i20ocJGJUHI_",
        "colab": {
          "base_uri": "https://localhost:8080/"
        },
        "outputId": "b42da8fb-f627-4bb4-cc50-d6c042a820b4"
      },
      "source": [
        "GRADER.run_test(\"ejercicio2\", experimentar_MLP)"
      ],
      "execution_count": 46,
      "outputs": [
        {
          "output_type": "stream",
          "text": [
            "TEST EXITOSO!\n"
          ],
          "name": "stdout"
        }
      ]
    },
    {
      "cell_type": "code",
      "metadata": {
        "id": "Utx-2XSEUHJB"
      },
      "source": [
        "resultadosMLP = experimentar_MLP(dataset, look_backs = [1,3,5,10,30,40], hidden_neurons=[10,20,30])"
      ],
      "execution_count": 47,
      "outputs": []
    },
    {
      "cell_type": "code",
      "metadata": {
        "id": "VIyuIhOMUHJC",
        "colab": {
          "base_uri": "https://localhost:8080/",
          "height": 416
        },
        "outputId": "7c5883c5-a2ac-412d-f78e-145ccf80590c"
      },
      "source": [
        "# para ver los resultados\n",
        "# en esta instruccion se va resaltar el mejor\n",
        "# error y tiempo de entrenamiento\n",
        "resultadosMLP.style.highlight_min(color = 'lightgreen', axis = 0, subset = ['error de prueba'])"
      ],
      "execution_count": 48,
      "outputs": [
        {
          "output_type": "execute_result",
          "data": {
            "text/html": [
              "<style  type=\"text/css\" >\n",
              "#T_c8be12b8_29d3_11eb_a490_0242ac1c0002row0_col3{\n",
              "            background-color:  lightgreen;\n",
              "        }</style><table id=\"T_c8be12b8_29d3_11eb_a490_0242ac1c0002\" ><thead>    <tr>        <th class=\"blank level0\" ></th>        <th class=\"col_heading level0 col0\" >lags</th>        <th class=\"col_heading level0 col1\" >neuronas por capa</th>        <th class=\"col_heading level0 col2\" >error de entrenamiento</th>        <th class=\"col_heading level0 col3\" >error de prueba</th>    </tr></thead><tbody>\n",
              "                <tr>\n",
              "                        <th id=\"T_c8be12b8_29d3_11eb_a490_0242ac1c0002level0_row0\" class=\"row_heading level0 row0\" >0</th>\n",
              "                        <td id=\"T_c8be12b8_29d3_11eb_a490_0242ac1c0002row0_col0\" class=\"data row0 col0\" >1.000000</td>\n",
              "                        <td id=\"T_c8be12b8_29d3_11eb_a490_0242ac1c0002row0_col1\" class=\"data row0 col1\" >10.000000</td>\n",
              "                        <td id=\"T_c8be12b8_29d3_11eb_a490_0242ac1c0002row0_col2\" class=\"data row0 col2\" >0.407783</td>\n",
              "                        <td id=\"T_c8be12b8_29d3_11eb_a490_0242ac1c0002row0_col3\" class=\"data row0 col3\" >0.123787</td>\n",
              "            </tr>\n",
              "            <tr>\n",
              "                        <th id=\"T_c8be12b8_29d3_11eb_a490_0242ac1c0002level0_row1\" class=\"row_heading level0 row1\" >1</th>\n",
              "                        <td id=\"T_c8be12b8_29d3_11eb_a490_0242ac1c0002row1_col0\" class=\"data row1 col0\" >3.000000</td>\n",
              "                        <td id=\"T_c8be12b8_29d3_11eb_a490_0242ac1c0002row1_col1\" class=\"data row1 col1\" >10.000000</td>\n",
              "                        <td id=\"T_c8be12b8_29d3_11eb_a490_0242ac1c0002row1_col2\" class=\"data row1 col2\" >0.129331</td>\n",
              "                        <td id=\"T_c8be12b8_29d3_11eb_a490_0242ac1c0002row1_col3\" class=\"data row1 col3\" >0.513968</td>\n",
              "            </tr>\n",
              "            <tr>\n",
              "                        <th id=\"T_c8be12b8_29d3_11eb_a490_0242ac1c0002level0_row2\" class=\"row_heading level0 row2\" >2</th>\n",
              "                        <td id=\"T_c8be12b8_29d3_11eb_a490_0242ac1c0002row2_col0\" class=\"data row2 col0\" >5.000000</td>\n",
              "                        <td id=\"T_c8be12b8_29d3_11eb_a490_0242ac1c0002row2_col1\" class=\"data row2 col1\" >10.000000</td>\n",
              "                        <td id=\"T_c8be12b8_29d3_11eb_a490_0242ac1c0002row2_col2\" class=\"data row2 col2\" >0.214258</td>\n",
              "                        <td id=\"T_c8be12b8_29d3_11eb_a490_0242ac1c0002row2_col3\" class=\"data row2 col3\" >0.597153</td>\n",
              "            </tr>\n",
              "            <tr>\n",
              "                        <th id=\"T_c8be12b8_29d3_11eb_a490_0242ac1c0002level0_row3\" class=\"row_heading level0 row3\" >3</th>\n",
              "                        <td id=\"T_c8be12b8_29d3_11eb_a490_0242ac1c0002row3_col0\" class=\"data row3 col0\" >10.000000</td>\n",
              "                        <td id=\"T_c8be12b8_29d3_11eb_a490_0242ac1c0002row3_col1\" class=\"data row3 col1\" >10.000000</td>\n",
              "                        <td id=\"T_c8be12b8_29d3_11eb_a490_0242ac1c0002row3_col2\" class=\"data row3 col2\" >0.751661</td>\n",
              "                        <td id=\"T_c8be12b8_29d3_11eb_a490_0242ac1c0002row3_col3\" class=\"data row3 col3\" >1.152376</td>\n",
              "            </tr>\n",
              "            <tr>\n",
              "                        <th id=\"T_c8be12b8_29d3_11eb_a490_0242ac1c0002level0_row4\" class=\"row_heading level0 row4\" >4</th>\n",
              "                        <td id=\"T_c8be12b8_29d3_11eb_a490_0242ac1c0002row4_col0\" class=\"data row4 col0\" >30.000000</td>\n",
              "                        <td id=\"T_c8be12b8_29d3_11eb_a490_0242ac1c0002row4_col1\" class=\"data row4 col1\" >10.000000</td>\n",
              "                        <td id=\"T_c8be12b8_29d3_11eb_a490_0242ac1c0002row4_col2\" class=\"data row4 col2\" >0.698707</td>\n",
              "                        <td id=\"T_c8be12b8_29d3_11eb_a490_0242ac1c0002row4_col3\" class=\"data row4 col3\" >1.112792</td>\n",
              "            </tr>\n",
              "            <tr>\n",
              "                        <th id=\"T_c8be12b8_29d3_11eb_a490_0242ac1c0002level0_row5\" class=\"row_heading level0 row5\" >5</th>\n",
              "                        <td id=\"T_c8be12b8_29d3_11eb_a490_0242ac1c0002row5_col0\" class=\"data row5 col0\" >40.000000</td>\n",
              "                        <td id=\"T_c8be12b8_29d3_11eb_a490_0242ac1c0002row5_col1\" class=\"data row5 col1\" >10.000000</td>\n",
              "                        <td id=\"T_c8be12b8_29d3_11eb_a490_0242ac1c0002row5_col2\" class=\"data row5 col2\" >0.607945</td>\n",
              "                        <td id=\"T_c8be12b8_29d3_11eb_a490_0242ac1c0002row5_col3\" class=\"data row5 col3\" >0.974479</td>\n",
              "            </tr>\n",
              "            <tr>\n",
              "                        <th id=\"T_c8be12b8_29d3_11eb_a490_0242ac1c0002level0_row6\" class=\"row_heading level0 row6\" >6</th>\n",
              "                        <td id=\"T_c8be12b8_29d3_11eb_a490_0242ac1c0002row6_col0\" class=\"data row6 col0\" >1.000000</td>\n",
              "                        <td id=\"T_c8be12b8_29d3_11eb_a490_0242ac1c0002row6_col1\" class=\"data row6 col1\" >20.000000</td>\n",
              "                        <td id=\"T_c8be12b8_29d3_11eb_a490_0242ac1c0002row6_col2\" class=\"data row6 col2\" >0.074414</td>\n",
              "                        <td id=\"T_c8be12b8_29d3_11eb_a490_0242ac1c0002row6_col3\" class=\"data row6 col3\" >0.316314</td>\n",
              "            </tr>\n",
              "            <tr>\n",
              "                        <th id=\"T_c8be12b8_29d3_11eb_a490_0242ac1c0002level0_row7\" class=\"row_heading level0 row7\" >7</th>\n",
              "                        <td id=\"T_c8be12b8_29d3_11eb_a490_0242ac1c0002row7_col0\" class=\"data row7 col0\" >3.000000</td>\n",
              "                        <td id=\"T_c8be12b8_29d3_11eb_a490_0242ac1c0002row7_col1\" class=\"data row7 col1\" >20.000000</td>\n",
              "                        <td id=\"T_c8be12b8_29d3_11eb_a490_0242ac1c0002row7_col2\" class=\"data row7 col2\" >0.055649</td>\n",
              "                        <td id=\"T_c8be12b8_29d3_11eb_a490_0242ac1c0002row7_col3\" class=\"data row7 col3\" >0.138220</td>\n",
              "            </tr>\n",
              "            <tr>\n",
              "                        <th id=\"T_c8be12b8_29d3_11eb_a490_0242ac1c0002level0_row8\" class=\"row_heading level0 row8\" >8</th>\n",
              "                        <td id=\"T_c8be12b8_29d3_11eb_a490_0242ac1c0002row8_col0\" class=\"data row8 col0\" >5.000000</td>\n",
              "                        <td id=\"T_c8be12b8_29d3_11eb_a490_0242ac1c0002row8_col1\" class=\"data row8 col1\" >20.000000</td>\n",
              "                        <td id=\"T_c8be12b8_29d3_11eb_a490_0242ac1c0002row8_col2\" class=\"data row8 col2\" >0.114254</td>\n",
              "                        <td id=\"T_c8be12b8_29d3_11eb_a490_0242ac1c0002row8_col3\" class=\"data row8 col3\" >0.386620</td>\n",
              "            </tr>\n",
              "            <tr>\n",
              "                        <th id=\"T_c8be12b8_29d3_11eb_a490_0242ac1c0002level0_row9\" class=\"row_heading level0 row9\" >9</th>\n",
              "                        <td id=\"T_c8be12b8_29d3_11eb_a490_0242ac1c0002row9_col0\" class=\"data row9 col0\" >10.000000</td>\n",
              "                        <td id=\"T_c8be12b8_29d3_11eb_a490_0242ac1c0002row9_col1\" class=\"data row9 col1\" >20.000000</td>\n",
              "                        <td id=\"T_c8be12b8_29d3_11eb_a490_0242ac1c0002row9_col2\" class=\"data row9 col2\" >0.217318</td>\n",
              "                        <td id=\"T_c8be12b8_29d3_11eb_a490_0242ac1c0002row9_col3\" class=\"data row9 col3\" >0.198351</td>\n",
              "            </tr>\n",
              "            <tr>\n",
              "                        <th id=\"T_c8be12b8_29d3_11eb_a490_0242ac1c0002level0_row10\" class=\"row_heading level0 row10\" >10</th>\n",
              "                        <td id=\"T_c8be12b8_29d3_11eb_a490_0242ac1c0002row10_col0\" class=\"data row10 col0\" >30.000000</td>\n",
              "                        <td id=\"T_c8be12b8_29d3_11eb_a490_0242ac1c0002row10_col1\" class=\"data row10 col1\" >20.000000</td>\n",
              "                        <td id=\"T_c8be12b8_29d3_11eb_a490_0242ac1c0002row10_col2\" class=\"data row10 col2\" >0.055843</td>\n",
              "                        <td id=\"T_c8be12b8_29d3_11eb_a490_0242ac1c0002row10_col3\" class=\"data row10 col3\" >0.204245</td>\n",
              "            </tr>\n",
              "            <tr>\n",
              "                        <th id=\"T_c8be12b8_29d3_11eb_a490_0242ac1c0002level0_row11\" class=\"row_heading level0 row11\" >11</th>\n",
              "                        <td id=\"T_c8be12b8_29d3_11eb_a490_0242ac1c0002row11_col0\" class=\"data row11 col0\" >40.000000</td>\n",
              "                        <td id=\"T_c8be12b8_29d3_11eb_a490_0242ac1c0002row11_col1\" class=\"data row11 col1\" >20.000000</td>\n",
              "                        <td id=\"T_c8be12b8_29d3_11eb_a490_0242ac1c0002row11_col2\" class=\"data row11 col2\" >0.107831</td>\n",
              "                        <td id=\"T_c8be12b8_29d3_11eb_a490_0242ac1c0002row11_col3\" class=\"data row11 col3\" >0.454868</td>\n",
              "            </tr>\n",
              "            <tr>\n",
              "                        <th id=\"T_c8be12b8_29d3_11eb_a490_0242ac1c0002level0_row12\" class=\"row_heading level0 row12\" >12</th>\n",
              "                        <td id=\"T_c8be12b8_29d3_11eb_a490_0242ac1c0002row12_col0\" class=\"data row12 col0\" >1.000000</td>\n",
              "                        <td id=\"T_c8be12b8_29d3_11eb_a490_0242ac1c0002row12_col1\" class=\"data row12 col1\" >30.000000</td>\n",
              "                        <td id=\"T_c8be12b8_29d3_11eb_a490_0242ac1c0002row12_col2\" class=\"data row12 col2\" >0.869718</td>\n",
              "                        <td id=\"T_c8be12b8_29d3_11eb_a490_0242ac1c0002row12_col3\" class=\"data row12 col3\" >1.264040</td>\n",
              "            </tr>\n",
              "            <tr>\n",
              "                        <th id=\"T_c8be12b8_29d3_11eb_a490_0242ac1c0002level0_row13\" class=\"row_heading level0 row13\" >13</th>\n",
              "                        <td id=\"T_c8be12b8_29d3_11eb_a490_0242ac1c0002row13_col0\" class=\"data row13 col0\" >3.000000</td>\n",
              "                        <td id=\"T_c8be12b8_29d3_11eb_a490_0242ac1c0002row13_col1\" class=\"data row13 col1\" >30.000000</td>\n",
              "                        <td id=\"T_c8be12b8_29d3_11eb_a490_0242ac1c0002row13_col2\" class=\"data row13 col2\" >0.150109</td>\n",
              "                        <td id=\"T_c8be12b8_29d3_11eb_a490_0242ac1c0002row13_col3\" class=\"data row13 col3\" >0.523529</td>\n",
              "            </tr>\n",
              "            <tr>\n",
              "                        <th id=\"T_c8be12b8_29d3_11eb_a490_0242ac1c0002level0_row14\" class=\"row_heading level0 row14\" >14</th>\n",
              "                        <td id=\"T_c8be12b8_29d3_11eb_a490_0242ac1c0002row14_col0\" class=\"data row14 col0\" >5.000000</td>\n",
              "                        <td id=\"T_c8be12b8_29d3_11eb_a490_0242ac1c0002row14_col1\" class=\"data row14 col1\" >30.000000</td>\n",
              "                        <td id=\"T_c8be12b8_29d3_11eb_a490_0242ac1c0002row14_col2\" class=\"data row14 col2\" >0.565154</td>\n",
              "                        <td id=\"T_c8be12b8_29d3_11eb_a490_0242ac1c0002row14_col3\" class=\"data row14 col3\" >0.212019</td>\n",
              "            </tr>\n",
              "            <tr>\n",
              "                        <th id=\"T_c8be12b8_29d3_11eb_a490_0242ac1c0002level0_row15\" class=\"row_heading level0 row15\" >15</th>\n",
              "                        <td id=\"T_c8be12b8_29d3_11eb_a490_0242ac1c0002row15_col0\" class=\"data row15 col0\" >10.000000</td>\n",
              "                        <td id=\"T_c8be12b8_29d3_11eb_a490_0242ac1c0002row15_col1\" class=\"data row15 col1\" >30.000000</td>\n",
              "                        <td id=\"T_c8be12b8_29d3_11eb_a490_0242ac1c0002row15_col2\" class=\"data row15 col2\" >0.210724</td>\n",
              "                        <td id=\"T_c8be12b8_29d3_11eb_a490_0242ac1c0002row15_col3\" class=\"data row15 col3\" >0.205701</td>\n",
              "            </tr>\n",
              "            <tr>\n",
              "                        <th id=\"T_c8be12b8_29d3_11eb_a490_0242ac1c0002level0_row16\" class=\"row_heading level0 row16\" >16</th>\n",
              "                        <td id=\"T_c8be12b8_29d3_11eb_a490_0242ac1c0002row16_col0\" class=\"data row16 col0\" >30.000000</td>\n",
              "                        <td id=\"T_c8be12b8_29d3_11eb_a490_0242ac1c0002row16_col1\" class=\"data row16 col1\" >30.000000</td>\n",
              "                        <td id=\"T_c8be12b8_29d3_11eb_a490_0242ac1c0002row16_col2\" class=\"data row16 col2\" >0.189442</td>\n",
              "                        <td id=\"T_c8be12b8_29d3_11eb_a490_0242ac1c0002row16_col3\" class=\"data row16 col3\" >0.236676</td>\n",
              "            </tr>\n",
              "            <tr>\n",
              "                        <th id=\"T_c8be12b8_29d3_11eb_a490_0242ac1c0002level0_row17\" class=\"row_heading level0 row17\" >17</th>\n",
              "                        <td id=\"T_c8be12b8_29d3_11eb_a490_0242ac1c0002row17_col0\" class=\"data row17 col0\" >40.000000</td>\n",
              "                        <td id=\"T_c8be12b8_29d3_11eb_a490_0242ac1c0002row17_col1\" class=\"data row17 col1\" >30.000000</td>\n",
              "                        <td id=\"T_c8be12b8_29d3_11eb_a490_0242ac1c0002row17_col2\" class=\"data row17 col2\" >0.260887</td>\n",
              "                        <td id=\"T_c8be12b8_29d3_11eb_a490_0242ac1c0002row17_col3\" class=\"data row17 col3\" >1.698599</td>\n",
              "            </tr>\n",
              "    </tbody></table>"
            ],
            "text/plain": [
              "<pandas.io.formats.style.Styler at 0x7fca05ed0470>"
            ]
          },
          "metadata": {
            "tags": []
          },
          "execution_count": 48
        }
      ]
    },
    {
      "cell_type": "markdown",
      "metadata": {
        "id": "xUBn1aHoUHJE"
      },
      "source": [
        "## Ejercicio 4 - Comparación con LSTM\n",
        "\n",
        "En nuestro ultimo ejercicio, vamos a comparar los resultados obtenidos hasta ahora con una LSTM, Para ellos vamos a usar una libreria llamada [Tensorflow](https://www.tensorflow.org/?hl=es-419). Esta libreria es unos de las librerias estandares para entrenar redes neuronales (hay otras librerias cada vez más populares, [PyTorch](https://pytorch.org/)). En un entorno real es preferible usar algunas de estas librerias para trabajar con redes neuronales.\n",
        "\n",
        "Nota: en el alcance del curso no vamos a ver detalles de como crear modelos con estas librerias. Estos temas corresponden a temas más avanzados de Deep Learning. En el código se usan conceptos que nos vamos a profundizar, sin embargo se invita a alimentar la curiosidad."
      ]
    },
    {
      "cell_type": "code",
      "metadata": {
        "id": "kXqnWgG1UHJF",
        "cellView": "form"
      },
      "source": [
        "#@title Pregunta Abierta\n",
        "#@markdown ¿por qué una red LSTM puede ser mas adecuada para resolver este problema? justifique\n",
        "respuesta_4 = \"\" #@param {type:\"string\"}"
      ],
      "execution_count": 49,
      "outputs": []
    },
    {
      "cell_type": "markdown",
      "metadata": {
        "id": "0NeZ5PiEUHJG"
      },
      "source": [
        "Aca creamos el modelo LSTM usando tensorflow:"
      ]
    },
    {
      "cell_type": "code",
      "metadata": {
        "id": "Fns_PiMPUHJG"
      },
      "source": [
        "from tensorflow.keras.models import Sequential\n",
        "from tensorflow.keras.layers import Dense\n",
        "from tensorflow.keras.layers import LSTM\n",
        "def create_tf_model(look_back, num_hidden_neurons):\n",
        "    \"\"\"funcion que crear modelo LSTM con base al número de lags y numero de neuronas\"\"\"\n",
        "    model = Sequential()\n",
        "    model.add(LSTM(num_hidden_neurons, input_shape=(1, look_back)))\n",
        "    model.add(Dense(1))\n",
        "    model.compile(loss='mean_squared_error', optimizer='adam')\n",
        "    return(model)"
      ],
      "execution_count": 54,
      "outputs": []
    },
    {
      "cell_type": "markdown",
      "metadata": {
        "id": "Px5VQBhDUHJI"
      },
      "source": [
        "Vamos aseguranos de completar el código para lograr:\n",
        "1. Epocas = 100\n",
        "2. Pasar los parametros el la función `create_tf_model`\n",
        "3. utilizar como medida de error el error absoluto medio.  [recordar usar la implementación del modulo de metricas de sklearn](https://scikit-learn.org/stable/modules/classes.html#module-sklearn.metrics)"
      ]
    },
    {
      "cell_type": "code",
      "metadata": {
        "id": "n-zgWDvfUHJI"
      },
      "source": [
        "#ejercicio de código\n",
        "import tensorflow as tf\n",
        "def experimentar_LSTM(data, look_backs, hidden_neurons):\n",
        "    \"\"\"funcion que realiza experimentos para evaluar una LSTM usando\n",
        "        MAE Error Absoluto medio\n",
        "    \n",
        "    data: pd.Dataframe, dataset a usar\n",
        "    look_back: List[int], lista con los numero de retrasos a evaluar\n",
        "    hidden_neurons: List[int], list con el numero de neuronas en la capa oculta\n",
        "    retorna: pd.Dataframe con las siguientes columnas:\n",
        "        - lags\n",
        "        - neuronas por capas\n",
        "        - error de entrenamiento\n",
        "        - error de prueba\n",
        "    \"\"\"\n",
        "    # we need to normalize the dataset before\n",
        "    #\n",
        "    scaler = MinMaxScaler(feature_range=(0, 1))\n",
        "    dataset = scaler.fit_transform(data)\n",
        "    # split into train and test sets\n",
        "    train_size = int(len(dataset) * 0.7)\n",
        "    test_size = len(dataset) - train_size\n",
        "    train, test = dataset[0:train_size,:], dataset[train_size:len(dataset),:]\n",
        "    resultados = pd.DataFrame()\n",
        "    idx = 0\n",
        "    for num_hidden_neurons in hidden_neurons:\n",
        "        for look_back in look_backs:\n",
        "            # reshape into X=t-look_back+1:t and Y=t+1\n",
        "            trainX, trainY = create_dataset(train, look_back)\n",
        "            testX, testY = create_dataset(test, look_back)\n",
        "            # adaptar para compatibilidad con tensorflow\n",
        "            trainX = np.reshape(trainX, (trainX.shape[0], 1, trainX.shape[1]))\n",
        "            testX = np.reshape(testX, (testX.shape[0], 1, testX.shape[1]))\n",
        "            tf.compat.v1.disable_eager_execution() # para evitar algunos warnings\n",
        "            # llama la función definida anteriormente\n",
        "            model = create_tf_model(look_back, num_hidden_neurons)\n",
        "            # pasa el las epocas requeridas\n",
        "            model.fit(trainX, trainY, epochs=100, batch_size=1, verbose=None)\n",
        "            # Evaluar la red con los datos de test y entrenamiento \n",
        "            trainYPred = model.predict(trainX)\n",
        "            testYPred = model.predict(testX)\n",
        "            # Calculo de error\n",
        "            errorTrain = mean_absolute_error(trainY, trainYPred)\n",
        "            errorTest = mean_absolute_error(testY, testYPred)\n",
        "            resultados.loc[idx,'lags'] = look_back\n",
        "            resultados.loc[idx,'neuronas por capa'] = num_hidden_neurons \n",
        "            resultados.loc[idx,'error de entrenamiento'] = errorTrain\n",
        "            resultados.loc[idx,'error de prueba'] = errorTest\n",
        "            idx+=1\n",
        "            print(\"termina un experimento con\", errorTrain, errorTest)\n",
        "    \n",
        "    return (resultados)"
      ],
      "execution_count": 55,
      "outputs": []
    },
    {
      "cell_type": "code",
      "metadata": {
        "id": "3KOxj5zIUHJK",
        "colab": {
          "base_uri": "https://localhost:8080/"
        },
        "outputId": "bd466ef3-3257-4894-a933-2e7fa8709a0a"
      },
      "source": [
        "# ignorar los prints!\n",
        "GRADER.run_test(\"ejercicio3\", experimentar_LSTM)"
      ],
      "execution_count": 56,
      "outputs": [
        {
          "output_type": "stream",
          "text": [
            "WARNING:tensorflow:From /usr/local/lib/python3.6/dist-packages/tensorflow/python/keras/engine/training_v1.py:2070: Model.state_updates (from tensorflow.python.keras.engine.training) is deprecated and will be removed in a future version.\n",
            "Instructions for updating:\n",
            "This property should not be used in TensorFlow 2.0, as updates are applied automatically.\n",
            "termina un experimento con 0.16556321812582378 0.27537060081737186\n",
            "termina un experimento con 0.17183198000205538 0.2945253801109388\n",
            "TEST EXITOSO!\n"
          ],
          "name": "stdout"
        }
      ]
    },
    {
      "cell_type": "code",
      "metadata": {
        "id": "1mt8kaTCUHJL",
        "colab": {
          "base_uri": "https://localhost:8080/"
        },
        "outputId": "8c0bbba0-1f4b-4b08-c0ed-d0343418c5f9"
      },
      "source": [
        "# demora algunos minutos!\n",
        "resultadosLSTM = experimentar_LSTM(dataset, look_backs = [1,3,5,20,30,40], hidden_neurons=[5,10,15])"
      ],
      "execution_count": 57,
      "outputs": [
        {
          "output_type": "stream",
          "text": [
            "termina un experimento con 0.035403440448595454 0.08447124762862981\n",
            "termina un experimento con 0.035302733966156734 0.10038135200738907\n",
            "termina un experimento con 0.033756556956283094 0.08815007140677139\n",
            "termina un experimento con 0.016510214821180754 0.028379817932108725\n",
            "termina un experimento con 0.017952612937197136 0.023172394233391475\n",
            "termina un experimento con 0.011763971061241916 0.08076212949274131\n",
            "termina un experimento con 0.03556020853377731 0.08354972496609585\n",
            "termina un experimento con 0.034082686609881924 0.08044937914632923\n",
            "termina un experimento con 0.03400622757581234 0.07883390720068403\n",
            "termina un experimento con 0.013757703021182548 0.02505776896980236\n",
            "termina un experimento con 0.014748131869559158 0.056523177826974594\n",
            "termina un experimento con 0.01563642307697622 0.10178365455784548\n",
            "termina un experimento con 0.035521176607968045 0.08285730348437297\n",
            "termina un experimento con 0.035359764371303705 0.08000863748800341\n",
            "termina un experimento con 0.03384386538881752 0.07766877433326375\n",
            "termina un experimento con 0.019268153786162576 0.028875087288896043\n",
            "termina un experimento con 0.013545144825655156 0.03205681640244322\n",
            "termina un experimento con 0.011304791517715164 0.09848861045358726\n"
          ],
          "name": "stdout"
        }
      ]
    },
    {
      "cell_type": "code",
      "metadata": {
        "id": "g_md7Qc_UHJN",
        "colab": {
          "base_uri": "https://localhost:8080/",
          "height": 416
        },
        "outputId": "c09edd28-d2e6-4a0d-efd8-941cd39ee37e"
      },
      "source": [
        "# para ver los resultados\n",
        "# en esta instruccion se va resaltar el mejor\n",
        "# error y tiempo de entrenamiento\n",
        "resultadosLSTM.style.highlight_min(color = 'lightgreen', axis = 0, subset = ['error de prueba'])"
      ],
      "execution_count": 58,
      "outputs": [
        {
          "output_type": "execute_result",
          "data": {
            "text/html": [
              "<style  type=\"text/css\" >\n",
              "#T_f2624304_29d4_11eb_a490_0242ac1c0002row4_col3{\n",
              "            background-color:  lightgreen;\n",
              "        }</style><table id=\"T_f2624304_29d4_11eb_a490_0242ac1c0002\" ><thead>    <tr>        <th class=\"blank level0\" ></th>        <th class=\"col_heading level0 col0\" >lags</th>        <th class=\"col_heading level0 col1\" >neuronas por capa</th>        <th class=\"col_heading level0 col2\" >error de entrenamiento</th>        <th class=\"col_heading level0 col3\" >error de prueba</th>    </tr></thead><tbody>\n",
              "                <tr>\n",
              "                        <th id=\"T_f2624304_29d4_11eb_a490_0242ac1c0002level0_row0\" class=\"row_heading level0 row0\" >0</th>\n",
              "                        <td id=\"T_f2624304_29d4_11eb_a490_0242ac1c0002row0_col0\" class=\"data row0 col0\" >1.000000</td>\n",
              "                        <td id=\"T_f2624304_29d4_11eb_a490_0242ac1c0002row0_col1\" class=\"data row0 col1\" >5.000000</td>\n",
              "                        <td id=\"T_f2624304_29d4_11eb_a490_0242ac1c0002row0_col2\" class=\"data row0 col2\" >0.035403</td>\n",
              "                        <td id=\"T_f2624304_29d4_11eb_a490_0242ac1c0002row0_col3\" class=\"data row0 col3\" >0.084471</td>\n",
              "            </tr>\n",
              "            <tr>\n",
              "                        <th id=\"T_f2624304_29d4_11eb_a490_0242ac1c0002level0_row1\" class=\"row_heading level0 row1\" >1</th>\n",
              "                        <td id=\"T_f2624304_29d4_11eb_a490_0242ac1c0002row1_col0\" class=\"data row1 col0\" >3.000000</td>\n",
              "                        <td id=\"T_f2624304_29d4_11eb_a490_0242ac1c0002row1_col1\" class=\"data row1 col1\" >5.000000</td>\n",
              "                        <td id=\"T_f2624304_29d4_11eb_a490_0242ac1c0002row1_col2\" class=\"data row1 col2\" >0.035303</td>\n",
              "                        <td id=\"T_f2624304_29d4_11eb_a490_0242ac1c0002row1_col3\" class=\"data row1 col3\" >0.100381</td>\n",
              "            </tr>\n",
              "            <tr>\n",
              "                        <th id=\"T_f2624304_29d4_11eb_a490_0242ac1c0002level0_row2\" class=\"row_heading level0 row2\" >2</th>\n",
              "                        <td id=\"T_f2624304_29d4_11eb_a490_0242ac1c0002row2_col0\" class=\"data row2 col0\" >5.000000</td>\n",
              "                        <td id=\"T_f2624304_29d4_11eb_a490_0242ac1c0002row2_col1\" class=\"data row2 col1\" >5.000000</td>\n",
              "                        <td id=\"T_f2624304_29d4_11eb_a490_0242ac1c0002row2_col2\" class=\"data row2 col2\" >0.033757</td>\n",
              "                        <td id=\"T_f2624304_29d4_11eb_a490_0242ac1c0002row2_col3\" class=\"data row2 col3\" >0.088150</td>\n",
              "            </tr>\n",
              "            <tr>\n",
              "                        <th id=\"T_f2624304_29d4_11eb_a490_0242ac1c0002level0_row3\" class=\"row_heading level0 row3\" >3</th>\n",
              "                        <td id=\"T_f2624304_29d4_11eb_a490_0242ac1c0002row3_col0\" class=\"data row3 col0\" >20.000000</td>\n",
              "                        <td id=\"T_f2624304_29d4_11eb_a490_0242ac1c0002row3_col1\" class=\"data row3 col1\" >5.000000</td>\n",
              "                        <td id=\"T_f2624304_29d4_11eb_a490_0242ac1c0002row3_col2\" class=\"data row3 col2\" >0.016510</td>\n",
              "                        <td id=\"T_f2624304_29d4_11eb_a490_0242ac1c0002row3_col3\" class=\"data row3 col3\" >0.028380</td>\n",
              "            </tr>\n",
              "            <tr>\n",
              "                        <th id=\"T_f2624304_29d4_11eb_a490_0242ac1c0002level0_row4\" class=\"row_heading level0 row4\" >4</th>\n",
              "                        <td id=\"T_f2624304_29d4_11eb_a490_0242ac1c0002row4_col0\" class=\"data row4 col0\" >30.000000</td>\n",
              "                        <td id=\"T_f2624304_29d4_11eb_a490_0242ac1c0002row4_col1\" class=\"data row4 col1\" >5.000000</td>\n",
              "                        <td id=\"T_f2624304_29d4_11eb_a490_0242ac1c0002row4_col2\" class=\"data row4 col2\" >0.017953</td>\n",
              "                        <td id=\"T_f2624304_29d4_11eb_a490_0242ac1c0002row4_col3\" class=\"data row4 col3\" >0.023172</td>\n",
              "            </tr>\n",
              "            <tr>\n",
              "                        <th id=\"T_f2624304_29d4_11eb_a490_0242ac1c0002level0_row5\" class=\"row_heading level0 row5\" >5</th>\n",
              "                        <td id=\"T_f2624304_29d4_11eb_a490_0242ac1c0002row5_col0\" class=\"data row5 col0\" >40.000000</td>\n",
              "                        <td id=\"T_f2624304_29d4_11eb_a490_0242ac1c0002row5_col1\" class=\"data row5 col1\" >5.000000</td>\n",
              "                        <td id=\"T_f2624304_29d4_11eb_a490_0242ac1c0002row5_col2\" class=\"data row5 col2\" >0.011764</td>\n",
              "                        <td id=\"T_f2624304_29d4_11eb_a490_0242ac1c0002row5_col3\" class=\"data row5 col3\" >0.080762</td>\n",
              "            </tr>\n",
              "            <tr>\n",
              "                        <th id=\"T_f2624304_29d4_11eb_a490_0242ac1c0002level0_row6\" class=\"row_heading level0 row6\" >6</th>\n",
              "                        <td id=\"T_f2624304_29d4_11eb_a490_0242ac1c0002row6_col0\" class=\"data row6 col0\" >1.000000</td>\n",
              "                        <td id=\"T_f2624304_29d4_11eb_a490_0242ac1c0002row6_col1\" class=\"data row6 col1\" >10.000000</td>\n",
              "                        <td id=\"T_f2624304_29d4_11eb_a490_0242ac1c0002row6_col2\" class=\"data row6 col2\" >0.035560</td>\n",
              "                        <td id=\"T_f2624304_29d4_11eb_a490_0242ac1c0002row6_col3\" class=\"data row6 col3\" >0.083550</td>\n",
              "            </tr>\n",
              "            <tr>\n",
              "                        <th id=\"T_f2624304_29d4_11eb_a490_0242ac1c0002level0_row7\" class=\"row_heading level0 row7\" >7</th>\n",
              "                        <td id=\"T_f2624304_29d4_11eb_a490_0242ac1c0002row7_col0\" class=\"data row7 col0\" >3.000000</td>\n",
              "                        <td id=\"T_f2624304_29d4_11eb_a490_0242ac1c0002row7_col1\" class=\"data row7 col1\" >10.000000</td>\n",
              "                        <td id=\"T_f2624304_29d4_11eb_a490_0242ac1c0002row7_col2\" class=\"data row7 col2\" >0.034083</td>\n",
              "                        <td id=\"T_f2624304_29d4_11eb_a490_0242ac1c0002row7_col3\" class=\"data row7 col3\" >0.080449</td>\n",
              "            </tr>\n",
              "            <tr>\n",
              "                        <th id=\"T_f2624304_29d4_11eb_a490_0242ac1c0002level0_row8\" class=\"row_heading level0 row8\" >8</th>\n",
              "                        <td id=\"T_f2624304_29d4_11eb_a490_0242ac1c0002row8_col0\" class=\"data row8 col0\" >5.000000</td>\n",
              "                        <td id=\"T_f2624304_29d4_11eb_a490_0242ac1c0002row8_col1\" class=\"data row8 col1\" >10.000000</td>\n",
              "                        <td id=\"T_f2624304_29d4_11eb_a490_0242ac1c0002row8_col2\" class=\"data row8 col2\" >0.034006</td>\n",
              "                        <td id=\"T_f2624304_29d4_11eb_a490_0242ac1c0002row8_col3\" class=\"data row8 col3\" >0.078834</td>\n",
              "            </tr>\n",
              "            <tr>\n",
              "                        <th id=\"T_f2624304_29d4_11eb_a490_0242ac1c0002level0_row9\" class=\"row_heading level0 row9\" >9</th>\n",
              "                        <td id=\"T_f2624304_29d4_11eb_a490_0242ac1c0002row9_col0\" class=\"data row9 col0\" >20.000000</td>\n",
              "                        <td id=\"T_f2624304_29d4_11eb_a490_0242ac1c0002row9_col1\" class=\"data row9 col1\" >10.000000</td>\n",
              "                        <td id=\"T_f2624304_29d4_11eb_a490_0242ac1c0002row9_col2\" class=\"data row9 col2\" >0.013758</td>\n",
              "                        <td id=\"T_f2624304_29d4_11eb_a490_0242ac1c0002row9_col3\" class=\"data row9 col3\" >0.025058</td>\n",
              "            </tr>\n",
              "            <tr>\n",
              "                        <th id=\"T_f2624304_29d4_11eb_a490_0242ac1c0002level0_row10\" class=\"row_heading level0 row10\" >10</th>\n",
              "                        <td id=\"T_f2624304_29d4_11eb_a490_0242ac1c0002row10_col0\" class=\"data row10 col0\" >30.000000</td>\n",
              "                        <td id=\"T_f2624304_29d4_11eb_a490_0242ac1c0002row10_col1\" class=\"data row10 col1\" >10.000000</td>\n",
              "                        <td id=\"T_f2624304_29d4_11eb_a490_0242ac1c0002row10_col2\" class=\"data row10 col2\" >0.014748</td>\n",
              "                        <td id=\"T_f2624304_29d4_11eb_a490_0242ac1c0002row10_col3\" class=\"data row10 col3\" >0.056523</td>\n",
              "            </tr>\n",
              "            <tr>\n",
              "                        <th id=\"T_f2624304_29d4_11eb_a490_0242ac1c0002level0_row11\" class=\"row_heading level0 row11\" >11</th>\n",
              "                        <td id=\"T_f2624304_29d4_11eb_a490_0242ac1c0002row11_col0\" class=\"data row11 col0\" >40.000000</td>\n",
              "                        <td id=\"T_f2624304_29d4_11eb_a490_0242ac1c0002row11_col1\" class=\"data row11 col1\" >10.000000</td>\n",
              "                        <td id=\"T_f2624304_29d4_11eb_a490_0242ac1c0002row11_col2\" class=\"data row11 col2\" >0.015636</td>\n",
              "                        <td id=\"T_f2624304_29d4_11eb_a490_0242ac1c0002row11_col3\" class=\"data row11 col3\" >0.101784</td>\n",
              "            </tr>\n",
              "            <tr>\n",
              "                        <th id=\"T_f2624304_29d4_11eb_a490_0242ac1c0002level0_row12\" class=\"row_heading level0 row12\" >12</th>\n",
              "                        <td id=\"T_f2624304_29d4_11eb_a490_0242ac1c0002row12_col0\" class=\"data row12 col0\" >1.000000</td>\n",
              "                        <td id=\"T_f2624304_29d4_11eb_a490_0242ac1c0002row12_col1\" class=\"data row12 col1\" >15.000000</td>\n",
              "                        <td id=\"T_f2624304_29d4_11eb_a490_0242ac1c0002row12_col2\" class=\"data row12 col2\" >0.035521</td>\n",
              "                        <td id=\"T_f2624304_29d4_11eb_a490_0242ac1c0002row12_col3\" class=\"data row12 col3\" >0.082857</td>\n",
              "            </tr>\n",
              "            <tr>\n",
              "                        <th id=\"T_f2624304_29d4_11eb_a490_0242ac1c0002level0_row13\" class=\"row_heading level0 row13\" >13</th>\n",
              "                        <td id=\"T_f2624304_29d4_11eb_a490_0242ac1c0002row13_col0\" class=\"data row13 col0\" >3.000000</td>\n",
              "                        <td id=\"T_f2624304_29d4_11eb_a490_0242ac1c0002row13_col1\" class=\"data row13 col1\" >15.000000</td>\n",
              "                        <td id=\"T_f2624304_29d4_11eb_a490_0242ac1c0002row13_col2\" class=\"data row13 col2\" >0.035360</td>\n",
              "                        <td id=\"T_f2624304_29d4_11eb_a490_0242ac1c0002row13_col3\" class=\"data row13 col3\" >0.080009</td>\n",
              "            </tr>\n",
              "            <tr>\n",
              "                        <th id=\"T_f2624304_29d4_11eb_a490_0242ac1c0002level0_row14\" class=\"row_heading level0 row14\" >14</th>\n",
              "                        <td id=\"T_f2624304_29d4_11eb_a490_0242ac1c0002row14_col0\" class=\"data row14 col0\" >5.000000</td>\n",
              "                        <td id=\"T_f2624304_29d4_11eb_a490_0242ac1c0002row14_col1\" class=\"data row14 col1\" >15.000000</td>\n",
              "                        <td id=\"T_f2624304_29d4_11eb_a490_0242ac1c0002row14_col2\" class=\"data row14 col2\" >0.033844</td>\n",
              "                        <td id=\"T_f2624304_29d4_11eb_a490_0242ac1c0002row14_col3\" class=\"data row14 col3\" >0.077669</td>\n",
              "            </tr>\n",
              "            <tr>\n",
              "                        <th id=\"T_f2624304_29d4_11eb_a490_0242ac1c0002level0_row15\" class=\"row_heading level0 row15\" >15</th>\n",
              "                        <td id=\"T_f2624304_29d4_11eb_a490_0242ac1c0002row15_col0\" class=\"data row15 col0\" >20.000000</td>\n",
              "                        <td id=\"T_f2624304_29d4_11eb_a490_0242ac1c0002row15_col1\" class=\"data row15 col1\" >15.000000</td>\n",
              "                        <td id=\"T_f2624304_29d4_11eb_a490_0242ac1c0002row15_col2\" class=\"data row15 col2\" >0.019268</td>\n",
              "                        <td id=\"T_f2624304_29d4_11eb_a490_0242ac1c0002row15_col3\" class=\"data row15 col3\" >0.028875</td>\n",
              "            </tr>\n",
              "            <tr>\n",
              "                        <th id=\"T_f2624304_29d4_11eb_a490_0242ac1c0002level0_row16\" class=\"row_heading level0 row16\" >16</th>\n",
              "                        <td id=\"T_f2624304_29d4_11eb_a490_0242ac1c0002row16_col0\" class=\"data row16 col0\" >30.000000</td>\n",
              "                        <td id=\"T_f2624304_29d4_11eb_a490_0242ac1c0002row16_col1\" class=\"data row16 col1\" >15.000000</td>\n",
              "                        <td id=\"T_f2624304_29d4_11eb_a490_0242ac1c0002row16_col2\" class=\"data row16 col2\" >0.013545</td>\n",
              "                        <td id=\"T_f2624304_29d4_11eb_a490_0242ac1c0002row16_col3\" class=\"data row16 col3\" >0.032057</td>\n",
              "            </tr>\n",
              "            <tr>\n",
              "                        <th id=\"T_f2624304_29d4_11eb_a490_0242ac1c0002level0_row17\" class=\"row_heading level0 row17\" >17</th>\n",
              "                        <td id=\"T_f2624304_29d4_11eb_a490_0242ac1c0002row17_col0\" class=\"data row17 col0\" >40.000000</td>\n",
              "                        <td id=\"T_f2624304_29d4_11eb_a490_0242ac1c0002row17_col1\" class=\"data row17 col1\" >15.000000</td>\n",
              "                        <td id=\"T_f2624304_29d4_11eb_a490_0242ac1c0002row17_col2\" class=\"data row17 col2\" >0.011305</td>\n",
              "                        <td id=\"T_f2624304_29d4_11eb_a490_0242ac1c0002row17_col3\" class=\"data row17 col3\" >0.098489</td>\n",
              "            </tr>\n",
              "    </tbody></table>"
            ],
            "text/plain": [
              "<pandas.io.formats.style.Styler at 0x7fc9ff3014e0>"
            ]
          },
          "metadata": {
            "tags": []
          },
          "execution_count": 58
        }
      ]
    },
    {
      "cell_type": "code",
      "metadata": {
        "id": "RgMlGhUgUHJP",
        "colab": {
          "base_uri": "https://localhost:8080/",
          "height": 401
        },
        "outputId": "ce2697a0-2922-46a0-bdd9-d36413205703"
      },
      "source": [
        "# observa el comportamiento de los lags y comparar con elman\n",
        "import seaborn as sns\n",
        "resultadosLSTM['tipo_de_red'] = 'LSTM'\n",
        "resultadosElman['tipo_de_red'] = 'Elman'\n",
        "lstm_vs_elman = pd.concat([resultadosLSTM, resultadosElman], axis= 0 , ignore_index = True)\n",
        "sns.relplot(data= lstm_vs_elman, x= 'lags', y = 'error de prueba', kind = 'line', hue = 'tipo_de_red')"
      ],
      "execution_count": 59,
      "outputs": [
        {
          "output_type": "execute_result",
          "data": {
            "text/plain": [
              "<seaborn.axisgrid.FacetGrid at 0x7fc9f73652e8>"
            ]
          },
          "metadata": {
            "tags": []
          },
          "execution_count": 59
        },
        {
          "output_type": "display_data",
          "data": {
            "image/png": "[encoded data removed]",
            "text/plain": [
              "<Figure size 427.25x360 with 1 Axes>"
            ]
          },
          "metadata": {
            "tags": [],
            "needs_background": "light"
          }
        }
      ]
    },
    {
      "cell_type": "code",
      "metadata": {
        "id": "MrKvqWw2UHJS",
        "colab": {
          "base_uri": "https://localhost:8080/"
        },
        "outputId": "2a914be2-817f-4558-ddb4-bfbdd0eed7fb"
      },
      "source": [
        "GRADER.check_tests()"
      ],
      "execution_count": 60,
      "outputs": [
        {
          "output_type": "stream",
          "text": [
            "Todo se ve ok. Asegurate de responder las preguntas abiertas y envia e archivo al formulario ¡buen trabajo!\n"
          ],
          "name": "stdout"
        }
      ]
    },
    {
      "cell_type": "code",
      "metadata": {
        "id": "bqLnLhkbUHJT",
        "cellView": "form"
      },
      "source": [
        "#@title Integrantes\n",
        "codigo_integrante_1 ='1017251689' #@param {type:\"string\"}\n",
        "codigo_integrante_2 = ''  #@param {type:\"string\"}"
      ],
      "execution_count": null,
      "outputs": []
    },
    {
      "cell_type": "markdown",
      "metadata": {
        "id": "49ks-ybfUHJV"
      },
      "source": [
        "----\n",
        "esta linea de codigo va fallar, es de uso exclusivo de los profesores\n"
      ]
    },
    {
      "cell_type": "code",
      "metadata": {
        "id": "MJl4We7lUHJV"
      },
      "source": [
        "GRADER.grade()"
      ],
      "execution_count": null,
      "outputs": []
    }
  ]
}