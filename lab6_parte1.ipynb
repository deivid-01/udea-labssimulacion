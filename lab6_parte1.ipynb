{
  "nbformat": 4,
  "nbformat_minor": 0,
  "metadata": {
    "colab": {
      "name": "lab6_parte1.ipynb",
      "provenance": [],
      "collapsed_sections": [],
      "toc_visible": true
    },
    "kernelspec": {
      "display_name": "Python 3",
      "language": "python",
      "name": "python3"
    },
    "language_info": {
      "codemirror_mode": {
        "name": "ipython",
        "version": 3
      },
      "file_extension": ".py",
      "mimetype": "text/x-python",
      "name": "python",
      "nbconvert_exporter": "python",
      "pygments_lexer": "ipython3",
      "version": "3.6.9"
    }
  },
  "cells": [
    {
      "cell_type": "markdown",
      "metadata": {
        "id": "2XrHhhIO3dxk"
      },
      "source": [
        "<a href=\"https://colab.research.google.com/github/jdariasl/ML_2020/blob/master/Labs/lab6/lab6_parte1.ipynb\">\n",
        "    <img src=\"https://colab.research.google.com/assets/colab-badge.svg\" alt=\"Open In Colab\"/></a>\n",
        "\n",
        "**Recuerda que una vez abierto, Da clic en \"Copiar en Drive\", de lo contrario no podras almacenar tu progreso**\n",
        "\n",
        "Nota: no olvide ir ejecutando las celdas de código de arriba hacia abajo para que no tenga errores de importación de librerías o por falta de definición de variables."
      ]
    },
    {
      "cell_type": "code",
      "metadata": {
        "id": "YII73eZN3dxl",
        "colab": {
          "base_uri": "https://localhost:8080/"
        },
        "outputId": "f0db366c-2018-4b49-8ed1-999b2b8a25cb"
      },
      "source": [
        "#configuración del laboratorio\n",
        "# Ejecuta esta celda!\n",
        "%load_ext autoreload\n",
        "%autoreload 2\n",
        "#for local \n",
        "#import sys ; sys.path.append('../commons/utils/')\n",
        "!wget https://raw.githubusercontent.com/jdariasl/ML_2020/master/Labs/commons/utils/general.py -O general.py --no-cache\n",
        "from general import configure_lab6\n",
        "configure_lab6()\n",
        "from lab6 import *\n",
        "GRADER, x,y = part_1()"
      ],
      "execution_count": 1,
      "outputs": [
        {
          "output_type": "stream",
          "text": [
            "--2020-12-03 14:59:53--  https://raw.githubusercontent.com/jdariasl/ML_2020/master/Labs/commons/utils/general.py\n",
            "Resolving raw.githubusercontent.com (raw.githubusercontent.com)... 151.101.0.133, 151.101.64.133, 151.101.128.133, ...\n",
            "Connecting to raw.githubusercontent.com (raw.githubusercontent.com)|151.101.0.133|:443... connected.\n",
            "HTTP request sent, awaiting response... 200 OK\n",
            "Length: 14117 (14K) [text/plain]\n",
            "Saving to: ‘general.py’\n",
            "\n",
            "\rgeneral.py            0%[                    ]       0  --.-KB/s               \rgeneral.py          100%[===================>]  13.79K  --.-KB/s    in 0s      \n",
            "\n",
            "2020-12-03 14:59:53 (63.7 MB/s) - ‘general.py’ saved [14117/14117]\n",
            "\n",
            "lab configuration started\n",
            "installing libraries\n",
            "downloading files\n",
            "lab configured\n"
          ],
          "name": "stdout"
        }
      ]
    },
    {
      "cell_type": "markdown",
      "metadata": {
        "id": "4dp4MJ4GJjH3"
      },
      "source": [
        "# Laboratorio 6 - Parte 1: Reducción de dimensión y Selección de características"
      ]
    },
    {
      "cell_type": "markdown",
      "metadata": {
        "id": "2JuDVBmqJ0Mu"
      },
      "source": [
        "Este ejercicio tiene como objetivo implementar varias técnicas de selección de características y usar SVM para resolver un problema de clasificación multiclase."
      ]
    },
    {
      "cell_type": "markdown",
      "metadata": {
        "id": "XYcG4YJY3dxp"
      },
      "source": [
        "Para el problema de clasificación usaremos la siguiente base de datos: https://archive.ics.uci.edu/ml/datasets/Cardiotocography\n",
        "\n",
        "Analice la base de datos, sus características, su variable de salida y el contexto del problema."
      ]
    },
    {
      "cell_type": "code",
      "metadata": {
        "id": "-9_ncZq53dxp",
        "colab": {
          "base_uri": "https://localhost:8080/"
        },
        "outputId": "6992fc9f-62cf-41e0-f4bb-82d3d412179c"
      },
      "source": [
        "print('Dimensiones de la base de datos de entrenamiento. dim de x: ' + str(np.shape(x)) + '\\tdim de y: ' + str(np.shape(y)))"
      ],
      "execution_count": 2,
      "outputs": [
        {
          "output_type": "stream",
          "text": [
            "Dimensiones de la base de datos de entrenamiento. dim de x: (2126, 22)\tdim de y: (2126,)\n"
          ],
          "name": "stdout"
        }
      ]
    },
    {
      "cell_type": "markdown",
      "metadata": {
        "id": "b7hVspnq3dxr"
      },
      "source": [
        "**observación para las librerias sklearn **\n",
        "\n",
        "Llamar explicitamente los parametros de las librerias de sklearn (e.j. si se quiere usar el parametro `kernel` del `SVC`, se debe llamar `SVC(kernel='rbf'`)"
      ]
    },
    {
      "cell_type": "markdown",
      "metadata": {
        "id": "S-ohZuu_lC3p"
      },
      "source": [
        "## Ejercicio 1: Entrenamiento sin selección de características\n",
        "\n",
        "En nuestro primer ejercicio debemos completar la función para entrenar una SVM para resolver un problema de clasificación. Debemos completar siguiendo las recomendaciones:\n",
        "\n",
        "1. Mantener los parámetros sugeridos del SVC. \n",
        "2. Asignar el parametro de Kfold a los splits\n",
        "3. Usar la exactitud como medida de error del modulo [metrics de sklearn](https://scikit-learn.org/stable/modules/classes.html#module-sklearn.metrics)\n",
        "4. Esta función la vamos a usar como base para comparar nuestros metodos de selección de características."
      ]
    },
    {
      "cell_type": "code",
      "metadata": {
        "id": "r5bglRNYlDD3"
      },
      "source": [
        "#ejercicio de código\n",
        "def entrenamiento_sin_seleccion_caracteristicas(splits, X, Y):\n",
        "    \"\"\"\n",
        "    Función que ejecuta el entrenamiento del modelo sin una selección particular\n",
        "    de las características\n",
        "\n",
        "      Parámetros:splits : numero de particiones  a realizar\n",
        "      Retorna:\n",
        "      1. El modelo entreando\n",
        "      2. El vector de errores\n",
        "      3. El Intervalo de confianza\n",
        "      4. El tiempo de procesamiento\n",
        "    \"\"\"\n",
        "    #Implemetamos la metodología de validación\n",
        "    Errores = np.ones(splits)\n",
        "    Score = np.ones(splits)\n",
        "    times = np.ones(splits)\n",
        "    j = 0\n",
        "    kf = KFold(n_splits=splits)\n",
        "    for train_index, test_index in kf.split(X):\n",
        "        X_train, X_test = X[train_index], X[test_index]\n",
        "        y_train, y_test = Y[train_index], Y[test_index]\n",
        "        scaler = StandardScaler()\n",
        "        X_train = scaler.fit_transform(X_train)\n",
        "        X_test = scaler.transform(X_test)\n",
        "        #Creamos el clasificador SVM.\n",
        "        clf = SVC(kernel=\"linear\", C=1)\n",
        "        #Aquí se entran y se valida el modelo sin hacer selección de características\n",
        "        ######\n",
        "        # Entrenamiento el modelo.\n",
        "        #Para calcular el costo computacional\n",
        "        tiempo_i = time.time()\n",
        "        clf.fit(X_train,y_train)\n",
        "        # Validación del modelo\n",
        "        Errores[j] = accuracy_score(y_true=y_test, y_pred=clf.predict(X_test))\n",
        "        times[j] = time.time()-tiempo_i\n",
        "        j+=1\n",
        "\n",
        "    return clf, np.mean(Errores), np.std(Errores), np.mean(times)"
      ],
      "execution_count": 3,
      "outputs": []
    },
    {
      "cell_type": "code",
      "metadata": {
        "id": "1khu7XRL3dxu",
        "colab": {
          "base_uri": "https://localhost:8080/"
        },
        "outputId": "44045237-4693-4167-aab6-be40123cc198"
      },
      "source": [
        "## la funcion que prueba tu implementacion\n",
        "GRADER.run_test(\"ejercicio1\", entrenamiento_sin_seleccion_caracteristicas)"
      ],
      "execution_count": 4,
      "outputs": [
        {
          "output_type": "stream",
          "text": [
            "TEST EXITOSO!\n"
          ],
          "name": "stdout"
        }
      ]
    },
    {
      "cell_type": "code",
      "metadata": {
        "cellView": "form",
        "id": "8dSyfJct3dxw"
      },
      "source": [
        "#@title Pregunta Abierta\n",
        "#@markdown ¿Cuáles son los parámetros establecidos para el modelo?\n",
        "respuesta_1 = \"Los parametros establecidos para el modelo SVC, fueron el kernel , en el cual se especifica el tipo de kernal usado en el algoritmo y el otro parametro fue \\\"C\\\", el cual es el parametro de regularizaci\\xF3n.\" #@param {type:\"string\"}"
      ],
      "execution_count": 5,
      "outputs": []
    },
    {
      "cell_type": "markdown",
      "metadata": {
        "id": "dzdeZ05pmOTX"
      },
      "source": [
        "## Ejercicio 2: Entrenamiento con selección de características\n",
        "\n",
        "La siguiente función \"wrapper\" nos permite hacer una selección de características utilizando la [librería recursive feature elimination de Sci-kit Learn](https://scikit-learn.org/stable/modules/generated/sklearn.feature_selection.RFE.html).\n",
        "\n",
        "Esta libreria es un metodo de seleccion carcterisitcas wrapper, que usa los coeficientes derivados de  un estimador entrenado para estimar que caracteristicas tienen mayor poder predictivo.\n",
        "\n",
        "Para completar debemos tener en cuenta lo siguiente:\n",
        "\n",
        "1. Para el número de caractersiticas usar el parametro feature_numbers\n",
        "2. Establecer el paso = 1 para ir eliminando las caracteristicas\n",
        "3. Asumir que el estimador se crea externamente de la función\n",
        "4. Entender los campos del RFE disponibles despues de entrenarlo, para obtener:\n",
        "    1. La mascara para saber que características fueron seleccionadas\n",
        "    2. El ranking de las caracteristicas"
      ]
    },
    {
      "cell_type": "code",
      "metadata": {
        "id": "vXBPDF57npM2"
      },
      "source": [
        "#ejercicio de código\n",
        "def recursive_feature_elimination_wrapper(estimator, feature_numbers, X,Y):\n",
        "    \"\"\"\n",
        "    Esta función es un envoltorio del objeto RFE de sklearn\n",
        "\n",
        "    Parámetros:\n",
        "    estimator(sklearn.svm.SVC), El estimador SVM\n",
        "    feature_numbers(int), El número de características a considerar\n",
        "    X (numpy.array), El arreglo numpy de características\n",
        "    Y (numpy.array), El vector de etiquetas\n",
        "\n",
        "    Retorna:\n",
        "    El modelo entrenado ()\n",
        "    La máscara de características seleccionada, array [longitud de caracterisitcas de X]\n",
        "    El rankeo de características, array [longitud de caracterisitcas de X]\n",
        "    El objeto RFE entrenado sobre el set reducido de características\n",
        "    El tiempo de ejecución\n",
        "    \"\"\"\n",
        "    rfe = RFE(estimator=estimator, n_features_to_select=feature_numbers,step=1)\n",
        "    tiempo_i = time.time()\n",
        "\n",
        "    rfe.fit(X=X,y=Y)\n",
        "    time_o = time.time()-tiempo_i\n",
        "    feature_mask = rfe.support_\n",
        "    features_rank = rfe.ranking_\n",
        "    estimator = rfe.estimator_\n",
        "\n",
        "    return rfe, feature_mask, features_rank, estimator, time_o"
      ],
      "execution_count": 6,
      "outputs": []
    },
    {
      "cell_type": "code",
      "metadata": {
        "id": "UgAPU3Ww3dx1",
        "colab": {
          "base_uri": "https://localhost:8080/"
        },
        "outputId": "b3b8f551-f69e-44a5-828a-1526a737349e"
      },
      "source": [
        "## la funcion que prueba tu implementacion\n",
        "GRADER.run_test(\"ejercicio2\", recursive_feature_elimination_wrapper)"
      ],
      "execution_count": 7,
      "outputs": [
        {
          "output_type": "stream",
          "text": [
            "TEST EXITOSO!\n"
          ],
          "name": "stdout"
        }
      ]
    },
    {
      "cell_type": "code",
      "metadata": {
        "cellView": "form",
        "id": "NDKQGGIv3dx3"
      },
      "source": [
        "#@title Preguntas Abierta\n",
        "#@markdown ¿Que diferencia tiene el metodo implementado con un metodo de filtro? explicar\n",
        "respuesta_2 = 'La diferencia es que le metodo Wrapper se hace la seleccion de caracteristicas con base en un modelo en especifico, en cambio con el metodo filtro la seleccion se hace por medio de medidas de dependencia estadistica.' #@param {type:\"string\"}"
      ],
      "execution_count": 8,
      "outputs": []
    },
    {
      "cell_type": "markdown",
      "metadata": {
        "id": "NzD_kp5SyZDb"
      },
      "source": [
        "## Ejercicio 3:  Comparación de los resultados del modelo\n",
        "\n",
        "Ahora en la siguiente función, vamos a usar la función planteada para realizar experimentos con la selección de características. Para ello:\n",
        "1. Utilizar una metodología cross-validation.\n",
        "2. Usar como parametros para los experimentos el número de características y el número de splits/particiones\n",
        "3. Usar la función `recursive_feature_elimination_wrapper` para realizar la selección de características.\n",
        "3. Vamos a retornar un DataFrame con las siguientes columnas:\n",
        "    - CON_SEL (indicando si se uso selección de caracteristicas)\n",
        "    - NUM_VAR (número de selección de caracteristicas)\n",
        "    - NUM_SPLITS  (número de particiones realizadas)\n",
        "    - ERROR_VALIDACION\n",
        "    - IC_STD_VALIDACION\n",
        "    - T_EJECUCION: tiempo de ejecucción\n",
        "4. En las primeras filas del dataframe vamos a incluir la evaluación del modelo SVM sin selección de características (usando la función creada en el primer ejercicio). "
      ]
    },
    {
      "cell_type": "code",
      "metadata": {
        "id": "of3uVe6y3dx5"
      },
      "source": [
        "#ejercicio de código\n",
        "def experimentar(n_feats, n_sets, X, Y):\n",
        "    \"\"\"\n",
        "    Esta función realiza la comparación del desempeño de RFE utilizando diferente \n",
        "    número de feats y particionando el conjunto de datos en diferente número de \n",
        "    subconjuntos\n",
        "\n",
        "    Parámetros:\n",
        "    X (numpy.array), El arreglo numpy de características\n",
        "    Y (numpy.array), El vector de etiquetas\n",
        "    n_feats, Vector de números enteros que indica el número de características\n",
        "              que debe utilizar el modelo\n",
        "    n_sets, Vector de números enteros que indica el número de particiones\n",
        "\n",
        "    Retorna:  \n",
        "    - DataFrame con las columnas: CON_SEL, NUM_VAR, NUM_SPLITS, ERROR_VALIDACION, IC_STD_VALIDACION, \n",
        "    y T_EJECUCION. \n",
        "\n",
        "    \"\"\"\n",
        "    df = pd.DataFrame()\n",
        "    idx = 0\n",
        "    for split_number in n_sets: \n",
        "    #Sin selección de características\n",
        "        # se ignorar las otras salidas\n",
        "        _,err,ic,t_ex = entrenamiento_sin_seleccion_caracteristicas(split_number, X,Y)  \n",
        "        df.loc[idx,'CON_SEL'] = 'NO'\n",
        "        df.loc[idx,'NUM_VAR'] = X.shape[1]\n",
        "        df.loc[idx,'NUM_SPLITS'] = split_number\n",
        "        df.loc[idx,'ERROR_VALIDACION'] = err\n",
        "        df.loc[idx,'IC_STD_VALIDACION'] = ic\n",
        "        df.loc[idx,'T_EJECUCION'] = t_ex\n",
        "        idx+=1\n",
        "    print(\"termina experimentos sin selección\")\n",
        "    #Con selección de características\n",
        "    for f in n_feats:\n",
        "        for split_number in n_sets:\n",
        "            #Implemetamos la metodología de validación \n",
        "            Errores = np.ones(split_number)\n",
        "            Score = np.ones(split_number)\n",
        "            times = np.ones(split_number)\n",
        "            kf = KFold(n_splits=split_number)\n",
        "            j = 0\n",
        "            for train_index, test_index in kf.split(X):\n",
        "                \n",
        "                X_train, X_test = X[train_index], X[test_index]\n",
        "                y_train, y_test = Y[train_index], Y[test_index]\n",
        "                scaler = StandardScaler()\n",
        "                X_train = scaler.fit_transform(X_train)\n",
        "                X_test = scaler.transform(X_test)\n",
        "                \n",
        "                svc =  SVC(kernel=\"linear\", C=1)\n",
        "                \n",
        "                # se ignorar las otras salidas\n",
        "                rfe, _, _, _, t = recursive_feature_elimination_wrapper(estimator=svc,feature_numbers=f, X=X_train,Y=y_train)\n",
        "            \n",
        "                Errores[j]=accuracy_score(y_true = y_test,  y_pred=rfe.predict(X_test))\n",
        "                times[j] = t\n",
        "                j+=1\n",
        "\n",
        "            df.loc[idx,'CON_SEL'] = 'SI'\n",
        "            df.loc[idx,'NUM_VAR'] = f\n",
        "            df.loc[idx,'NUM_SPLITS'] = split_number\n",
        "            df.loc[idx,'ERROR_VALIDACION'] = np.mean(Errores)\n",
        "            df.loc[idx, 'IC_STD_VALIDACION'] = np.std(Errores)\n",
        "            df.loc[idx, 'T_EJECUCION'] = np.mean(times)\n",
        "            idx+=1\n",
        "    return df\n"
      ],
      "execution_count": 9,
      "outputs": []
    },
    {
      "cell_type": "code",
      "metadata": {
        "id": "1s6zm-_v3dx7",
        "colab": {
          "base_uri": "https://localhost:8080/"
        },
        "outputId": "39cca8a0-c00e-490d-f8f3-90406fcd5fb1"
      },
      "source": [
        "## la funcion que prueba tu implementacion\n",
        "GRADER.run_test(\"ejercicio3\", experimentar)"
      ],
      "execution_count": 10,
      "outputs": [
        {
          "output_type": "stream",
          "text": [
            "termina experimentos sin selección\n",
            "TEST EXITOSO!\n"
          ],
          "name": "stdout"
        }
      ]
    },
    {
      "cell_type": "code",
      "metadata": {
        "cellView": "form",
        "id": "-QuKwNFt3dx-"
      },
      "source": [
        "#@title Preguntas Abierta\n",
        "#@markdown ¿Con qué modelo base se está resolviendo la selección de características?\n",
        "respuesta_3 = 'Con un modelo de Maquinas de Soporte Vectorial para Clasificaci\\xF3n' #@param {type:\"string\"}"
      ],
      "execution_count": 11,
      "outputs": []
    },
    {
      "cell_type": "markdown",
      "metadata": {
        "id": "WgdADU023dyA"
      },
      "source": [
        "Ejecuta la celda de codigo para realizar los experimentos"
      ]
    },
    {
      "cell_type": "code",
      "metadata": {
        "id": "GgajzZNG3dyB",
        "colab": {
          "base_uri": "https://localhost:8080/"
        },
        "outputId": "65d31baa-fbe1-4682-99bc-c3255431b78a"
      },
      "source": [
        "dfr = experimentar(n_feats = [3, 5, 10,15,20], n_sets = [5, 10], X= x, Y=y)"
      ],
      "execution_count": 12,
      "outputs": [
        {
          "output_type": "stream",
          "text": [
            "termina experimentos sin selección\n"
          ],
          "name": "stdout"
        }
      ]
    },
    {
      "cell_type": "markdown",
      "metadata": {
        "id": "Fz0DUJdWXQME"
      },
      "source": [
        "En la siguiente celda vamos a ordenar los resultados con base a el error de validación y el tiempo de ejecucción."
      ]
    },
    {
      "cell_type": "code",
      "metadata": {
        "id": "kJE6Wcj33dyD",
        "colab": {
          "base_uri": "https://localhost:8080/",
          "height": 421
        },
        "outputId": "fa82d0f9-e556-4abd-e3b1-47cfbba7b9cb"
      },
      "source": [
        "dfr.sort_values(['ERROR_VALIDACION','T_EJECUCION'], ascending=[False, True])"
      ],
      "execution_count": 13,
      "outputs": [
        {
          "output_type": "execute_result",
          "data": {
            "text/html": [
              "<div>\n",
              "<style scoped>\n",
              "    .dataframe tbody tr th:only-of-type {\n",
              "        vertical-align: middle;\n",
              "    }\n",
              "\n",
              "    .dataframe tbody tr th {\n",
              "        vertical-align: top;\n",
              "    }\n",
              "\n",
              "    .dataframe thead th {\n",
              "        text-align: right;\n",
              "    }\n",
              "</style>\n",
              "<table border=\"1\" class=\"dataframe\">\n",
              "  <thead>\n",
              "    <tr style=\"text-align: right;\">\n",
              "      <th></th>\n",
              "      <th>CON_SEL</th>\n",
              "      <th>NUM_VAR</th>\n",
              "      <th>NUM_SPLITS</th>\n",
              "      <th>ERROR_VALIDACION</th>\n",
              "      <th>IC_STD_VALIDACION</th>\n",
              "      <th>T_EJECUCION</th>\n",
              "    </tr>\n",
              "  </thead>\n",
              "  <tbody>\n",
              "    <tr>\n",
              "      <th>7</th>\n",
              "      <td>SI</td>\n",
              "      <td>10.0</td>\n",
              "      <td>10.0</td>\n",
              "      <td>0.938903</td>\n",
              "      <td>0.054008</td>\n",
              "      <td>0.361212</td>\n",
              "    </tr>\n",
              "    <tr>\n",
              "      <th>5</th>\n",
              "      <td>SI</td>\n",
              "      <td>5.0</td>\n",
              "      <td>10.0</td>\n",
              "      <td>0.934210</td>\n",
              "      <td>0.059247</td>\n",
              "      <td>0.465775</td>\n",
              "    </tr>\n",
              "    <tr>\n",
              "      <th>11</th>\n",
              "      <td>SI</td>\n",
              "      <td>20.0</td>\n",
              "      <td>10.0</td>\n",
              "      <td>0.934166</td>\n",
              "      <td>0.045343</td>\n",
              "      <td>0.094093</td>\n",
              "    </tr>\n",
              "    <tr>\n",
              "      <th>9</th>\n",
              "      <td>SI</td>\n",
              "      <td>15.0</td>\n",
              "      <td>10.0</td>\n",
              "      <td>0.933231</td>\n",
              "      <td>0.047086</td>\n",
              "      <td>0.237080</td>\n",
              "    </tr>\n",
              "    <tr>\n",
              "      <th>4</th>\n",
              "      <td>SI</td>\n",
              "      <td>5.0</td>\n",
              "      <td>5.0</td>\n",
              "      <td>0.932760</td>\n",
              "      <td>0.050339</td>\n",
              "      <td>0.393442</td>\n",
              "    </tr>\n",
              "    <tr>\n",
              "      <th>1</th>\n",
              "      <td>NO</td>\n",
              "      <td>22.0</td>\n",
              "      <td>10.0</td>\n",
              "      <td>0.932746</td>\n",
              "      <td>0.043822</td>\n",
              "      <td>0.032158</td>\n",
              "    </tr>\n",
              "    <tr>\n",
              "      <th>0</th>\n",
              "      <td>NO</td>\n",
              "      <td>22.0</td>\n",
              "      <td>5.0</td>\n",
              "      <td>0.932288</td>\n",
              "      <td>0.042333</td>\n",
              "      <td>0.029256</td>\n",
              "    </tr>\n",
              "    <tr>\n",
              "      <th>6</th>\n",
              "      <td>SI</td>\n",
              "      <td>10.0</td>\n",
              "      <td>5.0</td>\n",
              "      <td>0.930869</td>\n",
              "      <td>0.044681</td>\n",
              "      <td>0.304606</td>\n",
              "    </tr>\n",
              "    <tr>\n",
              "      <th>10</th>\n",
              "      <td>SI</td>\n",
              "      <td>20.0</td>\n",
              "      <td>5.0</td>\n",
              "      <td>0.929935</td>\n",
              "      <td>0.043191</td>\n",
              "      <td>0.080631</td>\n",
              "    </tr>\n",
              "    <tr>\n",
              "      <th>8</th>\n",
              "      <td>SI</td>\n",
              "      <td>15.0</td>\n",
              "      <td>5.0</td>\n",
              "      <td>0.925700</td>\n",
              "      <td>0.044712</td>\n",
              "      <td>0.200121</td>\n",
              "    </tr>\n",
              "    <tr>\n",
              "      <th>3</th>\n",
              "      <td>SI</td>\n",
              "      <td>3.0</td>\n",
              "      <td>10.0</td>\n",
              "      <td>0.916379</td>\n",
              "      <td>0.076269</td>\n",
              "      <td>0.491121</td>\n",
              "    </tr>\n",
              "    <tr>\n",
              "      <th>2</th>\n",
              "      <td>SI</td>\n",
              "      <td>3.0</td>\n",
              "      <td>5.0</td>\n",
              "      <td>0.900312</td>\n",
              "      <td>0.061758</td>\n",
              "      <td>0.419106</td>\n",
              "    </tr>\n",
              "  </tbody>\n",
              "</table>\n",
              "</div>"
            ],
            "text/plain": [
              "   CON_SEL  NUM_VAR  ...  IC_STD_VALIDACION  T_EJECUCION\n",
              "7       SI     10.0  ...           0.054008     0.361212\n",
              "5       SI      5.0  ...           0.059247     0.465775\n",
              "11      SI     20.0  ...           0.045343     0.094093\n",
              "9       SI     15.0  ...           0.047086     0.237080\n",
              "4       SI      5.0  ...           0.050339     0.393442\n",
              "1       NO     22.0  ...           0.043822     0.032158\n",
              "0       NO     22.0  ...           0.042333     0.029256\n",
              "6       SI     10.0  ...           0.044681     0.304606\n",
              "10      SI     20.0  ...           0.043191     0.080631\n",
              "8       SI     15.0  ...           0.044712     0.200121\n",
              "3       SI      3.0  ...           0.076269     0.491121\n",
              "2       SI      3.0  ...           0.061758     0.419106\n",
              "\n",
              "[12 rows x 6 columns]"
            ]
          },
          "metadata": {
            "tags": []
          },
          "execution_count": 13
        }
      ]
    },
    {
      "cell_type": "markdown",
      "metadata": {
        "id": "tCYxXwn63dyF"
      },
      "source": [
        "Y ahora vamos a ver como se relaciona el tiempo de ejecución con los splits, la selección de caracteristicas y le rendimiento del modelo"
      ]
    },
    {
      "cell_type": "code",
      "metadata": {
        "id": "aICJy37t3dyF",
        "colab": {
          "base_uri": "https://localhost:8080/",
          "height": 399
        },
        "outputId": "2c583e26-8b37-45ed-ee64-cf3c051218ab"
      },
      "source": [
        "import seaborn as sns\n",
        "d_toplot = pd.melt(dfr,id_vars=['CON_SEL', 'NUM_VAR', 'NUM_SPLITS'], value_vars=['ERROR_VALIDACION', 'T_EJECUCION'])\n",
        "sns.relplot(data = d_toplot, x = 'NUM_VAR', y = 'value', hue = 'CON_SEL', style = 'NUM_SPLITS', col = 'variable', kind='scatter', facet_kws = {'sharey' : False}, aspect=1.2,s=150)"
      ],
      "execution_count": 15,
      "outputs": [
        {
          "output_type": "execute_result",
          "data": {
            "text/plain": [
              "<seaborn.axisgrid.FacetGrid at 0x7f3607e38a90>"
            ]
          },
          "metadata": {
            "tags": []
          },
          "execution_count": 15
        },
        {
          "output_type": "display_data",
          "data": {
            "image/png": "[encoded data removed]",
            "text/plain": [
              "<Figure size 941.375x360 with 2 Axes>"
            ]
          },
          "metadata": {
            "tags": [],
            "needs_background": "light"
          }
        }
      ]
    },
    {
      "cell_type": "code",
      "metadata": {
        "cellView": "form",
        "id": "xrpLG8233dyH"
      },
      "source": [
        "#@title Pregunta Abierta\n",
        "#@markdown ¿Que relación observa entre tiempo de ejecución, el desempeño del modelo y el número de caracteristicas? Explicar con base a los resultados\n",
        "respuesta_4 = 'La relaci\\xF3n que se observa entre el tiempo de ejecucion y el n\\xFAmero de caracteristicas, es que a mayor numero de caracteristicas menor tiempo de ejecuci\\xF3n. En cuanto la desempe\\xF1o del modelo no hay relacion clara entre los dos aspectos anteriores, ya que la variacion del desempe\\xF1o es muy peque\\xF1a entre todos los resultados.' #@param {type:\"string\"}"
      ],
      "execution_count": 14,
      "outputs": []
    },
    {
      "cell_type": "markdown",
      "metadata": {
        "id": "ZJy4UX-d3dyJ"
      },
      "source": [
        "Ahora use el número de características que lograron el mejor desempeño para entrenar nuevamente un modelo y saber que características tienen el mejor poder predictivo."
      ]
    },
    {
      "cell_type": "code",
      "metadata": {
        "id": "ywXmu0yH3dyJ",
        "colab": {
          "base_uri": "https://localhost:8080/"
        },
        "outputId": "a8045cd3-1ee4-4203-c3d7-c5b798ce994d"
      },
      "source": [
        "svc =  SVC(kernel=\"linear\", C=1)\n",
        "rfe, feature_mask, _, _, _ = recursive_feature_elimination_wrapper(svc, 10, x,y)\n",
        "print(\"esta es la mascara (deberia ser solo valores True y False) \\n\", feature_mask)\n"
      ],
      "execution_count": 29,
      "outputs": [
        {
          "output_type": "stream",
          "text": [
            "esta es la mascara (deberia ser solo valores True y False) \n",
            " [ True  True False False  True False  True False  True False False False\n",
            " False False  True  True False  True False False  True  True]\n"
          ],
          "name": "stdout"
        }
      ]
    },
    {
      "cell_type": "code",
      "metadata": {
        "cellView": "form",
        "id": "HAI-9lx-X8EG"
      },
      "source": [
        "#@title Pregunta Abierta\n",
        "#@markdown Utilizando los resultados obtenidos ¿cuál sería su sugerencia de apoyo diagnóstico para un médico que esté trabajando en un caso enmarcado en esta base de datos?\n",
        "respuesta_5 = 'Que las caracteristicas mas importantes a tener en cuenta para saber el diagonistico del paciente son LB,AC,DL,DP,MSTV, Nmax, Mean,Tendency y Class ' #@param {type:\"string\"}"
      ],
      "execution_count": 17,
      "outputs": []
    },
    {
      "cell_type": "code",
      "metadata": {
        "id": "MjCSjpNM2yiA",
        "colab": {
          "base_uri": "https://localhost:8080/"
        },
        "outputId": "a38ed3f7-9355-41a5-fa4d-1d3ea1801607"
      },
      "source": [
        "GRADER.check_tests()"
      ],
      "execution_count": 30,
      "outputs": [
        {
          "output_type": "stream",
          "text": [
            "Todo se ve ok. Asegurate de responder las preguntas abiertas y envia e archivo al formulario ¡buen trabajo!\n"
          ],
          "name": "stdout"
        }
      ]
    },
    {
      "cell_type": "code",
      "metadata": {
        "id": "lthm0tYr3dyO",
        "cellView": "form"
      },
      "source": [
        "#@title Integrantes\n",
        "codigo_integrante_1 ='1017251689' #@param {type:\"string\"}\n",
        "codigo_integrante_2 = ''  #@param {type:\"string\"}"
      ],
      "execution_count": 19,
      "outputs": []
    },
    {
      "cell_type": "markdown",
      "metadata": {
        "id": "df-X7bYE3dyP"
      },
      "source": [
        "----\n",
        "esta linea de codigo va fallar, es de uso exclusivo de los profesores\n"
      ]
    },
    {
      "cell_type": "code",
      "metadata": {
        "id": "gBWgsJT83dyQ",
        "colab": {
          "base_uri": "https://localhost:8080/"
        },
        "outputId": "eb3a6433-3a2e-4e79-d195-3f25b3bb52b6"
      },
      "source": [
        "GRADER.grade()"
      ],
      "execution_count": 20,
      "outputs": [
        {
          "output_type": "stream",
          "text": [
            "uso del docente\n"
          ],
          "name": "stdout"
        }
      ]
    }
  ]
}